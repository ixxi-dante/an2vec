{
 "cells": [
  {
   "cell_type": "markdown",
   "metadata": {},
   "source": [
    "# Graph-convolutional auto-encoder: BlogCatalog"
   ]
  },
  {
   "cell_type": "markdown",
   "metadata": {},
   "source": [
    "## Imports and setup"
   ]
  },
  {
   "cell_type": "code",
   "execution_count": 9,
   "metadata": {},
   "outputs": [],
   "source": [
    "import time\n",
    "import random\n",
    "import csv\n",
    "from collections import defaultdict\n",
    "import os\n",
    "\n",
    "import numpy as np\n",
    "import scipy as sp\n",
    "import scipy.stats\n",
    "import sklearn.preprocessing\n",
    "import matplotlib.pyplot as plt\n",
    "import seaborn as sb\n",
    "import networkx as nx\n",
    "\n",
    "import keras\n",
    "from keras import backend as K\n",
    "import tensorflow as tf\n",
    "from tensorflow.python import debug as tf_debug\n",
    "from keras.utils.vis_utils import model_to_dot\n",
    "from keras_tqdm import TQDMNotebookCallback as TQDMCallback\n",
    "\n",
    "from progressbar import ProgressBar\n",
    "from IPython.display import SVG, HTML, display\n",
    "\n",
    "import nw2vec\n",
    "from nw2vec import ae\n",
    "from nw2vec import utils\n",
    "from nw2vec import codecs\n",
    "from nw2vec import layers\n",
    "from nw2vec import viz\n",
    "from nw2vec import batching\n",
    "from nw2vec import graph"
   ]
  },
  {
   "cell_type": "code",
   "execution_count": 2,
   "metadata": {},
   "outputs": [],
   "source": [
    "os.environ['CUDA_VISIBLE_DEVICES'] = '1'"
   ]
  },
  {
   "cell_type": "markdown",
   "metadata": {},
   "source": [
    "### Model drawing routines"
   ]
  },
  {
   "cell_type": "code",
   "execution_count": 3,
   "metadata": {},
   "outputs": [],
   "source": [
    "def plot_ξ_distribution(g, q_model, adj, features):\n",
    "    #g, l, k = glk\n",
    "    #palette = np.concatenate([np.array(sb.color_palette(n_colors=l)),\n",
    "    #                          .5 * np.ones((l, 1))],\n",
    "    #                         axis=1)\n",
    "    #communities = ([[i] for i in range(l)] * np.ones((l, k), dtype=np.int32)).reshape(-1)\n",
    "    fig, (ax1, ax2) = plt.subplots(1, 2, figsize=(12, 4))#, sharex=True, sharey=True)\n",
    "\n",
    "    x, _, feeds = next(batching.batches(vae, adj, features, target_func,\n",
    "                                        adj.shape[0], 1,\n",
    "                                        p=1, q=1, neighbour_samples=None))\n",
    "    q_pred = q_model.predict_on_fed_batch(x, feeds=feeds)\n",
    "\n",
    "    # KDE plots\n",
    "    #q_pred_ξ_sample = K.eval(codecs.Gaussian(q_pred).stochastic_value(100))\n",
    "    #for i in range(l):\n",
    "    #    x = q_pred_ξ_sample[i * k:(i + 1) * k, :, 0].flatten()\n",
    "    #    y = q_pred_ξ_sample[i * k:(i + 1) * k, :, 1].flatten()\n",
    "    #    sb.kdeplot(x, y, cmap=sb.light_palette(palette[i], as_cmap=True),\n",
    "    #               shade=True, shade_lowest=False, ax=ax1)\n",
    "    #ax1.set_title(r'$\\xi$ density for each community (flat nodes+sampling)')\n",
    "    \n",
    "    # μ plots\n",
    "    q_pred_μ = q_pred[:, :2].T\n",
    "    #ax2.scatter(q_pred_μ[0], q_pred_μ[1], s=250)#, c=palette[communities])\n",
    "    sb.kdeplot(q_pred_μ[0], q_pred_μ[1], ax=ax2)\n",
    "    #for i, (x, y) in enumerate(q_pred_μ.T):\n",
    "    #    ax2.text(x, y, str(i), ha='center', va='center', color='white')\n",
    "    ax2.set_title(r'$\\mu = \\left<\\xi\\right>$ for each node')\n",
    "    \n",
    "    # Box representing the μ plots in the KDE plots\n",
    "    #ax1.hlines(ax2.get_ylim(), *ax2.get_xlim(), colors='lightgrey')\n",
    "    #ax1.vlines(ax2.get_xlim(), *ax2.get_ylim(), colors='lightgrey')"
   ]
  },
  {
   "cell_type": "markdown",
   "metadata": {},
   "source": [
    "## Load data"
   ]
  },
  {
   "cell_type": "code",
   "execution_count": 4,
   "metadata": {},
   "outputs": [],
   "source": [
    "### Get the full list of nodes and groups ###\n",
    "\n",
    "crop = None\n",
    "\n",
    "# nodes\n",
    "nodes = []\n",
    "with open('data/BlogCatalog-dataset/data/nodes.csv') as csvfile:\n",
    "    reader = csv.reader(csvfile)\n",
    "    nodes = [int(row[0]) for row in reader]\n",
    "if crop is not None:\n",
    "    nodes = nodes[:crop]\n",
    "assert len(nodes) == len(set(nodes))\n",
    "nodes = set(nodes)\n",
    "\n",
    "# groups\n",
    "groups = []\n",
    "with open('data/BlogCatalog-dataset/data/groups.csv') as csvfile:\n",
    "    reader = csv.reader(csvfile)\n",
    "    groups = [int(row[0]) for row in reader]\n",
    "assert len(groups) == len(set(groups))\n",
    "groups = set(groups)\n",
    "\n",
    "\n",
    "### Generate graph from edges and node data ###\n",
    "\n",
    "# Read edges.csv and make a network out of it\n",
    "edges = defaultdict(list)\n",
    "with open('data/BlogCatalog-dataset/data/edges.csv') as csvfile:\n",
    "    reader = csv.reader(csvfile)\n",
    "    for row in reader:\n",
    "        if crop is not None:\n",
    "            if int(row[0]) in nodes and int(row[1]) in nodes:\n",
    "                edges[int(row[0])].append(int(row[1]))\n",
    "        else:\n",
    "            edges[int(row[0])].append(int(row[1]))\n",
    "\n",
    "g = nx.from_dict_of_lists(edges, create_using=nx.Graph())\n",
    "if crop is not None:\n",
    "    g.add_nodes_from(nodes)\n",
    "\n",
    "# Read group-edges.csv and add that info to each node\n",
    "group_edges = defaultdict(list)\n",
    "with open('data/BlogCatalog-dataset/data/group-edges.csv') as csvfile:\n",
    "    reader = csv.reader(csvfile)\n",
    "    for row in reader:\n",
    "        if crop is not None:\n",
    "            if int(row[0]) in nodes:\n",
    "                group_edges[int(row[0])].append(int(row[1]))\n",
    "        else:\n",
    "            group_edges[int(row[0])].append(int(row[1]))\n",
    "\n",
    "for node, data in g.nodes.items():\n",
    "    data['groups'] = group_edges[node]\n",
    "\n",
    "\n",
    "### Sanity checks ###\n",
    "assert set(g.nodes) == nodes\n",
    "#CROP\n",
    "if crop is None:\n",
    "    assert set().union(*[groups for _, groups in g.nodes(data='groups')]) == groups"
   ]
  },
  {
   "cell_type": "code",
   "execution_count": 5,
   "metadata": {},
   "outputs": [],
   "source": [
    "#fig, ax = plt.subplots(figsize=(15, 15))\n",
    "#layout = nx.drawing.layout.spring_layout(g)\n",
    "#nx.draw_networkx(g, pos=layout, with_labels=False, node_size=5, ax=ax)"
   ]
  },
  {
   "cell_type": "code",
   "execution_count": 6,
   "metadata": {},
   "outputs": [],
   "source": [
    "#sb.set()\n",
    "#n_batches = int(np.ceil(len(g.nodes) / batch_size))\n",
    "#\n",
    "#cols = 5\n",
    "#rows = int(np.ceil(n_batches / cols))\n",
    "#figscale = 10\n",
    "#fig, axes = plt.subplots(rows, cols, figsize=(cols * figscale, rows * figscale), sharex=True, sharey=True)\n",
    "#fig.tight_layout()\n",
    "#blue, green, red = sb.color_palette(n_colors=3)\n",
    "#\n",
    "#drawn = set()\n",
    "#for i, nodes in enumerate(batching.jumpy_walks(nx.adjacency_matrix(g), batch_size, max_walk_length)):\n",
    "#    colors = np.ones((len(g.nodes), 3)) * blue\n",
    "#    colors[list(nodes)] = red\n",
    "#    colors[list(drawn)] = green\n",
    "#    nx.draw_networkx(g, pos=layout,\n",
    "#                     node_size=80, with_labels=False,\n",
    "#                     edge_color='grey',\n",
    "#                     node_color=colors, vmin=0, vmax=1,\n",
    "#                     ax=axes[i // cols, i % cols])\n",
    "#    drawn.update(nodes)"
   ]
  },
  {
   "cell_type": "markdown",
   "metadata": {},
   "source": [
    "## Set node labels"
   ]
  },
  {
   "cell_type": "code",
   "execution_count": 7,
   "metadata": {},
   "outputs": [],
   "source": [
    "labels = np.zeros((len(nodes), len(groups)))\n",
    "nodes_offset = min(nodes)\n",
    "groups_offset = min(groups)\n",
    "for n, data in g.nodes.items():\n",
    "    labels[n - nodes_offset, np.array(data['groups']) - groups_offset] = 1\n",
    "#labels += np.random.normal(scale=.2, size=labels.shape)"
   ]
  },
  {
   "cell_type": "code",
   "execution_count": 8,
   "metadata": {},
   "outputs": [
    {
     "data": {
      "text/plain": [
       "<matplotlib.image.AxesImage at 0x7ff43bab09b0>"
      ]
     },
     "execution_count": 8,
     "metadata": {},
     "output_type": "execute_result"
    },
    {
     "data": {
      "image/png": "[encoded data removed]",
      "text/plain": [
       "<Figure size 432x288 with 1 Axes>"
      ]
     },
     "metadata": {},
     "output_type": "display_data"
    }
   ],
   "source": [
    "plt.imshow(utils.scale_center(labels[:100, :][:, :100]))"
   ]
  },
  {
   "cell_type": "markdown",
   "metadata": {},
   "source": [
    "## Build the VAE"
   ]
  },
  {
   "cell_type": "code",
   "execution_count": 11,
   "metadata": {},
   "outputs": [],
   "source": [
    "# VAE Parameters\n",
    "n_nodes = len(nodes)\n",
    "adj = nx.adjacency_matrix(g).astype(np.float32)\n",
    "\n",
    "n_ξ_samples = 5\n",
    "dim_data, dim_l1, dim_ξ = len(groups), 10, 2\n",
    "dims = (dim_data, dim_l1, dim_ξ)\n",
    "use_bias = False\n",
    "\n",
    "# Actual VAE\n",
    "q_model, q_codecs = ae.build_q(dims, use_bias=use_bias)\n",
    "p_builder = ae.build_p_builder(dims, use_bias=use_bias)\n",
    "vae, vae_codecs = ae.build_vae(\n",
    "    (q_model, q_codecs), p_builder,\n",
    "    n_ξ_samples,\n",
    "    [\n",
    "        1.0,  # q loss\n",
    "        1.0,  # p adj loss\n",
    "        1.0,  # p v loss\n",
    "    ],\n",
    ")"
   ]
  },
  {
   "cell_type": "code",
   "execution_count": 12,
   "metadata": {},
   "outputs": [
    {
     "data": {
      "image/svg+xml": [
       "<svg height=\"375pt\" viewBox=\"0.00 0.00 1716.00 375.00\" width=\"1716pt\" xmlns=\"http://www.w3.org/2000/svg\" xmlns:xlink=\"http://www.w3.org/1999/xlink\">\n",
       "<g class=\"graph\" id=\"graph0\" transform=\"scale(1 1) rotate(0) translate(4 371)\">\n",
       "<title>G</title>\n",
       "<polygon fill=\"white\" points=\"-4,4 -4,-371 1712,-371 1712,4 -4,4\" stroke=\"none\"/>\n",
       "<!-- 140686720776456 -->\n",
       "<g class=\"node\" id=\"node1\"><title>140686720776456</title>\n",
       "<polygon fill=\"none\" points=\"27,-275.5 27,-311.5 182,-311.5 182,-275.5 27,-275.5\" stroke=\"black\"/>\n",
       "<text font-family=\"Times,serif\" font-size=\"14.00\" text-anchor=\"middle\" x=\"104.5\" y=\"-289.8\">q_layer1_adj: InputLayer</text>\n",
       "</g>\n",
       "<!-- 140686720774888 -->\n",
       "<g class=\"node\" id=\"node6\"><title>140686720774888</title>\n",
       "<polygon fill=\"none\" points=\"313.5,-220.5 313.5,-256.5 403.5,-256.5 403.5,-220.5 313.5,-220.5\" stroke=\"black\"/>\n",
       "<text font-family=\"Times,serif\" font-size=\"14.00\" text-anchor=\"middle\" x=\"358.5\" y=\"-234.8\">q_layer1: GC</text>\n",
       "</g>\n",
       "<!-- 140686720776456&#45;&gt;140686720774888 -->\n",
       "<g class=\"edge\" id=\"edge1\"><title>140686720776456-&gt;140686720774888</title>\n",
       "<path d=\"M182.135,-276.774C221.278,-268.231 267.971,-258.04 303.33,-250.323\" fill=\"none\" stroke=\"black\"/>\n",
       "<polygon fill=\"black\" points=\"304.429,-253.665 313.452,-248.114 302.936,-246.826 304.429,-253.665\" stroke=\"black\"/>\n",
       "</g>\n",
       "<!-- 140686720775504 -->\n",
       "<g class=\"node\" id=\"node2\"><title>140686720775504</title>\n",
       "<polygon fill=\"none\" points=\"0,-220.5 0,-256.5 209,-256.5 209,-220.5 0,-220.5\" stroke=\"black\"/>\n",
       "<text font-family=\"Times,serif\" font-size=\"14.00\" text-anchor=\"middle\" x=\"104.5\" y=\"-234.8\">q_layer1_output_mask: InputLayer</text>\n",
       "</g>\n",
       "<!-- 140686720775504&#45;&gt;140686720774888 -->\n",
       "<g class=\"edge\" id=\"edge2\"><title>140686720775504-&gt;140686720774888</title>\n",
       "<path d=\"M209.089,-238.5C241.349,-238.5 275.635,-238.5 303.116,-238.5\" fill=\"none\" stroke=\"black\"/>\n",
       "<polygon fill=\"black\" points=\"303.296,-242 313.296,-238.5 303.296,-235 303.296,-242\" stroke=\"black\"/>\n",
       "</g>\n",
       "<!-- 140686720774832 -->\n",
       "<g class=\"node\" id=\"node3\"><title>140686720774832</title>\n",
       "<polygon fill=\"none\" points=\"42,-165.5 42,-201.5 167,-201.5 167,-165.5 42,-165.5\" stroke=\"black\"/>\n",
       "<text font-family=\"Times,serif\" font-size=\"14.00\" text-anchor=\"middle\" x=\"104.5\" y=\"-179.8\">q_input: InputLayer</text>\n",
       "</g>\n",
       "<!-- 140686720774832&#45;&gt;140686720774888 -->\n",
       "<g class=\"edge\" id=\"edge3\"><title>140686720774832-&gt;140686720774888</title>\n",
       "<path d=\"M167.146,-196.955C208.922,-206.072 263.6,-218.006 303.63,-226.743\" fill=\"none\" stroke=\"black\"/>\n",
       "<polygon fill=\"black\" points=\"302.959,-230.179 313.475,-228.891 304.452,-223.34 302.959,-230.179\" stroke=\"black\"/>\n",
       "</g>\n",
       "<!-- 140686720837952 -->\n",
       "<g class=\"node\" id=\"node4\"><title>140686720837952</title>\n",
       "<polygon fill=\"none\" points=\"276.5,-275.5 276.5,-311.5 440.5,-311.5 440.5,-275.5 276.5,-275.5\" stroke=\"black\"/>\n",
       "<text font-family=\"Times,serif\" font-size=\"14.00\" text-anchor=\"middle\" x=\"358.5\" y=\"-289.8\">q_mu_flat_adj: InputLayer</text>\n",
       "</g>\n",
       "<!-- 140686720837560 -->\n",
       "<g class=\"node\" id=\"node11\"><title>140686720837560</title>\n",
       "<polygon fill=\"none\" points=\"512.5,-247.5 512.5,-283.5 611.5,-283.5 611.5,-247.5 512.5,-247.5\" stroke=\"black\"/>\n",
       "<text font-family=\"Times,serif\" font-size=\"14.00\" text-anchor=\"middle\" x=\"562\" y=\"-261.8\">q_mu_flat: GC</text>\n",
       "</g>\n",
       "<!-- 140686720837952&#45;&gt;140686720837560 -->\n",
       "<g class=\"edge\" id=\"edge4\"><title>140686720837952-&gt;140686720837560</title>\n",
       "<path d=\"M440.587,-282.232C461.166,-279.373 482.884,-276.355 502.123,-273.681\" fill=\"none\" stroke=\"black\"/>\n",
       "<polygon fill=\"black\" points=\"502.812,-277.119 512.236,-272.276 501.849,-270.186 502.812,-277.119\" stroke=\"black\"/>\n",
       "</g>\n",
       "<!-- 140686720777184 -->\n",
       "<g class=\"node\" id=\"node5\"><title>140686720777184</title>\n",
       "<polygon fill=\"none\" points=\"249.5,-330.5 249.5,-366.5 467.5,-366.5 467.5,-330.5 249.5,-330.5\" stroke=\"black\"/>\n",
       "<text font-family=\"Times,serif\" font-size=\"14.00\" text-anchor=\"middle\" x=\"358.5\" y=\"-344.8\">q_mu_flat_output_mask: InputLayer</text>\n",
       "</g>\n",
       "<!-- 140686720777184&#45;&gt;140686720837560 -->\n",
       "<g class=\"edge\" id=\"edge5\"><title>140686720777184-&gt;140686720837560</title>\n",
       "<path d=\"M447.013,-330.491C455.58,-327.84 464.04,-324.852 472,-321.5 491.732,-313.19 512.064,-300.741 528.305,-289.689\" fill=\"none\" stroke=\"black\"/>\n",
       "<polygon fill=\"black\" points=\"530.665,-292.311 536.877,-283.728 526.668,-286.564 530.665,-292.311\" stroke=\"black\"/>\n",
       "</g>\n",
       "<!-- 140686720774888&#45;&gt;140686720837560 -->\n",
       "<g class=\"edge\" id=\"edge6\"><title>140686720774888-&gt;140686720837560</title>\n",
       "<path d=\"M403.72,-244.425C432.676,-248.305 470.844,-253.42 502.329,-257.638\" fill=\"none\" stroke=\"black\"/>\n",
       "<polygon fill=\"black\" points=\"501.919,-261.115 512.296,-258.974 502.849,-254.177 501.919,-261.115\" stroke=\"black\"/>\n",
       "</g>\n",
       "<!-- 140686672247216 -->\n",
       "<g class=\"node\" id=\"node12\"><title>140686672247216</title>\n",
       "<polygon fill=\"none\" points=\"508,-165.5 508,-201.5 616,-201.5 616,-165.5 508,-165.5\" stroke=\"black\"/>\n",
       "<text font-family=\"Times,serif\" font-size=\"14.00\" text-anchor=\"middle\" x=\"562\" y=\"-179.8\">q_logD_flat: GC</text>\n",
       "</g>\n",
       "<!-- 140686720774888&#45;&gt;140686672247216 -->\n",
       "<g class=\"edge\" id=\"edge9\"><title>140686720774888-&gt;140686672247216</title>\n",
       "<path d=\"M403.76,-228.624C424.559,-223.793 449.642,-217.692 472,-211.5 480.506,-209.144 489.424,-206.523 498.192,-203.855\" fill=\"none\" stroke=\"black\"/>\n",
       "<polygon fill=\"black\" points=\"499.472,-207.124 507.999,-200.836 497.412,-200.433 499.472,-207.124\" stroke=\"black\"/>\n",
       "</g>\n",
       "<!-- 140686718081848 -->\n",
       "<g class=\"node\" id=\"node13\"><title>140686718081848</title>\n",
       "<polygon fill=\"none\" points=\"518,-83.5 518,-119.5 606,-119.5 606,-83.5 518,-83.5\" stroke=\"black\"/>\n",
       "<text font-family=\"Times,serif\" font-size=\"14.00\" text-anchor=\"middle\" x=\"562\" y=\"-97.8\">q_u_flat: GC</text>\n",
       "</g>\n",
       "<!-- 140686720774888&#45;&gt;140686718081848 -->\n",
       "<g class=\"edge\" id=\"edge12\"><title>140686720774888-&gt;140686718081848</title>\n",
       "<path d=\"M403.506,-235.606C425.69,-232.343 452.045,-225.548 472,-211.5 495.889,-194.682 489.784,-179.341 508,-156.5 516.139,-146.295 525.855,-135.806 534.732,-126.76\" fill=\"none\" stroke=\"black\"/>\n",
       "<polygon fill=\"black\" points=\"537.352,-129.089 541.938,-119.539 532.397,-124.145 537.352,-129.089\" stroke=\"black\"/>\n",
       "</g>\n",
       "<!-- 140686717979000 -->\n",
       "<g class=\"node\" id=\"node7\"><title>140686717979000</title>\n",
       "<polygon fill=\"none\" points=\"272,-110.5 272,-146.5 445,-146.5 445,-110.5 272,-110.5\" stroke=\"black\"/>\n",
       "<text font-family=\"Times,serif\" font-size=\"14.00\" text-anchor=\"middle\" x=\"358.5\" y=\"-124.8\">q_logD_flat_adj: InputLayer</text>\n",
       "</g>\n",
       "<!-- 140686717979000&#45;&gt;140686672247216 -->\n",
       "<g class=\"edge\" id=\"edge7\"><title>140686717979000-&gt;140686672247216</title>\n",
       "<path d=\"M434.374,-146.573C446.963,-149.773 459.874,-153.154 472,-156.5 480.482,-158.84 489.385,-161.408 498.146,-164\" fill=\"none\" stroke=\"black\"/>\n",
       "<polygon fill=\"black\" points=\"497.364,-167.419 507.948,-166.925 499.367,-160.711 497.364,-167.419\" stroke=\"black\"/>\n",
       "</g>\n",
       "<!-- 140686718260896 -->\n",
       "<g class=\"node\" id=\"node8\"><title>140686718260896</title>\n",
       "<polygon fill=\"none\" points=\"245,-165.5 245,-201.5 472,-201.5 472,-165.5 245,-165.5\" stroke=\"black\"/>\n",
       "<text font-family=\"Times,serif\" font-size=\"14.00\" text-anchor=\"middle\" x=\"358.5\" y=\"-179.8\">q_logD_flat_output_mask: InputLayer</text>\n",
       "</g>\n",
       "<!-- 140686718260896&#45;&gt;140686672247216 -->\n",
       "<g class=\"edge\" id=\"edge8\"><title>140686718260896-&gt;140686672247216</title>\n",
       "<path d=\"M472.033,-183.5C480.78,-183.5 489.407,-183.5 497.645,-183.5\" fill=\"none\" stroke=\"black\"/>\n",
       "<polygon fill=\"black\" points=\"497.852,-187 507.852,-183.5 497.852,-180 497.852,-187\" stroke=\"black\"/>\n",
       "</g>\n",
       "<!-- 140686717107952 -->\n",
       "<g class=\"node\" id=\"node9\"><title>140686717107952</title>\n",
       "<polygon fill=\"none\" points=\"282.5,-0.5 282.5,-36.5 434.5,-36.5 434.5,-0.5 282.5,-0.5\" stroke=\"black\"/>\n",
       "<text font-family=\"Times,serif\" font-size=\"14.00\" text-anchor=\"middle\" x=\"358.5\" y=\"-14.8\">q_u_flat_adj: InputLayer</text>\n",
       "</g>\n",
       "<!-- 140686717107952&#45;&gt;140686718081848 -->\n",
       "<g class=\"edge\" id=\"edge10\"><title>140686717107952-&gt;140686718081848</title>\n",
       "<path d=\"M434.729,-32.9434C447.4,-36.3941 460.245,-40.5498 472,-45.5 491.732,-53.8097 512.064,-66.259 528.305,-77.3109\" fill=\"none\" stroke=\"black\"/>\n",
       "<polygon fill=\"black\" points=\"526.668,-80.436 536.877,-83.2719 530.665,-74.689 526.668,-80.436\" stroke=\"black\"/>\n",
       "</g>\n",
       "<!-- 140686717405224 -->\n",
       "<g class=\"node\" id=\"node10\"><title>140686717405224</title>\n",
       "<polygon fill=\"none\" points=\"255.5,-55.5 255.5,-91.5 461.5,-91.5 461.5,-55.5 255.5,-55.5\" stroke=\"black\"/>\n",
       "<text font-family=\"Times,serif\" font-size=\"14.00\" text-anchor=\"middle\" x=\"358.5\" y=\"-69.8\">q_u_flat_output_mask: InputLayer</text>\n",
       "</g>\n",
       "<!-- 140686717405224&#45;&gt;140686718081848 -->\n",
       "<g class=\"edge\" id=\"edge11\"><title>140686717405224-&gt;140686718081848</title>\n",
       "<path d=\"M461.726,-87.7051C477.561,-89.9055 493.347,-92.0991 507.52,-94.0685\" fill=\"none\" stroke=\"black\"/>\n",
       "<polygon fill=\"black\" points=\"507.146,-97.5501 517.532,-95.4598 508.109,-90.6167 507.146,-97.5501\" stroke=\"black\"/>\n",
       "</g>\n",
       "<!-- 140686717212824 -->\n",
       "<g class=\"node\" id=\"node14\"><title>140686717212824</title>\n",
       "<polygon fill=\"none\" points=\"652,-165.5 652,-201.5 833,-201.5 833,-165.5 652,-165.5\" stroke=\"black\"/>\n",
       "<text font-family=\"Times,serif\" font-size=\"14.00\" text-anchor=\"middle\" x=\"742.5\" y=\"-179.8\">q_mulogDu_flat: Concatenate</text>\n",
       "</g>\n",
       "<!-- 140686720837560&#45;&gt;140686717212824 -->\n",
       "<g class=\"edge\" id=\"edge13\"><title>140686720837560-&gt;140686717212824</title>\n",
       "<path d=\"M602.615,-247.302C629.283,-235.05 664.621,-218.817 692.977,-205.791\" fill=\"none\" stroke=\"black\"/>\n",
       "<polygon fill=\"black\" points=\"694.677,-208.861 702.303,-201.506 691.755,-202.5 694.677,-208.861\" stroke=\"black\"/>\n",
       "</g>\n",
       "<!-- 140686672247216&#45;&gt;140686717212824 -->\n",
       "<g class=\"edge\" id=\"edge14\"><title>140686672247216-&gt;140686717212824</title>\n",
       "<path d=\"M616.073,-183.5C624.286,-183.5 632.991,-183.5 641.835,-183.5\" fill=\"none\" stroke=\"black\"/>\n",
       "<polygon fill=\"black\" points=\"641.86,-187 651.86,-183.5 641.86,-180 641.86,-187\" stroke=\"black\"/>\n",
       "</g>\n",
       "<!-- 140686718081848&#45;&gt;140686717212824 -->\n",
       "<g class=\"edge\" id=\"edge15\"><title>140686718081848-&gt;140686717212824</title>\n",
       "<path d=\"M602.615,-119.698C629.283,-131.95 664.621,-148.183 692.977,-161.209\" fill=\"none\" stroke=\"black\"/>\n",
       "<polygon fill=\"black\" points=\"691.755,-164.5 702.303,-165.494 694.677,-158.139 691.755,-164.5\" stroke=\"black\"/>\n",
       "</g>\n",
       "<!-- 140686717054760 -->\n",
       "<g class=\"node\" id=\"node15\"><title>140686717054760</title>\n",
       "<polygon fill=\"none\" points=\"869,-165.5 869,-201.5 1164,-201.5 1164,-165.5 869,-165.5\" stroke=\"black\"/>\n",
       "<text font-family=\"Times,serif\" font-size=\"14.00\" text-anchor=\"middle\" x=\"1016.5\" y=\"-179.8\">parametrised_stochastic_1: ParametrisedStochastic</text>\n",
       "</g>\n",
       "<!-- 140686717212824&#45;&gt;140686717054760 -->\n",
       "<g class=\"edge\" id=\"edge16\"><title>140686717212824-&gt;140686717054760</title>\n",
       "<path d=\"M833.317,-183.5C841.547,-183.5 850.033,-183.5 858.634,-183.5\" fill=\"none\" stroke=\"black\"/>\n",
       "<polygon fill=\"black\" points=\"858.774,-187 868.774,-183.5 858.774,-180 858.774,-187\" stroke=\"black\"/>\n",
       "</g>\n",
       "<!-- 140686717053080 -->\n",
       "<g class=\"node\" id=\"node16\"><title>140686717053080</title>\n",
       "<polygon fill=\"none\" points=\"1200,-165.5 1200,-201.5 1305,-201.5 1305,-165.5 1200,-165.5\" stroke=\"black\"/>\n",
       "<text font-family=\"Times,serif\" font-size=\"14.00\" text-anchor=\"middle\" x=\"1252.5\" y=\"-179.8\">p_layer1: Dense</text>\n",
       "</g>\n",
       "<!-- 140686717054760&#45;&gt;140686717053080 -->\n",
       "<g class=\"edge\" id=\"edge17\"><title>140686717054760-&gt;140686717053080</title>\n",
       "<path d=\"M1164.03,-183.5C1172.84,-183.5 1181.41,-183.5 1189.52,-183.5\" fill=\"none\" stroke=\"black\"/>\n",
       "<polygon fill=\"black\" points=\"1189.54,-187 1199.54,-183.5 1189.54,-180 1189.54,-187\" stroke=\"black\"/>\n",
       "</g>\n",
       "<!-- 140686713978048 -->\n",
       "<g class=\"node\" id=\"node17\"><title>140686713978048</title>\n",
       "<polygon fill=\"none\" points=\"1345.5,-248.5 1345.5,-284.5 1473.5,-284.5 1473.5,-248.5 1345.5,-248.5\" stroke=\"black\"/>\n",
       "<text font-family=\"Times,serif\" font-size=\"14.00\" text-anchor=\"middle\" x=\"1409.5\" y=\"-262.8\">p_v_mu_flat: Dense</text>\n",
       "</g>\n",
       "<!-- 140686717053080&#45;&gt;140686713978048 -->\n",
       "<g class=\"edge\" id=\"edge18\"><title>140686717053080-&gt;140686713978048</title>\n",
       "<path d=\"M1279.15,-201.744C1296.2,-213.402 1319.35,-228.367 1341,-239.5 1344.13,-241.107 1347.37,-242.684 1350.67,-244.218\" fill=\"none\" stroke=\"black\"/>\n",
       "<polygon fill=\"black\" points=\"1349.51,-247.532 1360.06,-248.418 1352.36,-241.142 1349.51,-247.532\" stroke=\"black\"/>\n",
       "</g>\n",
       "<!-- 140686712846320 -->\n",
       "<g class=\"node\" id=\"node18\"><title>140686712846320</title>\n",
       "<polygon fill=\"none\" points=\"1341,-193.5 1341,-229.5 1478,-229.5 1478,-193.5 1341,-193.5\" stroke=\"black\"/>\n",
       "<text font-family=\"Times,serif\" font-size=\"14.00\" text-anchor=\"middle\" x=\"1409.5\" y=\"-207.8\">p_v_logD_flat: Dense</text>\n",
       "</g>\n",
       "<!-- 140686717053080&#45;&gt;140686712846320 -->\n",
       "<g class=\"edge\" id=\"edge19\"><title>140686717053080-&gt;140686712846320</title>\n",
       "<path d=\"M1305.11,-192.824C1313.43,-194.326 1322.2,-195.91 1330.97,-197.494\" fill=\"none\" stroke=\"black\"/>\n",
       "<polygon fill=\"black\" points=\"1330.38,-200.944 1340.84,-199.278 1331.62,-194.056 1330.38,-200.944\" stroke=\"black\"/>\n",
       "</g>\n",
       "<!-- 140686712543888 -->\n",
       "<g class=\"node\" id=\"node19\"><title>140686712543888</title>\n",
       "<polygon fill=\"none\" points=\"1351.5,-138.5 1351.5,-174.5 1467.5,-174.5 1467.5,-138.5 1351.5,-138.5\" stroke=\"black\"/>\n",
       "<text font-family=\"Times,serif\" font-size=\"14.00\" text-anchor=\"middle\" x=\"1409.5\" y=\"-152.8\">p_v_u_flat: Dense</text>\n",
       "</g>\n",
       "<!-- 140686717053080&#45;&gt;140686712543888 -->\n",
       "<g class=\"edge\" id=\"edge20\"><title>140686717053080-&gt;140686712543888</title>\n",
       "<path d=\"M1305.11,-174.509C1316.67,-172.496 1329.1,-170.331 1341.19,-168.225\" fill=\"none\" stroke=\"black\"/>\n",
       "<polygon fill=\"black\" points=\"1341.99,-171.639 1351.24,-166.475 1340.79,-164.743 1341.99,-171.639\" stroke=\"black\"/>\n",
       "</g>\n",
       "<!-- 140686714304160 -->\n",
       "<g class=\"node\" id=\"node20\"><title>140686714304160</title>\n",
       "<polygon fill=\"none\" points=\"1360.5,-83.5 1360.5,-119.5 1458.5,-119.5 1458.5,-83.5 1360.5,-83.5\" stroke=\"black\"/>\n",
       "<text font-family=\"Times,serif\" font-size=\"14.00\" text-anchor=\"middle\" x=\"1409.5\" y=\"-97.8\">p_adj: Bilinear</text>\n",
       "</g>\n",
       "<!-- 140686717053080&#45;&gt;140686714304160 -->\n",
       "<g class=\"edge\" id=\"edge21\"><title>140686717053080-&gt;140686714304160</title>\n",
       "<path d=\"M1280.44,-165.322C1297.42,-154.257 1320.02,-140.236 1341,-129.5 1344.92,-127.495 1349.01,-125.519 1353.17,-123.601\" fill=\"none\" stroke=\"black\"/>\n",
       "<polygon fill=\"black\" points=\"1354.61,-126.791 1362.3,-119.508 1351.74,-120.403 1354.61,-126.791\" stroke=\"black\"/>\n",
       "</g>\n",
       "<!-- 140686712253912 -->\n",
       "<g class=\"node\" id=\"node21\"><title>140686712253912</title>\n",
       "<polygon fill=\"none\" points=\"1514,-193.5 1514,-229.5 1708,-229.5 1708,-193.5 1514,-193.5\" stroke=\"black\"/>\n",
       "<text font-family=\"Times,serif\" font-size=\"14.00\" text-anchor=\"middle\" x=\"1611\" y=\"-207.8\">p_v_mulogDu_flat: Concatenate</text>\n",
       "</g>\n",
       "<!-- 140686713978048&#45;&gt;140686712253912 -->\n",
       "<g class=\"edge\" id=\"edge23\"><title>140686713978048-&gt;140686712253912</title>\n",
       "<path d=\"M1473.62,-249.098C1493.05,-243.743 1514.62,-237.794 1534.78,-232.239\" fill=\"none\" stroke=\"black\"/>\n",
       "<polygon fill=\"black\" points=\"1535.83,-235.579 1544.54,-229.547 1533.97,-228.831 1535.83,-235.579\" stroke=\"black\"/>\n",
       "</g>\n",
       "<!-- 140686712846320&#45;&gt;140686712253912 -->\n",
       "<g class=\"edge\" id=\"edge24\"><title>140686712846320-&gt;140686712253912</title>\n",
       "<path d=\"M1478.04,-211.5C1486.33,-211.5 1494.95,-211.5 1503.64,-211.5\" fill=\"none\" stroke=\"black\"/>\n",
       "<polygon fill=\"black\" points=\"1503.85,-215 1513.85,-211.5 1503.85,-208 1503.85,-215\" stroke=\"black\"/>\n",
       "</g>\n",
       "<!-- 140686712543888&#45;&gt;140686712253912 -->\n",
       "<g class=\"edge\" id=\"edge25\"><title>140686712543888-&gt;140686712253912</title>\n",
       "<path d=\"M1467.67,-172.261C1488.53,-178.012 1512.45,-184.607 1534.65,-190.728\" fill=\"none\" stroke=\"black\"/>\n",
       "<polygon fill=\"black\" points=\"1533.81,-194.126 1544.38,-193.41 1535.67,-187.378 1533.81,-194.126\" stroke=\"black\"/>\n",
       "</g>\n",
       "</g>\n",
       "</svg>"
      ],
      "text/plain": [
       "<IPython.core.display.SVG object>"
      ]
     },
     "metadata": {},
     "output_type": "display_data"
    }
   ],
   "source": [
    "display(SVG(model_to_dot(vae, rankdir='LR').create(prog='dot', format='svg')))"
   ]
  },
  {
   "cell_type": "code",
   "execution_count": null,
   "metadata": {},
   "outputs": [],
   "source": [
    "q_model.save('q.h5')"
   ]
  },
  {
   "cell_type": "code",
   "execution_count": null,
   "metadata": {},
   "outputs": [],
   "source": [
    "del q_model"
   ]
  },
  {
   "cell_type": "code",
   "execution_count": 18,
   "metadata": {},
   "outputs": [
    {
     "ename": "TypeError",
     "evalue": "At least one input should be SparseTensor; do you mean to use tf.add()?",
     "output_type": "error",
     "traceback": [
      "\u001b[0;31m---------------------------------------------------------------------------\u001b[0m",
      "\u001b[0;31mTypeError\u001b[0m                                 Traceback (most recent call last)",
      "\u001b[0;32m<ipython-input-18-8a04048707aa>\u001b[0m in \u001b[0;36m<module>\u001b[0;34m()\u001b[0m\n\u001b[0;32m----> 1\u001b[0;31m \u001b[0mq_model\u001b[0m \u001b[0;34m=\u001b[0m \u001b[0mkeras\u001b[0m\u001b[0;34m.\u001b[0m\u001b[0mmodels\u001b[0m\u001b[0;34m.\u001b[0m\u001b[0mload_model\u001b[0m\u001b[0;34m(\u001b[0m\u001b[0;34m'q.h5'\u001b[0m\u001b[0;34m,\u001b[0m \u001b[0mcustom_objects\u001b[0m\u001b[0;34m=\u001b[0m\u001b[0mnw2vec\u001b[0m\u001b[0;34m.\u001b[0m\u001b[0mcustom_objects\u001b[0m\u001b[0;34m(\u001b[0m\u001b[0;34m)\u001b[0m\u001b[0;34m)\u001b[0m\u001b[0;34m\u001b[0m\u001b[0m\n\u001b[0m",
      "\u001b[0;32m~/anaconda3/envs/base36-grunchgpu/lib/python3.6/site-packages/keras/models.py\u001b[0m in \u001b[0;36mload_model\u001b[0;34m(filepath, custom_objects, compile)\u001b[0m\n\u001b[1;32m    262\u001b[0m             \u001b[0;32mraise\u001b[0m \u001b[0mValueError\u001b[0m\u001b[0;34m(\u001b[0m\u001b[0;34m'No model found in config file.'\u001b[0m\u001b[0;34m)\u001b[0m\u001b[0;34m\u001b[0m\u001b[0m\n\u001b[1;32m    263\u001b[0m         \u001b[0mmodel_config\u001b[0m \u001b[0;34m=\u001b[0m \u001b[0mjson\u001b[0m\u001b[0;34m.\u001b[0m\u001b[0mloads\u001b[0m\u001b[0;34m(\u001b[0m\u001b[0mmodel_config\u001b[0m\u001b[0;34m.\u001b[0m\u001b[0mdecode\u001b[0m\u001b[0;34m(\u001b[0m\u001b[0;34m'utf-8'\u001b[0m\u001b[0;34m)\u001b[0m\u001b[0;34m)\u001b[0m\u001b[0;34m\u001b[0m\u001b[0m\n\u001b[0;32m--> 264\u001b[0;31m         \u001b[0mmodel\u001b[0m \u001b[0;34m=\u001b[0m \u001b[0mmodel_from_config\u001b[0m\u001b[0;34m(\u001b[0m\u001b[0mmodel_config\u001b[0m\u001b[0;34m,\u001b[0m \u001b[0mcustom_objects\u001b[0m\u001b[0;34m=\u001b[0m\u001b[0mcustom_objects\u001b[0m\u001b[0;34m)\u001b[0m\u001b[0;34m\u001b[0m\u001b[0m\n\u001b[0m\u001b[1;32m    265\u001b[0m \u001b[0;34m\u001b[0m\u001b[0m\n\u001b[1;32m    266\u001b[0m         \u001b[0;31m# set weights\u001b[0m\u001b[0;34m\u001b[0m\u001b[0;34m\u001b[0m\u001b[0m\n",
      "\u001b[0;32m~/anaconda3/envs/base36-grunchgpu/lib/python3.6/site-packages/keras/models.py\u001b[0m in \u001b[0;36mmodel_from_config\u001b[0;34m(config, custom_objects)\u001b[0m\n\u001b[1;32m    339\u001b[0m                         \u001b[0;34m'Maybe you meant to use '\u001b[0m\u001b[0;34m\u001b[0m\u001b[0m\n\u001b[1;32m    340\u001b[0m                         '`Sequential.from_config(config)`?')\n\u001b[0;32m--> 341\u001b[0;31m     \u001b[0;32mreturn\u001b[0m \u001b[0mlayer_module\u001b[0m\u001b[0;34m.\u001b[0m\u001b[0mdeserialize\u001b[0m\u001b[0;34m(\u001b[0m\u001b[0mconfig\u001b[0m\u001b[0;34m,\u001b[0m \u001b[0mcustom_objects\u001b[0m\u001b[0;34m=\u001b[0m\u001b[0mcustom_objects\u001b[0m\u001b[0;34m)\u001b[0m\u001b[0;34m\u001b[0m\u001b[0m\n\u001b[0m\u001b[1;32m    342\u001b[0m \u001b[0;34m\u001b[0m\u001b[0m\n\u001b[1;32m    343\u001b[0m \u001b[0;34m\u001b[0m\u001b[0m\n",
      "\u001b[0;32m~/anaconda3/envs/base36-grunchgpu/lib/python3.6/site-packages/keras/layers/__init__.py\u001b[0m in \u001b[0;36mdeserialize\u001b[0;34m(config, custom_objects)\u001b[0m\n\u001b[1;32m     53\u001b[0m                                     \u001b[0mmodule_objects\u001b[0m\u001b[0;34m=\u001b[0m\u001b[0mglobs\u001b[0m\u001b[0;34m,\u001b[0m\u001b[0;34m\u001b[0m\u001b[0m\n\u001b[1;32m     54\u001b[0m                                     \u001b[0mcustom_objects\u001b[0m\u001b[0;34m=\u001b[0m\u001b[0mcustom_objects\u001b[0m\u001b[0;34m,\u001b[0m\u001b[0;34m\u001b[0m\u001b[0m\n\u001b[0;32m---> 55\u001b[0;31m                                     printable_module_name='layer')\n\u001b[0m",
      "\u001b[0;32m~/anaconda3/envs/base36-grunchgpu/lib/python3.6/site-packages/keras/utils/generic_utils.py\u001b[0m in \u001b[0;36mdeserialize_keras_object\u001b[0;34m(identifier, module_objects, custom_objects, printable_module_name)\u001b[0m\n\u001b[1;32m    142\u001b[0m                 return cls.from_config(config['config'],\n\u001b[1;32m    143\u001b[0m                                        custom_objects=dict(list(_GLOBAL_CUSTOM_OBJECTS.items()) +\n\u001b[0;32m--> 144\u001b[0;31m                                                            list(custom_objects.items())))\n\u001b[0m\u001b[1;32m    145\u001b[0m             \u001b[0;32mwith\u001b[0m \u001b[0mCustomObjectScope\u001b[0m\u001b[0;34m(\u001b[0m\u001b[0mcustom_objects\u001b[0m\u001b[0;34m)\u001b[0m\u001b[0;34m:\u001b[0m\u001b[0;34m\u001b[0m\u001b[0m\n\u001b[1;32m    146\u001b[0m                 \u001b[0;32mreturn\u001b[0m \u001b[0mcls\u001b[0m\u001b[0;34m.\u001b[0m\u001b[0mfrom_config\u001b[0m\u001b[0;34m(\u001b[0m\u001b[0mconfig\u001b[0m\u001b[0;34m[\u001b[0m\u001b[0;34m'config'\u001b[0m\u001b[0;34m]\u001b[0m\u001b[0;34m)\u001b[0m\u001b[0;34m\u001b[0m\u001b[0m\n",
      "\u001b[0;32m~/anaconda3/envs/base36-grunchgpu/lib/python3.6/site-packages/keras/engine/topology.py\u001b[0m in \u001b[0;36mfrom_config\u001b[0;34m(cls, config, custom_objects)\u001b[0m\n\u001b[1;32m   2533\u001b[0m                 \u001b[0;32mif\u001b[0m \u001b[0mlayer\u001b[0m \u001b[0;32min\u001b[0m \u001b[0munprocessed_nodes\u001b[0m\u001b[0;34m:\u001b[0m\u001b[0;34m\u001b[0m\u001b[0m\n\u001b[1;32m   2534\u001b[0m                     \u001b[0;32mfor\u001b[0m \u001b[0mnode_data\u001b[0m \u001b[0;32min\u001b[0m \u001b[0munprocessed_nodes\u001b[0m\u001b[0;34m.\u001b[0m\u001b[0mpop\u001b[0m\u001b[0;34m(\u001b[0m\u001b[0mlayer\u001b[0m\u001b[0;34m)\u001b[0m\u001b[0;34m:\u001b[0m\u001b[0;34m\u001b[0m\u001b[0m\n\u001b[0;32m-> 2535\u001b[0;31m                         \u001b[0mprocess_node\u001b[0m\u001b[0;34m(\u001b[0m\u001b[0mlayer\u001b[0m\u001b[0;34m,\u001b[0m \u001b[0mnode_data\u001b[0m\u001b[0;34m)\u001b[0m\u001b[0;34m\u001b[0m\u001b[0m\n\u001b[0m\u001b[1;32m   2536\u001b[0m \u001b[0;34m\u001b[0m\u001b[0m\n\u001b[1;32m   2537\u001b[0m         \u001b[0mname\u001b[0m \u001b[0;34m=\u001b[0m \u001b[0mconfig\u001b[0m\u001b[0;34m.\u001b[0m\u001b[0mget\u001b[0m\u001b[0;34m(\u001b[0m\u001b[0;34m'name'\u001b[0m\u001b[0;34m)\u001b[0m\u001b[0;34m\u001b[0m\u001b[0m\n",
      "\u001b[0;32m~/anaconda3/envs/base36-grunchgpu/lib/python3.6/site-packages/keras/engine/topology.py\u001b[0m in \u001b[0;36mprocess_node\u001b[0;34m(layer, node_data)\u001b[0m\n\u001b[1;32m   2492\u001b[0m                     \u001b[0mlayer\u001b[0m\u001b[0;34m(\u001b[0m\u001b[0minput_tensors\u001b[0m\u001b[0;34m[\u001b[0m\u001b[0;36m0\u001b[0m\u001b[0;34m]\u001b[0m\u001b[0;34m,\u001b[0m \u001b[0;34m**\u001b[0m\u001b[0mkwargs\u001b[0m\u001b[0;34m)\u001b[0m\u001b[0;34m\u001b[0m\u001b[0m\n\u001b[1;32m   2493\u001b[0m                 \u001b[0;32melse\u001b[0m\u001b[0;34m:\u001b[0m\u001b[0;34m\u001b[0m\u001b[0m\n\u001b[0;32m-> 2494\u001b[0;31m                     \u001b[0mlayer\u001b[0m\u001b[0;34m(\u001b[0m\u001b[0minput_tensors\u001b[0m\u001b[0;34m,\u001b[0m \u001b[0;34m**\u001b[0m\u001b[0mkwargs\u001b[0m\u001b[0;34m)\u001b[0m\u001b[0;34m\u001b[0m\u001b[0m\n\u001b[0m\u001b[1;32m   2495\u001b[0m \u001b[0;34m\u001b[0m\u001b[0m\n\u001b[1;32m   2496\u001b[0m         \u001b[0;32mdef\u001b[0m \u001b[0mprocess_layer\u001b[0m\u001b[0;34m(\u001b[0m\u001b[0mlayer_data\u001b[0m\u001b[0;34m)\u001b[0m\u001b[0;34m:\u001b[0m\u001b[0;34m\u001b[0m\u001b[0m\n",
      "\u001b[0;32m~/anaconda3/envs/base36-grunchgpu/lib/python3.6/site-packages/keras/engine/topology.py\u001b[0m in \u001b[0;36m__call__\u001b[0;34m(self, inputs, **kwargs)\u001b[0m\n\u001b[1;32m    617\u001b[0m \u001b[0;34m\u001b[0m\u001b[0m\n\u001b[1;32m    618\u001b[0m             \u001b[0;31m# Actually call the layer, collecting output(s), mask(s), and shape(s).\u001b[0m\u001b[0;34m\u001b[0m\u001b[0;34m\u001b[0m\u001b[0m\n\u001b[0;32m--> 619\u001b[0;31m             \u001b[0moutput\u001b[0m \u001b[0;34m=\u001b[0m \u001b[0mself\u001b[0m\u001b[0;34m.\u001b[0m\u001b[0mcall\u001b[0m\u001b[0;34m(\u001b[0m\u001b[0minputs\u001b[0m\u001b[0;34m,\u001b[0m \u001b[0;34m**\u001b[0m\u001b[0mkwargs\u001b[0m\u001b[0;34m)\u001b[0m\u001b[0;34m\u001b[0m\u001b[0m\n\u001b[0m\u001b[1;32m    620\u001b[0m             \u001b[0moutput_mask\u001b[0m \u001b[0;34m=\u001b[0m \u001b[0mself\u001b[0m\u001b[0;34m.\u001b[0m\u001b[0mcompute_mask\u001b[0m\u001b[0;34m(\u001b[0m\u001b[0minputs\u001b[0m\u001b[0;34m,\u001b[0m \u001b[0mprevious_mask\u001b[0m\u001b[0;34m)\u001b[0m\u001b[0;34m\u001b[0m\u001b[0m\n\u001b[1;32m    621\u001b[0m \u001b[0;34m\u001b[0m\u001b[0m\n",
      "\u001b[0;32m~/Code/nw2vec/nw2vec/layers.py\u001b[0m in \u001b[0;36mcall\u001b[0;34m(self, inputs)\u001b[0m\n\u001b[1;32m     73\u001b[0m         \u001b[0madj\u001b[0m\u001b[0;34m,\u001b[0m \u001b[0mmask\u001b[0m\u001b[0;34m,\u001b[0m \u001b[0mfeatures\u001b[0m \u001b[0;34m=\u001b[0m \u001b[0minputs\u001b[0m\u001b[0;34m\u001b[0m\u001b[0m\n\u001b[1;32m     74\u001b[0m \u001b[0;34m\u001b[0m\u001b[0m\n\u001b[0;32m---> 75\u001b[0;31m         \u001b[0mA_tilde\u001b[0m \u001b[0;34m=\u001b[0m \u001b[0mtf\u001b[0m\u001b[0;34m.\u001b[0m\u001b[0msparse_add\u001b[0m\u001b[0;34m(\u001b[0m\u001b[0madj\u001b[0m\u001b[0;34m,\u001b[0m \u001b[0mtf\u001b[0m\u001b[0;34m.\u001b[0m\u001b[0meye\u001b[0m\u001b[0;34m(\u001b[0m\u001b[0mtf\u001b[0m\u001b[0;34m.\u001b[0m\u001b[0mshape\u001b[0m\u001b[0;34m(\u001b[0m\u001b[0madj\u001b[0m\u001b[0;34m)\u001b[0m\u001b[0;34m[\u001b[0m\u001b[0;36m0\u001b[0m\u001b[0;34m]\u001b[0m\u001b[0;34m)\u001b[0m\u001b[0;34m)\u001b[0m\u001b[0;34m\u001b[0m\u001b[0m\n\u001b[0m\u001b[1;32m     76\u001b[0m         \u001b[0mD_tilde_out_inv_sqrt\u001b[0m \u001b[0;34m=\u001b[0m \u001b[0mtf\u001b[0m\u001b[0;34m.\u001b[0m\u001b[0mmatrix_diag\u001b[0m\u001b[0;34m(\u001b[0m\u001b[0;36m1.0\u001b[0m \u001b[0;34m/\u001b[0m \u001b[0mK\u001b[0m\u001b[0;34m.\u001b[0m\u001b[0msqrt\u001b[0m\u001b[0;34m(\u001b[0m\u001b[0mK\u001b[0m\u001b[0;34m.\u001b[0m\u001b[0msum\u001b[0m\u001b[0;34m(\u001b[0m\u001b[0mA_tilde\u001b[0m\u001b[0;34m,\u001b[0m \u001b[0maxis\u001b[0m\u001b[0;34m=\u001b[0m\u001b[0;36m0\u001b[0m\u001b[0;34m)\u001b[0m\u001b[0;34m)\u001b[0m\u001b[0;34m)\u001b[0m\u001b[0;34m\u001b[0m\u001b[0m\n\u001b[1;32m     77\u001b[0m         \u001b[0mD_tilde_in_inv_sqrt\u001b[0m \u001b[0;34m=\u001b[0m \u001b[0mtf\u001b[0m\u001b[0;34m.\u001b[0m\u001b[0mmatrix_diag\u001b[0m\u001b[0;34m(\u001b[0m\u001b[0;36m1.0\u001b[0m \u001b[0;34m/\u001b[0m \u001b[0mK\u001b[0m\u001b[0;34m.\u001b[0m\u001b[0msqrt\u001b[0m\u001b[0;34m(\u001b[0m\u001b[0mK\u001b[0m\u001b[0;34m.\u001b[0m\u001b[0msum\u001b[0m\u001b[0;34m(\u001b[0m\u001b[0mA_tilde\u001b[0m\u001b[0;34m,\u001b[0m \u001b[0maxis\u001b[0m\u001b[0;34m=\u001b[0m\u001b[0;36m1\u001b[0m\u001b[0;34m)\u001b[0m\u001b[0;34m)\u001b[0m\u001b[0;34m)\u001b[0m\u001b[0;34m\u001b[0m\u001b[0m\n",
      "\u001b[0;32m~/anaconda3/envs/base36-grunchgpu/lib/python3.6/site-packages/tensorflow/python/ops/sparse_ops.py\u001b[0m in \u001b[0;36msparse_add\u001b[0;34m(a, b, thresh)\u001b[0m\n\u001b[1;32m    294\u001b[0m   \u001b[0msparse_classes\u001b[0m \u001b[0;34m=\u001b[0m \u001b[0;34m(\u001b[0m\u001b[0msparse_tensor\u001b[0m\u001b[0;34m.\u001b[0m\u001b[0mSparseTensor\u001b[0m\u001b[0;34m,\u001b[0m \u001b[0msparse_tensor\u001b[0m\u001b[0;34m.\u001b[0m\u001b[0mSparseTensorValue\u001b[0m\u001b[0;34m)\u001b[0m\u001b[0;34m\u001b[0m\u001b[0m\n\u001b[1;32m    295\u001b[0m   \u001b[0;32mif\u001b[0m \u001b[0;32mnot\u001b[0m \u001b[0many\u001b[0m\u001b[0;34m(\u001b[0m\u001b[0misinstance\u001b[0m\u001b[0;34m(\u001b[0m\u001b[0minp\u001b[0m\u001b[0;34m,\u001b[0m \u001b[0msparse_classes\u001b[0m\u001b[0;34m)\u001b[0m \u001b[0;32mfor\u001b[0m \u001b[0minp\u001b[0m \u001b[0;32min\u001b[0m \u001b[0;34m[\u001b[0m\u001b[0ma\u001b[0m\u001b[0;34m,\u001b[0m \u001b[0mb\u001b[0m\u001b[0;34m]\u001b[0m\u001b[0;34m)\u001b[0m\u001b[0;34m:\u001b[0m\u001b[0;34m\u001b[0m\u001b[0m\n\u001b[0;32m--> 296\u001b[0;31m     raise TypeError(\"At least one input should be SparseTensor; do you mean to\"\n\u001b[0m\u001b[1;32m    297\u001b[0m                     \" use tf.add()?\")\n\u001b[1;32m    298\u001b[0m \u001b[0;34m\u001b[0m\u001b[0m\n",
      "\u001b[0;31mTypeError\u001b[0m: At least one input should be SparseTensor; do you mean to use tf.add()?"
     ]
    }
   ],
   "source": [
    "q_model = keras.models.load_model('q.h5', custom_objects=nw2vec.custom_objects())"
   ]
  },
  {
   "cell_type": "code",
   "execution_count": 11,
   "metadata": {},
   "outputs": [],
   "source": [
    "vae.save('vae.h5')\n",
    "\n",
    "del vae\n",
    "\n",
    "vae = keras.models.load_model('vae.h5', custom_objects=nw2vec.custom_objects())"
   ]
  },
  {
   "cell_type": "markdown",
   "metadata": {},
   "source": [
    "## Target function"
   ]
  },
  {
   "cell_type": "code",
   "execution_count": 12,
   "metadata": {},
   "outputs": [],
   "source": [
    "features = utils.scale_center(labels)\n",
    "\n",
    "def target_func(batch_adj, required_nodes, final_nodes):\n",
    "    return [\n",
    "        np.zeros(1), # ignored\n",
    "        utils.expand_dims_tile(utils.expand_dims_tile(batch_adj + np.eye(batch_adj.shape[0]), 0, n_ξ_samples), 0, 1),\n",
    "        utils.expand_dims_tile(features[final_nodes], 1, n_ξ_samples),\n",
    "    ]"
   ]
  },
  {
   "cell_type": "markdown",
   "metadata": {},
   "source": [
    "## Before training\n",
    "\n",
    "$\\xi$ averages and distributions for each community, real and predicted adjacency matrices"
   ]
  },
  {
   "cell_type": "code",
   "execution_count": 13,
   "metadata": {},
   "outputs": [],
   "source": [
    "#plot_ξ_distribution(g, q_model, adj, labels)"
   ]
  },
  {
   "cell_type": "code",
   "execution_count": 14,
   "metadata": {},
   "outputs": [],
   "source": [
    "#fig, (ax1, ax2) = plt.subplots(1, 2, figsize=(9, 4))\n",
    "#\n",
    "#im1 = ax1.imshow(nx.adjacency_matrix(g).todense())\n",
    "#ax1.set_title('Real adjacency matrix')\n",
    "#plt.colorbar(im1, ax=ax1)\n",
    "#\n",
    "#x, _, feeds = next(batching.batches(vae, adj, features, target_func,\n",
    "#                                    adj.shape[0], 1,\n",
    "#                                    p=1, q=1, neighbour_samples=None))\n",
    "#adj_pred = vae.predict_on_fed_batch(x, feeds=feeds)[1]\n",
    "#im2 = ax2.imshow(scipy.special.expit(adj_pred[0].mean(axis=0)))\n",
    "#im2.set_norm(im1.norm)\n",
    "#ax2.set_title('Predicted adjacency matrix')\n",
    "#plt.colorbar(im2, ax=ax2);"
   ]
  },
  {
   "cell_type": "markdown",
   "metadata": {},
   "source": [
    "## Train"
   ]
  },
  {
   "cell_type": "code",
   "execution_count": 15,
   "metadata": {},
   "outputs": [
    {
     "name": "stdout",
     "output_type": "stream",
     "text": [
      "rm: cannot remove './logs': No such file or directory\r\n"
     ]
    }
   ],
   "source": [
    "rm -r ./logs"
   ]
  },
  {
   "cell_type": "code",
   "execution_count": 16,
   "metadata": {},
   "outputs": [],
   "source": [
    "n_epochs = 10#5000\n",
    "seeds_per_batch = 5\n",
    "max_walk_length = 200\n",
    "p = 1\n",
    "q = 1\n",
    "neighbour_samples = 30\n",
    "\n",
    "steps_per_epoch = int(np.ceil(len(labels) / seeds_per_batch))"
   ]
  },
  {
   "cell_type": "code",
   "execution_count": 19,
   "metadata": {},
   "outputs": [],
   "source": [
    "# Precompute the CSGraph\n",
    "_ = graph.get_csgraph(adj, 1, 1)"
   ]
  },
  {
   "cell_type": "code",
   "execution_count": 20,
   "metadata": {},
   "outputs": [
    {
     "name": "stderr",
     "output_type": "stream",
     "text": [
      "/home/slerique/anaconda3/envs/base36-grunchgpu/lib/python3.6/site-packages/tensorflow/python/ops/gradients_impl.py:98: UserWarning: Converting sparse IndexedSlices to a dense Tensor of unknown shape. This may consume a large amount of memory.\n",
      "  \"Converting sparse IndexedSlices to a dense Tensor of unknown shape. \"\n",
      "/home/slerique/anaconda3/envs/base36-grunchgpu/lib/python3.6/site-packages/tensorflow/python/ops/gradients_impl.py:98: UserWarning: Converting sparse IndexedSlices to a dense Tensor of unknown shape. This may consume a large amount of memory.\n",
      "  \"Converting sparse IndexedSlices to a dense Tensor of unknown shape. \"\n",
      "/home/slerique/anaconda3/envs/base36-grunchgpu/lib/python3.6/site-packages/tensorflow/python/ops/gradients_impl.py:98: UserWarning: Converting sparse IndexedSlices to a dense Tensor of unknown shape. This may consume a large amount of memory.\n",
      "  \"Converting sparse IndexedSlices to a dense Tensor of unknown shape. \"\n"
     ]
    },
    {
     "data": {
      "application/vnd.jupyter.widget-view+json": {
       "model_id": "824cfa4cbc264a128b05b7dbe66b8330",
       "version_major": 2,
       "version_minor": 0
      },
      "text/plain": [
       "HBox(children=(IntProgress(value=0, description='Training', max=10), HTML(value='')))"
      ]
     },
     "metadata": {},
     "output_type": "display_data"
    },
    {
     "data": {
      "application/vnd.jupyter.widget-view+json": {
       "model_id": "48ba071d9e504d49886550e524432475",
       "version_major": 2,
       "version_minor": 0
      },
      "text/plain": [
       "HBox(children=(IntProgress(value=0, description='Epoch 0', max=2063), HTML(value='')))"
      ]
     },
     "metadata": {},
     "output_type": "display_data"
    },
    {
     "ename": "KeyboardInterrupt",
     "evalue": "",
     "output_type": "error",
     "traceback": [
      "\u001b[0;31m---------------------------------------------------------------------------\u001b[0m",
      "\u001b[0;31mKeyboardInterrupt\u001b[0m                         Traceback (most recent call last)",
      "\u001b[0;32m<ipython-input-20-449a7ddaa64e>\u001b[0m in \u001b[0;36m<module>\u001b[0;34m()\u001b[0m\n\u001b[1;32m      9\u001b[0m                                  callbacks=[\n\u001b[1;32m     10\u001b[0m                                      \u001b[0;31m#keras.callbacks.TensorBoard(),\u001b[0m\u001b[0;34m\u001b[0m\u001b[0;34m\u001b[0m\u001b[0m\n\u001b[0;32m---> 11\u001b[0;31m                                      \u001b[0mTQDMCallback\u001b[0m\u001b[0;34m(\u001b[0m\u001b[0;34m)\u001b[0m\u001b[0;34m,\u001b[0m\u001b[0;34m\u001b[0m\u001b[0m\n\u001b[0m\u001b[1;32m     12\u001b[0m                                  ])\n",
      "\u001b[0;32m~/Code/nw2vec/nw2vec/ae.py\u001b[0m in \u001b[0;36mfit_generator_feed\u001b[0;34m(self, generator, steps_per_epoch, epochs, verbose, callbacks, validation_data, validation_steps, class_weight, max_queue_size, workers, use_multiprocessing, shuffle, initial_epoch, check_array_lengths)\u001b[0m\n\u001b[1;32m    276\u001b[0m                                                    \u001b[0msample_weight\u001b[0m\u001b[0;34m=\u001b[0m\u001b[0msample_weight\u001b[0m\u001b[0;34m,\u001b[0m\u001b[0;34m\u001b[0m\u001b[0m\n\u001b[1;32m    277\u001b[0m                                                    \u001b[0mclass_weight\u001b[0m\u001b[0;34m=\u001b[0m\u001b[0mclass_weight\u001b[0m\u001b[0;34m,\u001b[0m\u001b[0;34m\u001b[0m\u001b[0m\n\u001b[0;32m--> 278\u001b[0;31m                                                    check_array_lengths=check_array_lengths)\n\u001b[0m\u001b[1;32m    279\u001b[0m \u001b[0;34m\u001b[0m\u001b[0m\n\u001b[1;32m    280\u001b[0m                     \u001b[0;32mif\u001b[0m \u001b[0;32mnot\u001b[0m \u001b[0misinstance\u001b[0m\u001b[0;34m(\u001b[0m\u001b[0mouts\u001b[0m\u001b[0;34m,\u001b[0m \u001b[0mlist\u001b[0m\u001b[0;34m)\u001b[0m\u001b[0;34m:\u001b[0m\u001b[0;34m\u001b[0m\u001b[0m\n",
      "\u001b[0;32m~/Code/nw2vec/nw2vec/ae.py\u001b[0m in \u001b[0;36mtrain_on_fed_batch\u001b[0;34m(self, x, y, feeds, **kwargs)\u001b[0m\n\u001b[1;32m     85\u001b[0m     \u001b[0;32mdef\u001b[0m \u001b[0mtrain_on_fed_batch\u001b[0m\u001b[0;34m(\u001b[0m\u001b[0mself\u001b[0m\u001b[0;34m,\u001b[0m \u001b[0mx\u001b[0m\u001b[0;34m,\u001b[0m \u001b[0my\u001b[0m\u001b[0;34m,\u001b[0m \u001b[0mfeeds\u001b[0m\u001b[0;34m=\u001b[0m\u001b[0;34m{\u001b[0m\u001b[0;34m}\u001b[0m\u001b[0;34m,\u001b[0m \u001b[0;34m**\u001b[0m\u001b[0mkwargs\u001b[0m\u001b[0;34m)\u001b[0m\u001b[0;34m:\u001b[0m\u001b[0;34m\u001b[0m\u001b[0m\n\u001b[1;32m     86\u001b[0m         \u001b[0;32mwith\u001b[0m \u001b[0mself\u001b[0m\u001b[0;34m.\u001b[0m\u001b[0mfood\u001b[0m\u001b[0;34m(\u001b[0m\u001b[0mfeeds\u001b[0m\u001b[0;34m)\u001b[0m\u001b[0;34m:\u001b[0m\u001b[0;34m\u001b[0m\u001b[0m\n\u001b[0;32m---> 87\u001b[0;31m             \u001b[0;32mreturn\u001b[0m \u001b[0mself\u001b[0m\u001b[0;34m.\u001b[0m\u001b[0mtrain_on_batch\u001b[0m\u001b[0;34m(\u001b[0m\u001b[0mx\u001b[0m\u001b[0;34m,\u001b[0m \u001b[0my\u001b[0m\u001b[0;34m,\u001b[0m \u001b[0;34m**\u001b[0m\u001b[0mkwargs\u001b[0m\u001b[0;34m)\u001b[0m\u001b[0;34m\u001b[0m\u001b[0m\n\u001b[0m\u001b[1;32m     88\u001b[0m \u001b[0;34m\u001b[0m\u001b[0m\n\u001b[1;32m     89\u001b[0m     \u001b[0;32mdef\u001b[0m \u001b[0mpredict_on_fed_batch\u001b[0m\u001b[0;34m(\u001b[0m\u001b[0mself\u001b[0m\u001b[0;34m,\u001b[0m \u001b[0mx\u001b[0m\u001b[0;34m,\u001b[0m \u001b[0mfeeds\u001b[0m\u001b[0;34m=\u001b[0m\u001b[0;34m{\u001b[0m\u001b[0;34m}\u001b[0m\u001b[0;34m)\u001b[0m\u001b[0;34m:\u001b[0m\u001b[0;34m\u001b[0m\u001b[0m\n",
      "\u001b[0;32m~/anaconda3/envs/base36-grunchgpu/lib/python3.6/site-packages/keras/engine/training.py\u001b[0m in \u001b[0;36mtrain_on_batch\u001b[0;34m(self, x, y, sample_weight, class_weight, check_array_lengths)\u001b[0m\n\u001b[1;32m   1883\u001b[0m             \u001b[0mins\u001b[0m \u001b[0;34m=\u001b[0m \u001b[0mx\u001b[0m \u001b[0;34m+\u001b[0m \u001b[0my\u001b[0m \u001b[0;34m+\u001b[0m \u001b[0msample_weights\u001b[0m\u001b[0;34m\u001b[0m\u001b[0m\n\u001b[1;32m   1884\u001b[0m         \u001b[0mself\u001b[0m\u001b[0;34m.\u001b[0m\u001b[0m_make_train_function\u001b[0m\u001b[0;34m(\u001b[0m\u001b[0;34m)\u001b[0m\u001b[0;34m\u001b[0m\u001b[0m\n\u001b[0;32m-> 1885\u001b[0;31m         \u001b[0moutputs\u001b[0m \u001b[0;34m=\u001b[0m \u001b[0mself\u001b[0m\u001b[0;34m.\u001b[0m\u001b[0mtrain_function\u001b[0m\u001b[0;34m(\u001b[0m\u001b[0mins\u001b[0m\u001b[0;34m)\u001b[0m\u001b[0;34m\u001b[0m\u001b[0m\n\u001b[0m\u001b[1;32m   1886\u001b[0m         \u001b[0;32mif\u001b[0m \u001b[0mlen\u001b[0m\u001b[0;34m(\u001b[0m\u001b[0moutputs\u001b[0m\u001b[0;34m)\u001b[0m \u001b[0;34m==\u001b[0m \u001b[0;36m1\u001b[0m\u001b[0;34m:\u001b[0m\u001b[0;34m\u001b[0m\u001b[0m\n\u001b[1;32m   1887\u001b[0m             \u001b[0;32mreturn\u001b[0m \u001b[0moutputs\u001b[0m\u001b[0;34m[\u001b[0m\u001b[0;36m0\u001b[0m\u001b[0;34m]\u001b[0m\u001b[0;34m\u001b[0m\u001b[0m\n",
      "\u001b[0;32m~/anaconda3/envs/base36-grunchgpu/lib/python3.6/site-packages/keras/backend/tensorflow_backend.py\u001b[0m in \u001b[0;36m__call__\u001b[0;34m(self, inputs)\u001b[0m\n\u001b[1;32m   2477\u001b[0m         \u001b[0msession\u001b[0m \u001b[0;34m=\u001b[0m \u001b[0mget_session\u001b[0m\u001b[0;34m(\u001b[0m\u001b[0;34m)\u001b[0m\u001b[0;34m\u001b[0m\u001b[0m\n\u001b[1;32m   2478\u001b[0m         updated = session.run(fetches=fetches, feed_dict=feed_dict,\n\u001b[0;32m-> 2479\u001b[0;31m                               **self.session_kwargs)\n\u001b[0m\u001b[1;32m   2480\u001b[0m         \u001b[0;32mreturn\u001b[0m \u001b[0mupdated\u001b[0m\u001b[0;34m[\u001b[0m\u001b[0;34m:\u001b[0m\u001b[0mlen\u001b[0m\u001b[0;34m(\u001b[0m\u001b[0mself\u001b[0m\u001b[0;34m.\u001b[0m\u001b[0moutputs\u001b[0m\u001b[0;34m)\u001b[0m\u001b[0;34m]\u001b[0m\u001b[0;34m\u001b[0m\u001b[0m\n\u001b[1;32m   2481\u001b[0m \u001b[0;34m\u001b[0m\u001b[0m\n",
      "\u001b[0;32m~/anaconda3/envs/base36-grunchgpu/lib/python3.6/site-packages/tensorflow/python/client/session.py\u001b[0m in \u001b[0;36mrun\u001b[0;34m(self, fetches, feed_dict, options, run_metadata)\u001b[0m\n\u001b[1;32m    903\u001b[0m     \u001b[0;32mtry\u001b[0m\u001b[0;34m:\u001b[0m\u001b[0;34m\u001b[0m\u001b[0m\n\u001b[1;32m    904\u001b[0m       result = self._run(None, fetches, feed_dict, options_ptr,\n\u001b[0;32m--> 905\u001b[0;31m                          run_metadata_ptr)\n\u001b[0m\u001b[1;32m    906\u001b[0m       \u001b[0;32mif\u001b[0m \u001b[0mrun_metadata\u001b[0m\u001b[0;34m:\u001b[0m\u001b[0;34m\u001b[0m\u001b[0m\n\u001b[1;32m    907\u001b[0m         \u001b[0mproto_data\u001b[0m \u001b[0;34m=\u001b[0m \u001b[0mtf_session\u001b[0m\u001b[0;34m.\u001b[0m\u001b[0mTF_GetBuffer\u001b[0m\u001b[0;34m(\u001b[0m\u001b[0mrun_metadata_ptr\u001b[0m\u001b[0;34m)\u001b[0m\u001b[0;34m\u001b[0m\u001b[0m\n",
      "\u001b[0;32m~/anaconda3/envs/base36-grunchgpu/lib/python3.6/site-packages/tensorflow/python/client/session.py\u001b[0m in \u001b[0;36m_run\u001b[0;34m(self, handle, fetches, feed_dict, options, run_metadata)\u001b[0m\n\u001b[1;32m   1135\u001b[0m     \u001b[0;32mif\u001b[0m \u001b[0mfinal_fetches\u001b[0m \u001b[0;32mor\u001b[0m \u001b[0mfinal_targets\u001b[0m \u001b[0;32mor\u001b[0m \u001b[0;34m(\u001b[0m\u001b[0mhandle\u001b[0m \u001b[0;32mand\u001b[0m \u001b[0mfeed_dict_tensor\u001b[0m\u001b[0;34m)\u001b[0m\u001b[0;34m:\u001b[0m\u001b[0;34m\u001b[0m\u001b[0m\n\u001b[1;32m   1136\u001b[0m       results = self._do_run(handle, final_targets, final_fetches,\n\u001b[0;32m-> 1137\u001b[0;31m                              feed_dict_tensor, options, run_metadata)\n\u001b[0m\u001b[1;32m   1138\u001b[0m     \u001b[0;32melse\u001b[0m\u001b[0;34m:\u001b[0m\u001b[0;34m\u001b[0m\u001b[0m\n\u001b[1;32m   1139\u001b[0m       \u001b[0mresults\u001b[0m \u001b[0;34m=\u001b[0m \u001b[0;34m[\u001b[0m\u001b[0;34m]\u001b[0m\u001b[0;34m\u001b[0m\u001b[0m\n",
      "\u001b[0;32m~/anaconda3/envs/base36-grunchgpu/lib/python3.6/site-packages/tensorflow/python/client/session.py\u001b[0m in \u001b[0;36m_do_run\u001b[0;34m(self, handle, target_list, fetch_list, feed_dict, options, run_metadata)\u001b[0m\n\u001b[1;32m   1353\u001b[0m     \u001b[0;32mif\u001b[0m \u001b[0mhandle\u001b[0m \u001b[0;32mis\u001b[0m \u001b[0;32mNone\u001b[0m\u001b[0;34m:\u001b[0m\u001b[0;34m\u001b[0m\u001b[0m\n\u001b[1;32m   1354\u001b[0m       return self._do_call(_run_fn, self._session, feeds, fetches, targets,\n\u001b[0;32m-> 1355\u001b[0;31m                            options, run_metadata)\n\u001b[0m\u001b[1;32m   1356\u001b[0m     \u001b[0;32melse\u001b[0m\u001b[0;34m:\u001b[0m\u001b[0;34m\u001b[0m\u001b[0m\n\u001b[1;32m   1357\u001b[0m       \u001b[0;32mreturn\u001b[0m \u001b[0mself\u001b[0m\u001b[0;34m.\u001b[0m\u001b[0m_do_call\u001b[0m\u001b[0;34m(\u001b[0m\u001b[0m_prun_fn\u001b[0m\u001b[0;34m,\u001b[0m \u001b[0mself\u001b[0m\u001b[0;34m.\u001b[0m\u001b[0m_session\u001b[0m\u001b[0;34m,\u001b[0m \u001b[0mhandle\u001b[0m\u001b[0;34m,\u001b[0m \u001b[0mfeeds\u001b[0m\u001b[0;34m,\u001b[0m \u001b[0mfetches\u001b[0m\u001b[0;34m)\u001b[0m\u001b[0;34m\u001b[0m\u001b[0m\n",
      "\u001b[0;32m~/anaconda3/envs/base36-grunchgpu/lib/python3.6/site-packages/tensorflow/python/client/session.py\u001b[0m in \u001b[0;36m_do_call\u001b[0;34m(self, fn, *args)\u001b[0m\n\u001b[1;32m   1359\u001b[0m   \u001b[0;32mdef\u001b[0m \u001b[0m_do_call\u001b[0m\u001b[0;34m(\u001b[0m\u001b[0mself\u001b[0m\u001b[0;34m,\u001b[0m \u001b[0mfn\u001b[0m\u001b[0;34m,\u001b[0m \u001b[0;34m*\u001b[0m\u001b[0margs\u001b[0m\u001b[0;34m)\u001b[0m\u001b[0;34m:\u001b[0m\u001b[0;34m\u001b[0m\u001b[0m\n\u001b[1;32m   1360\u001b[0m     \u001b[0;32mtry\u001b[0m\u001b[0;34m:\u001b[0m\u001b[0;34m\u001b[0m\u001b[0m\n\u001b[0;32m-> 1361\u001b[0;31m       \u001b[0;32mreturn\u001b[0m \u001b[0mfn\u001b[0m\u001b[0;34m(\u001b[0m\u001b[0;34m*\u001b[0m\u001b[0margs\u001b[0m\u001b[0;34m)\u001b[0m\u001b[0;34m\u001b[0m\u001b[0m\n\u001b[0m\u001b[1;32m   1362\u001b[0m     \u001b[0;32mexcept\u001b[0m \u001b[0merrors\u001b[0m\u001b[0;34m.\u001b[0m\u001b[0mOpError\u001b[0m \u001b[0;32mas\u001b[0m \u001b[0me\u001b[0m\u001b[0;34m:\u001b[0m\u001b[0;34m\u001b[0m\u001b[0m\n\u001b[1;32m   1363\u001b[0m       \u001b[0mmessage\u001b[0m \u001b[0;34m=\u001b[0m \u001b[0mcompat\u001b[0m\u001b[0;34m.\u001b[0m\u001b[0mas_text\u001b[0m\u001b[0;34m(\u001b[0m\u001b[0me\u001b[0m\u001b[0;34m.\u001b[0m\u001b[0mmessage\u001b[0m\u001b[0;34m)\u001b[0m\u001b[0;34m\u001b[0m\u001b[0m\n",
      "\u001b[0;32m~/anaconda3/envs/base36-grunchgpu/lib/python3.6/site-packages/tensorflow/python/client/session.py\u001b[0m in \u001b[0;36m_run_fn\u001b[0;34m(session, feed_dict, fetch_list, target_list, options, run_metadata)\u001b[0m\n\u001b[1;32m   1338\u001b[0m         \u001b[0;32melse\u001b[0m\u001b[0;34m:\u001b[0m\u001b[0;34m\u001b[0m\u001b[0m\n\u001b[1;32m   1339\u001b[0m           return tf_session.TF_Run(session, options, feed_dict, fetch_list,\n\u001b[0;32m-> 1340\u001b[0;31m                                    target_list, status, run_metadata)\n\u001b[0m\u001b[1;32m   1341\u001b[0m \u001b[0;34m\u001b[0m\u001b[0m\n\u001b[1;32m   1342\u001b[0m     \u001b[0;32mdef\u001b[0m \u001b[0m_prun_fn\u001b[0m\u001b[0;34m(\u001b[0m\u001b[0msession\u001b[0m\u001b[0;34m,\u001b[0m \u001b[0mhandle\u001b[0m\u001b[0;34m,\u001b[0m \u001b[0mfeed_dict\u001b[0m\u001b[0;34m,\u001b[0m \u001b[0mfetch_list\u001b[0m\u001b[0;34m)\u001b[0m\u001b[0;34m:\u001b[0m\u001b[0;34m\u001b[0m\u001b[0m\n",
      "\u001b[0;31mKeyboardInterrupt\u001b[0m: "
     ]
    }
   ],
   "source": [
    "history = vae.fit_generator_feed(batching.batches(vae, adj, labels, target_func,\n",
    "                                                  seeds_per_batch, max_walk_length,\n",
    "                                                  p=p, q=q, neighbour_samples=neighbour_samples),\n",
    "                                 steps_per_epoch=steps_per_epoch,\n",
    "                                 epochs=n_epochs,\n",
    "                                 check_array_lengths=False,\n",
    "                                 shuffle=False,\n",
    "                                 verbose=0,\n",
    "                                 callbacks=[\n",
    "                                     #keras.callbacks.TensorBoard(),\n",
    "                                     TQDMCallback(),\n",
    "                                 ])"
   ]
  },
  {
   "cell_type": "markdown",
   "metadata": {},
   "source": [
    "Usually, the cell above complains with \"UserWarning: Converting sparse IndexedSlices to a dense Tensor of unknown shape. This may consume a large amount of memory.\". See these for more details:\n",
    "* https://stackoverflow.com/questions/35892412/tensorflow-dense-gradient-explanation#35896823\n",
    "* https://stackoverflow.com/questions/39111373/tensorflow-chaining-tf-gather-produces-indexedslices-warning"
   ]
  },
  {
   "cell_type": "code",
   "execution_count": 16,
   "metadata": {},
   "outputs": [
    {
     "data": {
      "image/png": "[encoded data removed]",
      "text/plain": [
       "<Figure size 1080x288 with 3 Axes>"
      ]
     },
     "metadata": {},
     "output_type": "display_data"
    }
   ],
   "source": [
    "fig, axes = plt.subplots(1, len(history.history), figsize=(len(history.history) * 5, 4))\n",
    "for i, (title, values) in enumerate(history.history.items()):\n",
    "    axes[i].plot(values)\n",
    "    axes[i].set_title(title)\n",
    "fig.tight_layout()"
   ]
  },
  {
   "cell_type": "markdown",
   "metadata": {},
   "source": [
    "## Results"
   ]
  },
  {
   "cell_type": "markdown",
   "metadata": {},
   "source": [
    "**After training:** $\\xi$ averages and distributions for each community, real and predicted adjacency matrices"
   ]
  },
  {
   "cell_type": "code",
   "execution_count": 24,
   "metadata": {},
   "outputs": [
    {
     "data": {
      "image/png": "[encoded data removed]",
      "text/plain": [
       "<Figure size 864x288 with 2 Axes>"
      ]
     },
     "metadata": {},
     "output_type": "display_data"
    }
   ],
   "source": [
    "plot_ξ_distribution(g, q_model, adj, labels)"
   ]
  },
  {
   "cell_type": "markdown",
   "metadata": {},
   "source": [
    "Predicted adjacency matrix:"
   ]
  },
  {
   "cell_type": "code",
   "execution_count": 14,
   "metadata": {},
   "outputs": [],
   "source": [
    "fig, (ax1, ax2) = plt.subplots(1, 2, figsize=(9, 4))\n",
    "\n",
    "im1 = ax1.imshow(nx.adjacency_matrix(g).todense())\n",
    "ax1.set_title('Real adjacency matrix')\n",
    "plt.colorbar(im1, ax=ax1)\n",
    "\n",
    "x, _, feeds = next(batching.batches(vae, adj, features, target_func,\n",
    "                                    adj.shape[0], 1,\n",
    "                                    p=1, q=1, neighbour_samples=None))\n",
    "adj_pred = vae.predict_on_fed_batch(x, feeds=feeds)[1]\n",
    "im2 = ax2.imshow(scipy.special.expit(adj_pred[0].mean(axis=0)))\n",
    "im2.set_norm(im1.norm)\n",
    "ax2.set_title('Predicted adjacency matrix')\n",
    "plt.colorbar(im2, ax=ax2);"
   ]
  },
  {
   "cell_type": "code",
   "execution_count": null,
   "metadata": {},
   "outputs": [],
   "source": [
    "plt.imshow(np.random.binomial(1, scipy.special.expit(adj_pred[0].mean(axis=0))))"
   ]
  },
  {
   "cell_type": "code",
   "execution_count": null,
   "metadata": {},
   "outputs": [],
   "source": [
    "for layer in q_model.layers:\n",
    "    if hasattr(layer, 'kernel'):\n",
    "        fig, (ax1, ax2) = plt.subplots(1, 2, figsize=(6, 4))#, sharey=True)\n",
    "        im1 = ax1.imshow(K.eval(layer.kernel).T)\n",
    "        ax1.set_title('{} kernel'.format(layer.name))\n",
    "        plt.colorbar(im1, ax=ax1)\n",
    "    if hasattr(layer, 'bias') and layer.bias is not None:\n",
    "        im2 = ax2.imshow(K.eval(K.expand_dims(layer.bias, -1)))\n",
    "        ax2.set_title('{} bias'.format(layer.name))\n",
    "        plt.colorbar(im2, ax=ax2)"
   ]
  },
  {
   "cell_type": "code",
   "execution_count": null,
   "metadata": {},
   "outputs": [],
   "source": [
    "for layer in p_model.layers:\n",
    "    if hasattr(layer, 'kernel'):\n",
    "        fig, (ax1, ax2) = plt.subplots(1, 2, figsize=(6, 4))#, sharey=True)\n",
    "        im1 = ax1.imshow(K.eval(layer.kernel).T)\n",
    "        ax1.set_title('{} kernel'.format(layer.name))\n",
    "        plt.colorbar(im1, ax=ax1)\n",
    "    if hasattr(layer, 'bias') and layer.bias is not None:\n",
    "        im2 = ax2.imshow(K.eval(K.expand_dims(layer.bias, -1)))\n",
    "        ax2.set_title('{} bias'.format(layer.name))\n",
    "        plt.colorbar(im2, ax=ax2)"
   ]
  }
 ],
 "metadata": {
  "kernelspec": {
   "display_name": "Python 3",
   "language": "python",
   "name": "python3"
  },
  "language_info": {
   "codemirror_mode": {
    "name": "ipython",
    "version": 3
   },
   "file_extension": ".py",
   "mimetype": "text/x-python",
   "name": "python",
   "nbconvert_exporter": "python",
   "pygments_lexer": "ipython3",
   "version": "3.6.5"
  }
 },
 "nbformat": 4,
 "nbformat_minor": 2
}
