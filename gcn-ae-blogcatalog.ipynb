{
 "cells": [
  {
   "cell_type": "markdown",
   "metadata": {},
   "source": [
    "# Graph-convolutional auto-encoder: BlogCatalog"
   ]
  },
  {
   "cell_type": "markdown",
   "metadata": {},
   "source": [
    "## Imports and setup"
   ]
  },
  {
   "cell_type": "code",
   "execution_count": 1,
   "metadata": {},
   "outputs": [
    {
     "name": "stderr",
     "output_type": "stream",
     "text": [
      "Using TensorFlow backend.\n"
     ]
    }
   ],
   "source": [
    "import time\n",
    "import random\n",
    "import csv\n",
    "from collections import defaultdict\n",
    "import os\n",
    "\n",
    "import numpy as np\n",
    "import scipy as sp\n",
    "import scipy.stats\n",
    "import sklearn.preprocessing\n",
    "import matplotlib.pyplot as plt\n",
    "import seaborn as sb\n",
    "import networkx as nx\n",
    "\n",
    "import keras\n",
    "from keras import backend as K\n",
    "import tensorflow as tf\n",
    "from tensorflow.python import debug as tf_debug\n",
    "from keras.utils.vis_utils import model_to_dot\n",
    "from keras_tqdm import TQDMNotebookCallback as TQDMCallback\n",
    "\n",
    "from progressbar import ProgressBar\n",
    "from IPython.display import SVG, HTML, display\n",
    "\n",
    "import nw2vec\n",
    "from nw2vec import ae\n",
    "from nw2vec import utils\n",
    "from nw2vec import codecs\n",
    "from nw2vec import layers\n",
    "from nw2vec import viz\n",
    "from nw2vec import batching\n",
    "from nw2vec import graph"
   ]
  },
  {
   "cell_type": "code",
   "execution_count": 16,
   "metadata": {},
   "outputs": [],
   "source": [
    "os.environ['CUDA_VISIBLE_DEVICES'] = '1'\n",
    "MODEL_NAME = 'vae-blogcatalog'"
   ]
  },
  {
   "cell_type": "markdown",
   "metadata": {},
   "source": [
    "### Model drawing routines"
   ]
  },
  {
   "cell_type": "code",
   "execution_count": 3,
   "metadata": {},
   "outputs": [],
   "source": [
    "def plot_ξ_distribution(g, q_model, adj, features):\n",
    "    #g, l, k = glk\n",
    "    #palette = np.concatenate([np.array(sb.color_palette(n_colors=l)),\n",
    "    #                          .5 * np.ones((l, 1))],\n",
    "    #                         axis=1)\n",
    "    #communities = ([[i] for i in range(l)] * np.ones((l, k), dtype=np.int32)).reshape(-1)\n",
    "    fig, (ax1, ax2) = plt.subplots(1, 2, figsize=(12, 4))#, sharex=True, sharey=True)\n",
    "\n",
    "    x, _, feeds = next(batching.batches(vae, adj, features, target_func,\n",
    "                                        adj.shape[0], 1,\n",
    "                                        p=1, q=1, neighbour_samples=None))\n",
    "    q_pred = q_model.predict_on_fed_batch(x, feeds=feeds)\n",
    "\n",
    "    # KDE plots\n",
    "    #q_pred_ξ_sample = K.eval(codecs.Gaussian(q_pred).stochastic_value(100))\n",
    "    #for i in range(l):\n",
    "    #    x = q_pred_ξ_sample[i * k:(i + 1) * k, :, 0].flatten()\n",
    "    #    y = q_pred_ξ_sample[i * k:(i + 1) * k, :, 1].flatten()\n",
    "    #    sb.kdeplot(x, y, cmap=sb.light_palette(palette[i], as_cmap=True),\n",
    "    #               shade=True, shade_lowest=False, ax=ax1)\n",
    "    #ax1.set_title(r'$\\xi$ density for each community (flat nodes+sampling)')\n",
    "    \n",
    "    # μ plots\n",
    "    q_pred_μ = q_pred[:, :2].T\n",
    "    #ax2.scatter(q_pred_μ[0], q_pred_μ[1], s=250)#, c=palette[communities])\n",
    "    sb.kdeplot(q_pred_μ[0], q_pred_μ[1], ax=ax2)\n",
    "    #for i, (x, y) in enumerate(q_pred_μ.T):\n",
    "    #    ax2.text(x, y, str(i), ha='center', va='center', color='white')\n",
    "    ax2.set_title(r'$\\mu = \\left<\\xi\\right>$ for each node')\n",
    "    \n",
    "    # Box representing the μ plots in the KDE plots\n",
    "    #ax1.hlines(ax2.get_ylim(), *ax2.get_xlim(), colors='lightgrey')\n",
    "    #ax1.vlines(ax2.get_xlim(), *ax2.get_ylim(), colors='lightgrey')"
   ]
  },
  {
   "cell_type": "markdown",
   "metadata": {},
   "source": [
    "## Load data"
   ]
  },
  {
   "cell_type": "code",
   "execution_count": 4,
   "metadata": {},
   "outputs": [],
   "source": [
    "### Get the full list of nodes and groups ###\n",
    "\n",
    "crop = None\n",
    "\n",
    "# nodes\n",
    "nodes = []\n",
    "with open('data/BlogCatalog-dataset/data/nodes.csv') as csvfile:\n",
    "    reader = csv.reader(csvfile)\n",
    "    nodes = [int(row[0]) for row in reader]\n",
    "if crop is not None:\n",
    "    nodes = nodes[:crop]\n",
    "assert len(nodes) == len(set(nodes))\n",
    "nodes = set(nodes)\n",
    "\n",
    "# groups\n",
    "groups = []\n",
    "with open('data/BlogCatalog-dataset/data/groups.csv') as csvfile:\n",
    "    reader = csv.reader(csvfile)\n",
    "    groups = [int(row[0]) for row in reader]\n",
    "assert len(groups) == len(set(groups))\n",
    "groups = set(groups)\n",
    "\n",
    "\n",
    "### Generate graph from edges and node data ###\n",
    "\n",
    "# Read edges.csv and make a network out of it\n",
    "edges = defaultdict(list)\n",
    "with open('data/BlogCatalog-dataset/data/edges.csv') as csvfile:\n",
    "    reader = csv.reader(csvfile)\n",
    "    for row in reader:\n",
    "        if crop is not None:\n",
    "            if int(row[0]) in nodes and int(row[1]) in nodes:\n",
    "                edges[int(row[0])].append(int(row[1]))\n",
    "        else:\n",
    "            edges[int(row[0])].append(int(row[1]))\n",
    "\n",
    "g = nx.from_dict_of_lists(edges, create_using=nx.Graph())\n",
    "if crop is not None:\n",
    "    g.add_nodes_from(nodes)\n",
    "\n",
    "# Read group-edges.csv and add that info to each node\n",
    "group_edges = defaultdict(list)\n",
    "with open('data/BlogCatalog-dataset/data/group-edges.csv') as csvfile:\n",
    "    reader = csv.reader(csvfile)\n",
    "    for row in reader:\n",
    "        if crop is not None:\n",
    "            if int(row[0]) in nodes:\n",
    "                group_edges[int(row[0])].append(int(row[1]))\n",
    "        else:\n",
    "            group_edges[int(row[0])].append(int(row[1]))\n",
    "\n",
    "for node, data in g.nodes.items():\n",
    "    data['groups'] = group_edges[node]\n",
    "\n",
    "\n",
    "### Sanity checks ###\n",
    "assert set(g.nodes) == nodes\n",
    "#CROP\n",
    "if crop is None:\n",
    "    assert set().union(*[groups for _, groups in g.nodes(data='groups')]) == groups"
   ]
  },
  {
   "cell_type": "code",
   "execution_count": 5,
   "metadata": {},
   "outputs": [],
   "source": [
    "#fig, ax = plt.subplots(figsize=(15, 15))\n",
    "#layout = nx.drawing.layout.spring_layout(g)\n",
    "#nx.draw_networkx(g, pos=layout, with_labels=False, node_size=5, ax=ax)"
   ]
  },
  {
   "cell_type": "code",
   "execution_count": 6,
   "metadata": {},
   "outputs": [],
   "source": [
    "#sb.set()\n",
    "#n_batches = int(np.ceil(len(g.nodes) / batch_size))\n",
    "#\n",
    "#cols = 5\n",
    "#rows = int(np.ceil(n_batches / cols))\n",
    "#figscale = 10\n",
    "#fig, axes = plt.subplots(rows, cols, figsize=(cols * figscale, rows * figscale), sharex=True, sharey=True)\n",
    "#fig.tight_layout()\n",
    "#blue, green, red = sb.color_palette(n_colors=3)\n",
    "#\n",
    "#drawn = set()\n",
    "#for i, nodes in enumerate(batching.jumpy_walks(nx.adjacency_matrix(g), batch_size, max_walk_length)):\n",
    "#    colors = np.ones((len(g.nodes), 3)) * blue\n",
    "#    colors[list(nodes)] = red\n",
    "#    colors[list(drawn)] = green\n",
    "#    nx.draw_networkx(g, pos=layout,\n",
    "#                     node_size=80, with_labels=False,\n",
    "#                     edge_color='grey',\n",
    "#                     node_color=colors, vmin=0, vmax=1,\n",
    "#                     ax=axes[i // cols, i % cols])\n",
    "#    drawn.update(nodes)"
   ]
  },
  {
   "cell_type": "markdown",
   "metadata": {},
   "source": [
    "## Set node labels"
   ]
  },
  {
   "cell_type": "code",
   "execution_count": 7,
   "metadata": {},
   "outputs": [],
   "source": [
    "labels = np.zeros((len(nodes), len(groups)))\n",
    "nodes_offset = min(nodes)\n",
    "groups_offset = min(groups)\n",
    "for n, data in g.nodes.items():\n",
    "    labels[n - nodes_offset, np.array(data['groups']) - groups_offset] = 1\n",
    "#labels += np.random.normal(scale=.2, size=labels.shape)"
   ]
  },
  {
   "cell_type": "markdown",
   "metadata": {},
   "source": [
    "## Build the VAE"
   ]
  },
  {
   "cell_type": "code",
   "execution_count": 8,
   "metadata": {},
   "outputs": [],
   "source": [
    "# VAE Parameters\n",
    "n_nodes = len(nodes)\n",
    "adj = nx.adjacency_matrix(g).astype(np.float32)\n",
    "\n",
    "n_ξ_samples = 5\n",
    "dim_data, dim_l1, dim_ξ = len(groups), 10, 2\n",
    "dims = (dim_data, dim_l1, dim_ξ)\n",
    "use_bias = False\n",
    "\n",
    "# Actual VAE\n",
    "q_model, q_codecs = ae.build_q(dims, use_bias=use_bias)\n",
    "p_builder = ae.build_p_builder(dims, use_bias=use_bias)\n",
    "vae, vae_codecs = ae.build_vae(\n",
    "    (q_model, q_codecs),\n",
    "    p_builder,\n",
    "    n_ξ_samples,\n",
    "    [\n",
    "        1.0,  # q loss\n",
    "        1.0,  # p adj loss\n",
    "        1.0,  # p v loss\n",
    "    ],\n",
    ")"
   ]
  },
  {
   "cell_type": "code",
   "execution_count": 9,
   "metadata": {},
   "outputs": [
    {
     "data": {
      "image/svg+xml": [
       "<svg height=\"375pt\" viewBox=\"0.00 0.00 2107.00 375.00\" width=\"2107pt\" xmlns=\"http://www.w3.org/2000/svg\" xmlns:xlink=\"http://www.w3.org/1999/xlink\">\n",
       "<g class=\"graph\" id=\"graph0\" transform=\"scale(1 1) rotate(0) translate(4 371)\">\n",
       "<title>G</title>\n",
       "<polygon fill=\"#ffffff\" points=\"-4,4 -4,-371 2103,-371 2103,4 -4,4\" stroke=\"transparent\"/>\n",
       "<!-- 140425518248232 -->\n",
       "<g class=\"node\" id=\"node1\">\n",
       "<title>140425518248232</title>\n",
       "<polygon fill=\"none\" points=\"35.5,-275.5 35.5,-311.5 232.5,-311.5 232.5,-275.5 35.5,-275.5\" stroke=\"#000000\"/>\n",
       "<text fill=\"#000000\" font-family=\"Times,serif\" font-size=\"14.00\" text-anchor=\"middle\" x=\"134\" y=\"-289.8\">q_layer1_adj: InputLayer</text>\n",
       "</g>\n",
       "<!-- 140425518249240 -->\n",
       "<g class=\"node\" id=\"node6\">\n",
       "<title>140425518249240</title>\n",
       "<polygon fill=\"none\" points=\"392.5,-220.5 392.5,-256.5 502.5,-256.5 502.5,-220.5 392.5,-220.5\" stroke=\"#000000\"/>\n",
       "<text fill=\"#000000\" font-family=\"Times,serif\" font-size=\"14.00\" text-anchor=\"middle\" x=\"447.5\" y=\"-234.8\">q_layer1: GC</text>\n",
       "</g>\n",
       "<!-- 140425518248232&#45;&gt;140425518249240 -->\n",
       "<g class=\"edge\" id=\"edge1\">\n",
       "<title>140425518248232-&gt;140425518249240</title>\n",
       "<path d=\"M232.7631,-276.1731C281.4473,-267.6321 338.8189,-257.5669 382.0081,-249.9898\" fill=\"none\" stroke=\"#000000\"/>\n",
       "<polygon fill=\"#000000\" points=\"382.8654,-253.3929 392.1101,-248.2175 381.6557,-246.4982 382.8654,-253.3929\" stroke=\"#000000\"/>\n",
       "</g>\n",
       "<!-- 140425518248568 -->\n",
       "<g class=\"node\" id=\"node2\">\n",
       "<title>140425518248568</title>\n",
       "<polygon fill=\"none\" points=\"0,-220.5 0,-256.5 268,-256.5 268,-220.5 0,-220.5\" stroke=\"#000000\"/>\n",
       "<text fill=\"#000000\" font-family=\"Times,serif\" font-size=\"14.00\" text-anchor=\"middle\" x=\"134\" y=\"-234.8\">q_layer1_output_mask: InputLayer</text>\n",
       "</g>\n",
       "<!-- 140425518248568&#45;&gt;140425518249240 -->\n",
       "<g class=\"edge\" id=\"edge2\">\n",
       "<title>140425518248568-&gt;140425518249240</title>\n",
       "<path d=\"M268.3165,-238.5C307.6061,-238.5 348.8157,-238.5 381.7953,-238.5\" fill=\"none\" stroke=\"#000000\"/>\n",
       "<polygon fill=\"#000000\" points=\"382.2009,-242.0001 392.2009,-238.5 382.2008,-235.0001 382.2009,-242.0001\" stroke=\"#000000\"/>\n",
       "</g>\n",
       "<!-- 140425902330600 -->\n",
       "<g class=\"node\" id=\"node3\">\n",
       "<title>140425902330600</title>\n",
       "<polygon fill=\"none\" points=\"54,-165.5 54,-201.5 214,-201.5 214,-165.5 54,-165.5\" stroke=\"#000000\"/>\n",
       "<text fill=\"#000000\" font-family=\"Times,serif\" font-size=\"14.00\" text-anchor=\"middle\" x=\"134\" y=\"-179.8\">q_input: InputLayer</text>\n",
       "</g>\n",
       "<!-- 140425902330600&#45;&gt;140425518249240 -->\n",
       "<g class=\"edge\" id=\"edge3\">\n",
       "<title>140425902330600-&gt;140425518249240</title>\n",
       "<path d=\"M214.3269,-197.5924C266.3235,-206.7147 333.1743,-218.4429 381.9547,-227.0008\" fill=\"none\" stroke=\"#000000\"/>\n",
       "<polygon fill=\"#000000\" points=\"381.6234,-230.4961 392.0778,-228.7768 382.833,-223.6014 381.6234,-230.4961\" stroke=\"#000000\"/>\n",
       "</g>\n",
       "<!-- 140425409023728 -->\n",
       "<g class=\"node\" id=\"node4\">\n",
       "<title>140425409023728</title>\n",
       "<polygon fill=\"none\" points=\"344.5,-275.5 344.5,-311.5 550.5,-311.5 550.5,-275.5 344.5,-275.5\" stroke=\"#000000\"/>\n",
       "<text fill=\"#000000\" font-family=\"Times,serif\" font-size=\"14.00\" text-anchor=\"middle\" x=\"447.5\" y=\"-289.8\">q_mu_flat_adj: InputLayer</text>\n",
       "</g>\n",
       "<!-- 140425515759936 -->\n",
       "<g class=\"node\" id=\"node11\">\n",
       "<title>140425515759936</title>\n",
       "<polygon fill=\"none\" points=\"632,-247.5 632,-283.5 751,-283.5 751,-247.5 632,-247.5\" stroke=\"#000000\"/>\n",
       "<text fill=\"#000000\" font-family=\"Times,serif\" font-size=\"14.00\" text-anchor=\"middle\" x=\"691.5\" y=\"-261.8\">q_mu_flat: GC</text>\n",
       "</g>\n",
       "<!-- 140425409023728&#45;&gt;140425515759936 -->\n",
       "<g class=\"edge\" id=\"edge4\">\n",
       "<title>140425409023728-&gt;140425515759936</title>\n",
       "<path d=\"M550.6243,-281.6661C574.6487,-278.9092 599.6738,-276.0374 621.8509,-273.4925\" fill=\"none\" stroke=\"#000000\"/>\n",
       "<polygon fill=\"#000000\" points=\"622.2904,-276.9651 631.8261,-272.3478 621.4923,-270.0108 622.2904,-276.9651\" stroke=\"#000000\"/>\n",
       "</g>\n",
       "<!-- 140425387114280 -->\n",
       "<g class=\"node\" id=\"node5\">\n",
       "<title>140425387114280</title>\n",
       "<polygon fill=\"none\" points=\"309,-330.5 309,-366.5 586,-366.5 586,-330.5 309,-330.5\" stroke=\"#000000\"/>\n",
       "<text fill=\"#000000\" font-family=\"Times,serif\" font-size=\"14.00\" text-anchor=\"middle\" x=\"447.5\" y=\"-344.8\">q_mu_flat_output_mask: InputLayer</text>\n",
       "</g>\n",
       "<!-- 140425387114280&#45;&gt;140425515759936 -->\n",
       "<g class=\"edge\" id=\"edge5\">\n",
       "<title>140425387114280-&gt;140425515759936</title>\n",
       "<path d=\"M561.9836,-330.4399C571.9086,-327.8294 581.7032,-324.8638 591,-321.5 613.5972,-313.3237 637.1521,-300.4638 655.7733,-289.1285\" fill=\"none\" stroke=\"#000000\"/>\n",
       "<polygon fill=\"#000000\" points=\"657.8439,-291.9627 664.4925,-283.7136 654.1509,-286.0161 657.8439,-291.9627\" stroke=\"#000000\"/>\n",
       "</g>\n",
       "<!-- 140425518249240&#45;&gt;140425515759936 -->\n",
       "<g class=\"edge\" id=\"edge6\">\n",
       "<title>140425518249240-&gt;140425515759936</title>\n",
       "<path d=\"M502.5626,-244.593C537.916,-248.5051 584.1311,-253.619 622.0041,-257.8099\" fill=\"none\" stroke=\"#000000\"/>\n",
       "<polygon fill=\"#000000\" points=\"621.6195,-261.2886 631.9438,-258.9098 622.3894,-254.3311 621.6195,-261.2886\" stroke=\"#000000\"/>\n",
       "</g>\n",
       "<!-- 140425365906376 -->\n",
       "<g class=\"node\" id=\"node12\">\n",
       "<title>140425365906376</title>\n",
       "<polygon fill=\"none\" points=\"627,-165.5 627,-201.5 756,-201.5 756,-165.5 627,-165.5\" stroke=\"#000000\"/>\n",
       "<text fill=\"#000000\" font-family=\"Times,serif\" font-size=\"14.00\" text-anchor=\"middle\" x=\"691.5\" y=\"-179.8\">q_logD_flat: GC</text>\n",
       "</g>\n",
       "<!-- 140425518249240&#45;&gt;140425365906376 -->\n",
       "<g class=\"edge\" id=\"edge9\">\n",
       "<title>140425518249240-&gt;140425365906376</title>\n",
       "<path d=\"M502.5853,-229.2761C529.3795,-224.4996 561.9899,-218.2573 591,-211.5 600.5257,-209.2812 610.5045,-206.7526 620.3213,-204.1436\" fill=\"none\" stroke=\"#000000\"/>\n",
       "<polygon fill=\"#000000\" points=\"621.318,-207.5 630.0614,-201.5164 619.4949,-200.7415 621.318,-207.5\" stroke=\"#000000\"/>\n",
       "</g>\n",
       "<!-- 140425404573568 -->\n",
       "<g class=\"node\" id=\"node13\">\n",
       "<title>140425404573568</title>\n",
       "<polygon fill=\"none\" points=\"639,-83.5 639,-119.5 744,-119.5 744,-83.5 639,-83.5\" stroke=\"#000000\"/>\n",
       "<text fill=\"#000000\" font-family=\"Times,serif\" font-size=\"14.00\" text-anchor=\"middle\" x=\"691.5\" y=\"-97.8\">q_u_flat: GC</text>\n",
       "</g>\n",
       "<!-- 140425518249240&#45;&gt;140425404573568 -->\n",
       "<g class=\"edge\" id=\"edge12\">\n",
       "<title>140425518249240-&gt;140425404573568</title>\n",
       "<path d=\"M502.8,-238.1966C531.2037,-235.6646 565.1718,-228.7413 591,-211.5 615.2988,-195.2796 607.6888,-178.4228 627,-156.5 636.5344,-145.6762 648.2231,-135.0781 659.0187,-126.1196\" fill=\"none\" stroke=\"#000000\"/>\n",
       "<polygon fill=\"#000000\" points=\"661.4837,-128.627 667.0496,-119.612 657.0767,-123.1884 661.4837,-128.627\" stroke=\"#000000\"/>\n",
       "</g>\n",
       "<!-- 140425409644136 -->\n",
       "<g class=\"node\" id=\"node7\">\n",
       "<title>140425409644136</title>\n",
       "<polygon fill=\"none\" points=\"339.5,-110.5 339.5,-146.5 555.5,-146.5 555.5,-110.5 339.5,-110.5\" stroke=\"#000000\"/>\n",
       "<text fill=\"#000000\" font-family=\"Times,serif\" font-size=\"14.00\" text-anchor=\"middle\" x=\"447.5\" y=\"-124.8\">q_logD_flat_adj: InputLayer</text>\n",
       "</g>\n",
       "<!-- 140425409644136&#45;&gt;140425365906376 -->\n",
       "<g class=\"edge\" id=\"edge7\">\n",
       "<title>140425409644136-&gt;140425365906376</title>\n",
       "<path d=\"M544.9552,-146.5641C560.398,-149.7003 576.1629,-153.0638 591,-156.5 599.5041,-158.4695 608.378,-160.6573 617.1793,-162.9109\" fill=\"none\" stroke=\"#000000\"/>\n",
       "<polygon fill=\"#000000\" points=\"616.5033,-166.3513 627.0618,-165.4751 618.2614,-159.5757 616.5033,-166.3513\" stroke=\"#000000\"/>\n",
       "</g>\n",
       "<!-- 140425409127872 -->\n",
       "<g class=\"node\" id=\"node8\">\n",
       "<title>140425409127872</title>\n",
       "<polygon fill=\"none\" points=\"304,-165.5 304,-201.5 591,-201.5 591,-165.5 304,-165.5\" stroke=\"#000000\"/>\n",
       "<text fill=\"#000000\" font-family=\"Times,serif\" font-size=\"14.00\" text-anchor=\"middle\" x=\"447.5\" y=\"-179.8\">q_logD_flat_output_mask: InputLayer</text>\n",
       "</g>\n",
       "<!-- 140425409127872&#45;&gt;140425365906376 -->\n",
       "<g class=\"edge\" id=\"edge8\">\n",
       "<title>140425409127872-&gt;140425365906376</title>\n",
       "<path d=\"M591.1996,-183.5C599.9287,-183.5 608.5047,-183.5 616.741,-183.5\" fill=\"none\" stroke=\"#000000\"/>\n",
       "<polygon fill=\"#000000\" points=\"616.9779,-187.0001 626.9779,-183.5 616.9778,-180.0001 616.9779,-187.0001\" stroke=\"#000000\"/>\n",
       "</g>\n",
       "<!-- 140425404135352 -->\n",
       "<g class=\"node\" id=\"node9\">\n",
       "<title>140425404135352</title>\n",
       "<polygon fill=\"none\" points=\"351.5,-.5 351.5,-36.5 543.5,-36.5 543.5,-.5 351.5,-.5\" stroke=\"#000000\"/>\n",
       "<text fill=\"#000000\" font-family=\"Times,serif\" font-size=\"14.00\" text-anchor=\"middle\" x=\"447.5\" y=\"-14.8\">q_u_flat_adj: InputLayer</text>\n",
       "</g>\n",
       "<!-- 140425404135352&#45;&gt;140425404573568 -->\n",
       "<g class=\"edge\" id=\"edge10\">\n",
       "<title>140425404135352-&gt;140425404573568</title>\n",
       "<path d=\"M543.5981,-32.1339C559.6652,-35.6716 575.9821,-40.0661 591,-45.5 613.5972,-53.6763 637.1521,-66.5362 655.7733,-77.8715\" fill=\"none\" stroke=\"#000000\"/>\n",
       "<polygon fill=\"#000000\" points=\"654.1509,-80.9839 664.4925,-83.2864 657.8439,-75.0373 654.1509,-80.9839\" stroke=\"#000000\"/>\n",
       "</g>\n",
       "<!-- 140425404413096 -->\n",
       "<g class=\"node\" id=\"node10\">\n",
       "<title>140425404413096</title>\n",
       "<polygon fill=\"none\" points=\"316,-55.5 316,-91.5 579,-91.5 579,-55.5 316,-55.5\" stroke=\"#000000\"/>\n",
       "<text fill=\"#000000\" font-family=\"Times,serif\" font-size=\"14.00\" text-anchor=\"middle\" x=\"447.5\" y=\"-69.8\">q_u_flat_output_mask: InputLayer</text>\n",
       "</g>\n",
       "<!-- 140425404413096&#45;&gt;140425404573568 -->\n",
       "<g class=\"edge\" id=\"edge11\">\n",
       "<title>140425404413096-&gt;140425404573568</title>\n",
       "<path d=\"M579.1414,-88.6064C596.3325,-90.5791 613.2667,-92.5224 628.5671,-94.2782\" fill=\"none\" stroke=\"#000000\"/>\n",
       "<polygon fill=\"#000000\" points=\"628.548,-97.7989 638.8818,-95.4618 629.3461,-90.8445 628.548,-97.7989\" stroke=\"#000000\"/>\n",
       "</g>\n",
       "<!-- 140425404253464 -->\n",
       "<g class=\"node\" id=\"node14\">\n",
       "<title>140425404253464</title>\n",
       "<polygon fill=\"none\" points=\"792,-165.5 792,-201.5 1021,-201.5 1021,-165.5 792,-165.5\" stroke=\"#000000\"/>\n",
       "<text fill=\"#000000\" font-family=\"Times,serif\" font-size=\"14.00\" text-anchor=\"middle\" x=\"906.5\" y=\"-179.8\">q_mulogDu_flat: Concatenate</text>\n",
       "</g>\n",
       "<!-- 140425515759936&#45;&gt;140425404253464 -->\n",
       "<g class=\"edge\" id=\"edge13\">\n",
       "<title>140425515759936-&gt;140425404253464</title>\n",
       "<path d=\"M738.9488,-247.4032C771.616,-234.9441 815.1763,-218.3304 849.6932,-205.1658\" fill=\"none\" stroke=\"#000000\"/>\n",
       "<polygon fill=\"#000000\" points=\"851.0761,-208.3844 859.1724,-201.5505 848.5816,-201.8439 851.0761,-208.3844\" stroke=\"#000000\"/>\n",
       "</g>\n",
       "<!-- 140425365906376&#45;&gt;140425404253464 -->\n",
       "<g class=\"edge\" id=\"edge14\">\n",
       "<title>140425365906376-&gt;140425404253464</title>\n",
       "<path d=\"M756.0071,-183.5C764.275,-183.5 772.9492,-183.5 781.7826,-183.5\" fill=\"none\" stroke=\"#000000\"/>\n",
       "<polygon fill=\"#000000\" points=\"781.8104,-187.0001 791.8103,-183.5 781.8103,-180.0001 781.8104,-187.0001\" stroke=\"#000000\"/>\n",
       "</g>\n",
       "<!-- 140425404573568&#45;&gt;140425404253464 -->\n",
       "<g class=\"edge\" id=\"edge15\">\n",
       "<title>140425404573568-&gt;140425404253464</title>\n",
       "<path d=\"M738.9488,-119.5968C771.616,-132.0559 815.1763,-148.6696 849.6932,-161.8342\" fill=\"none\" stroke=\"#000000\"/>\n",
       "<polygon fill=\"#000000\" points=\"848.5816,-165.1561 859.1724,-165.4495 851.0761,-158.6156 848.5816,-165.1561\" stroke=\"#000000\"/>\n",
       "</g>\n",
       "<!-- 140425403560120 -->\n",
       "<g class=\"node\" id=\"node15\">\n",
       "<title>140425403560120</title>\n",
       "<polygon fill=\"none\" points=\"1057,-165.5 1057,-201.5 1448,-201.5 1448,-165.5 1057,-165.5\" stroke=\"#000000\"/>\n",
       "<text fill=\"#000000\" font-family=\"Times,serif\" font-size=\"14.00\" text-anchor=\"middle\" x=\"1252.5\" y=\"-179.8\">parametrised_stochastic_1: ParametrisedStochastic</text>\n",
       "</g>\n",
       "<!-- 140425404253464&#45;&gt;140425403560120 -->\n",
       "<g class=\"edge\" id=\"edge16\">\n",
       "<title>140425404253464-&gt;140425403560120</title>\n",
       "<path d=\"M1021.2324,-183.5C1029.5743,-183.5 1038.1208,-183.5 1046.7809,-183.5\" fill=\"none\" stroke=\"#000000\"/>\n",
       "<polygon fill=\"#000000\" points=\"1046.9938,-187.0001 1056.9938,-183.5 1046.9937,-180.0001 1046.9938,-187.0001\" stroke=\"#000000\"/>\n",
       "</g>\n",
       "<!-- 140425403561240 -->\n",
       "<g class=\"node\" id=\"node16\">\n",
       "<title>140425403561240</title>\n",
       "<polygon fill=\"none\" points=\"1484,-165.5 1484,-201.5 1615,-201.5 1615,-165.5 1484,-165.5\" stroke=\"#000000\"/>\n",
       "<text fill=\"#000000\" font-family=\"Times,serif\" font-size=\"14.00\" text-anchor=\"middle\" x=\"1549.5\" y=\"-179.8\">p_layer1: Dense</text>\n",
       "</g>\n",
       "<!-- 140425403560120&#45;&gt;140425403561240 -->\n",
       "<g class=\"edge\" id=\"edge17\">\n",
       "<title>140425403560120-&gt;140425403561240</title>\n",
       "<path d=\"M1448.1201,-183.5C1456.9784,-183.5 1465.5871,-183.5 1473.801,-183.5\" fill=\"none\" stroke=\"#000000\"/>\n",
       "<polygon fill=\"#000000\" points=\"1473.9832,-187.0001 1483.9832,-183.5 1473.9831,-180.0001 1473.9832,-187.0001\" stroke=\"#000000\"/>\n",
       "</g>\n",
       "<!-- 140425401093648 -->\n",
       "<g class=\"node\" id=\"node17\">\n",
       "<title>140425401093648</title>\n",
       "<polygon fill=\"none\" points=\"1656.5,-248.5 1656.5,-284.5 1812.5,-284.5 1812.5,-248.5 1656.5,-248.5\" stroke=\"#000000\"/>\n",
       "<text fill=\"#000000\" font-family=\"Times,serif\" font-size=\"14.00\" text-anchor=\"middle\" x=\"1734.5\" y=\"-262.8\">p_v_mu_flat: Dense</text>\n",
       "</g>\n",
       "<!-- 140425403561240&#45;&gt;140425401093648 -->\n",
       "<g class=\"edge\" id=\"edge18\">\n",
       "<title>140425403561240-&gt;140425401093648</title>\n",
       "<path d=\"M1578.9403,-201.7122C1598.8048,-213.5033 1625.8808,-228.6286 1651,-239.5 1655.317,-241.3684 1659.8073,-243.1788 1664.3662,-244.9181\" fill=\"none\" stroke=\"#000000\"/>\n",
       "<polygon fill=\"#000000\" points=\"1663.1935,-248.216 1673.787,-248.3841 1665.6105,-241.6465 1663.1935,-248.216\" stroke=\"#000000\"/>\n",
       "</g>\n",
       "<!-- 140425399497840 -->\n",
       "<g class=\"node\" id=\"node18\">\n",
       "<title>140425399497840</title>\n",
       "<polygon fill=\"none\" points=\"1651,-193.5 1651,-229.5 1818,-229.5 1818,-193.5 1651,-193.5\" stroke=\"#000000\"/>\n",
       "<text fill=\"#000000\" font-family=\"Times,serif\" font-size=\"14.00\" text-anchor=\"middle\" x=\"1734.5\" y=\"-207.8\">p_v_logD_flat: Dense</text>\n",
       "</g>\n",
       "<!-- 140425403561240&#45;&gt;140425399497840 -->\n",
       "<g class=\"edge\" id=\"edge19\">\n",
       "<title>140425403561240-&gt;140425399497840</title>\n",
       "<path d=\"M1615.245,-193.4506C1623.5307,-194.7047 1632.1299,-196.0061 1640.7436,-197.3098\" fill=\"none\" stroke=\"#000000\"/>\n",
       "<polygon fill=\"#000000\" points=\"1640.4329,-200.8026 1650.844,-198.8386 1641.4804,-193.8814 1640.4329,-200.8026\" stroke=\"#000000\"/>\n",
       "</g>\n",
       "<!-- 140425399192096 -->\n",
       "<g class=\"node\" id=\"node19\">\n",
       "<title>140425399192096</title>\n",
       "<polygon fill=\"none\" points=\"1663,-138.5 1663,-174.5 1806,-174.5 1806,-138.5 1663,-138.5\" stroke=\"#000000\"/>\n",
       "<text fill=\"#000000\" font-family=\"Times,serif\" font-size=\"14.00\" text-anchor=\"middle\" x=\"1734.5\" y=\"-152.8\">p_v_u_flat: Dense</text>\n",
       "</g>\n",
       "<!-- 140425403561240&#45;&gt;140425399192096 -->\n",
       "<g class=\"edge\" id=\"edge20\">\n",
       "<title>140425403561240-&gt;140425399192096</title>\n",
       "<path d=\"M1615.245,-173.9048C1627.3734,-172.1347 1640.1733,-170.2666 1652.7074,-168.4373\" fill=\"none\" stroke=\"#000000\"/>\n",
       "<polygon fill=\"#000000\" points=\"1653.2949,-171.8887 1662.6846,-166.9812 1652.2839,-164.9621 1653.2949,-171.8887\" stroke=\"#000000\"/>\n",
       "</g>\n",
       "<!-- 140425400896200 -->\n",
       "<g class=\"node\" id=\"node20\">\n",
       "<title>140425400896200</title>\n",
       "<polygon fill=\"none\" points=\"1674.5,-83.5 1674.5,-119.5 1794.5,-119.5 1794.5,-83.5 1674.5,-83.5\" stroke=\"#000000\"/>\n",
       "<text fill=\"#000000\" font-family=\"Times,serif\" font-size=\"14.00\" text-anchor=\"middle\" x=\"1734.5\" y=\"-97.8\">p_adj: Bilinear</text>\n",
       "</g>\n",
       "<!-- 140425403561240&#45;&gt;140425400896200 -->\n",
       "<g class=\"edge\" id=\"edge21\">\n",
       "<title>140425403561240-&gt;140425400896200</title>\n",
       "<path d=\"M1580.389,-165.3463C1600.17,-154.1558 1626.6135,-139.9903 1651,-129.5 1656.0915,-127.3098 1661.4153,-125.1785 1666.8036,-123.1332\" fill=\"none\" stroke=\"#000000\"/>\n",
       "<polygon fill=\"#000000\" points=\"1668.3605,-126.2897 1676.5358,-119.5506 1665.9423,-119.7207 1668.3605,-126.2897\" stroke=\"#000000\"/>\n",
       "</g>\n",
       "<!-- 140425398917720 -->\n",
       "<g class=\"node\" id=\"node21\">\n",
       "<title>140425398917720</title>\n",
       "<polygon fill=\"none\" points=\"1854,-193.5 1854,-229.5 2099,-229.5 2099,-193.5 1854,-193.5\" stroke=\"#000000\"/>\n",
       "<text fill=\"#000000\" font-family=\"Times,serif\" font-size=\"14.00\" text-anchor=\"middle\" x=\"1976.5\" y=\"-207.8\">p_v_mulogDu_flat: Concatenate</text>\n",
       "</g>\n",
       "<!-- 140425401093648&#45;&gt;140425398917720 -->\n",
       "<g class=\"edge\" id=\"edge23\">\n",
       "<title>140425401093648-&gt;140425398917720</title>\n",
       "<path d=\"M1812.7363,-248.719C1836.525,-243.3125 1862.8445,-237.3308 1887.2989,-231.773\" fill=\"none\" stroke=\"#000000\"/>\n",
       "<polygon fill=\"#000000\" points=\"1888.3133,-235.1318 1897.2889,-229.5025 1886.7619,-228.3058 1888.3133,-235.1318\" stroke=\"#000000\"/>\n",
       "</g>\n",
       "<!-- 140425399497840&#45;&gt;140425398917720 -->\n",
       "<g class=\"edge\" id=\"edge24\">\n",
       "<title>140425399497840-&gt;140425398917720</title>\n",
       "<path d=\"M1818.1215,-211.5C1826.4681,-211.5 1835.0778,-211.5 1843.769,-211.5\" fill=\"none\" stroke=\"#000000\"/>\n",
       "<polygon fill=\"#000000\" points=\"1843.9983,-215.0001 1853.9983,-211.5 1843.9983,-208.0001 1843.9983,-215.0001\" stroke=\"#000000\"/>\n",
       "</g>\n",
       "<!-- 140425399192096&#45;&gt;140425398917720 -->\n",
       "<g class=\"edge\" id=\"edge25\">\n",
       "<title>140425399192096-&gt;140425398917720</title>\n",
       "<path d=\"M1806.1257,-172.7786C1831.4609,-178.5366 1860.2819,-185.0868 1886.9201,-191.1409\" fill=\"none\" stroke=\"#000000\"/>\n",
       "<polygon fill=\"#000000\" points=\"1886.4837,-194.6309 1897.0108,-193.4343 1888.0351,-187.805 1886.4837,-194.6309\" stroke=\"#000000\"/>\n",
       "</g>\n",
       "</g>\n",
       "</svg>"
      ],
      "text/plain": [
       "<IPython.core.display.SVG object>"
      ]
     },
     "metadata": {},
     "output_type": "display_data"
    }
   ],
   "source": [
    "display(SVG(model_to_dot(vae, rankdir='LR').create(prog='dot', format='svg')))"
   ]
  },
  {
   "cell_type": "markdown",
   "metadata": {},
   "source": [
    "## Target function"
   ]
  },
  {
   "cell_type": "code",
   "execution_count": 10,
   "metadata": {},
   "outputs": [],
   "source": [
    "features = utils.scale_center(labels)\n",
    "\n",
    "def target_func(batch_adj, required_nodes, final_nodes):\n",
    "    return [\n",
    "        np.zeros(1), # ignored\n",
    "        utils.expand_dims_tile(utils.expand_dims_tile(batch_adj + np.eye(batch_adj.shape[0]), 0, n_ξ_samples), 0, 1),\n",
    "        utils.expand_dims_tile(features[final_nodes], 1, n_ξ_samples),\n",
    "    ]"
   ]
  },
  {
   "cell_type": "markdown",
   "metadata": {},
   "source": [
    "## Before training\n",
    "\n",
    "$\\xi$ averages and distributions for each community, real and predicted adjacency matrices"
   ]
  },
  {
   "cell_type": "code",
   "execution_count": 11,
   "metadata": {},
   "outputs": [],
   "source": [
    "#plot_ξ_distribution(g, q_model, adj, labels)"
   ]
  },
  {
   "cell_type": "code",
   "execution_count": 12,
   "metadata": {},
   "outputs": [],
   "source": [
    "#fig, (ax1, ax2) = plt.subplots(1, 2, figsize=(9, 4))\n",
    "#\n",
    "#im1 = ax1.imshow(nx.adjacency_matrix(g).todense())\n",
    "#ax1.set_title('Real adjacency matrix')\n",
    "#plt.colorbar(im1, ax=ax1)\n",
    "#\n",
    "#x, _, feeds = next(batching.batches(vae, adj, features, target_func,\n",
    "#                                    adj.shape[0], 1,\n",
    "#                                    p=1, q=1, neighbour_samples=None))\n",
    "#adj_pred = vae.predict_on_fed_batch(x, feeds=feeds)[1]\n",
    "#im2 = ax2.imshow(scipy.special.expit(adj_pred[0].mean(axis=0)))\n",
    "#im2.set_norm(im1.norm)\n",
    "#ax2.set_title('Predicted adjacency matrix')\n",
    "#plt.colorbar(im2, ax=ax2);"
   ]
  },
  {
   "cell_type": "markdown",
   "metadata": {},
   "source": [
    "## Train"
   ]
  },
  {
   "cell_type": "code",
   "execution_count": 13,
   "metadata": {},
   "outputs": [
    {
     "name": "stdout",
     "output_type": "stream",
     "text": [
      "rm: cannot remove './logs': No such file or directory\r\n"
     ]
    }
   ],
   "source": [
    "rm -r ./logs"
   ]
  },
  {
   "cell_type": "code",
   "execution_count": 14,
   "metadata": {},
   "outputs": [],
   "source": [
    "n_epochs = 10#5000\n",
    "seeds_per_batch = 5\n",
    "max_walk_length = 100\n",
    "p = 1\n",
    "q = 1\n",
    "neighbour_samples = 30\n",
    "\n",
    "steps_per_epoch = int(np.ceil(len(labels) / seeds_per_batch))"
   ]
  },
  {
   "cell_type": "code",
   "execution_count": 15,
   "metadata": {},
   "outputs": [],
   "source": [
    "# Precompute the CSGraph\n",
    "_ = graph.get_csgraph(adj, p, q)"
   ]
  },
  {
   "cell_type": "code",
   "execution_count": null,
   "metadata": {},
   "outputs": [
    {
     "name": "stderr",
     "output_type": "stream",
     "text": [
      "/home/sl/.conda/envs/base36/lib/python3.6/site-packages/tensorflow/python/ops/gradients_impl.py:98: UserWarning: Converting sparse IndexedSlices to a dense Tensor of unknown shape. This may consume a large amount of memory.\n",
      "  \"Converting sparse IndexedSlices to a dense Tensor of unknown shape. \"\n",
      "/home/sl/.conda/envs/base36/lib/python3.6/site-packages/tensorflow/python/ops/gradients_impl.py:98: UserWarning: Converting sparse IndexedSlices to a dense Tensor of unknown shape. This may consume a large amount of memory.\n",
      "  \"Converting sparse IndexedSlices to a dense Tensor of unknown shape. \"\n",
      "/home/sl/.conda/envs/base36/lib/python3.6/site-packages/tensorflow/python/ops/gradients_impl.py:98: UserWarning: Converting sparse IndexedSlices to a dense Tensor of unknown shape. This may consume a large amount of memory.\n",
      "  \"Converting sparse IndexedSlices to a dense Tensor of unknown shape. \"\n"
     ]
    },
    {
     "data": {
      "application/vnd.jupyter.widget-view+json": {
       "model_id": "4007cd494809477596df51b39c992631",
       "version_major": 2,
       "version_minor": 0
      },
      "text/plain": [
       "HBox(children=(IntProgress(value=0, description='Training', max=10), HTML(value='')))"
      ]
     },
     "metadata": {},
     "output_type": "display_data"
    },
    {
     "data": {
      "application/vnd.jupyter.widget-view+json": {
       "model_id": "d2e01ee78bd34c168c1c6147b8f29e9a",
       "version_major": 2,
       "version_minor": 0
      },
      "text/plain": [
       "HBox(children=(IntProgress(value=0, description='Epoch 0', max=2063), HTML(value='')))"
      ]
     },
     "metadata": {},
     "output_type": "display_data"
    }
   ],
   "source": [
    "history = vae.fit_generator_feed(batching.batches(vae, adj, labels, target_func,\n",
    "                                                  seeds_per_batch, max_walk_length,\n",
    "                                                  p=p, q=q, neighbour_samples=neighbour_samples),\n",
    "                                 steps_per_epoch=steps_per_epoch,\n",
    "                                 epochs=n_epochs,\n",
    "                                 check_array_lengths=False,\n",
    "                                 shuffle=False,\n",
    "                                 verbose=0,\n",
    "                                 callbacks=[\n",
    "                                     #keras.callbacks.TensorBoard(),\n",
    "                                     ae.ModelBatchCheckpoint(MODEL_NAME + '.batch-checkpoint.h5',\n",
    "                                                             monitor='loss', period=10,\n",
    "                                                             save_best_only=True),\n",
    "                                     keras.callbacks.ModelCheckpoint(MODEL_NAME + '.epoch-checkpoint.h5',\n",
    "                                                                     monitor='loss', period=10,\n",
    "                                                                     save_best_only=True),\n",
    "                                     TQDMCallback(),\n",
    "                                 ])"
   ]
  },
  {
   "cell_type": "markdown",
   "metadata": {},
   "source": [
    "Usually, the cell above complains with \"UserWarning: Converting sparse IndexedSlices to a dense Tensor of unknown shape. This may consume a large amount of memory.\". See these for more details:\n",
    "* https://stackoverflow.com/questions/35892412/tensorflow-dense-gradient-explanation#35896823\n",
    "* https://stackoverflow.com/questions/39111373/tensorflow-chaining-tf-gather-produces-indexedslices-warning"
   ]
  },
  {
   "cell_type": "code",
   "execution_count": 16,
   "metadata": {},
   "outputs": [
    {
     "data": {
      "image/png": "[encoded data removed]",
      "text/plain": [
       "<Figure size 1080x288 with 3 Axes>"
      ]
     },
     "metadata": {},
     "output_type": "display_data"
    }
   ],
   "source": [
    "fig, axes = plt.subplots(1, len(history.history), figsize=(len(history.history) * 5, 4))\n",
    "for i, (title, values) in enumerate(history.history.items()):\n",
    "    axes[i].plot(values)\n",
    "    axes[i].set_title(title)\n",
    "fig.tight_layout()"
   ]
  },
  {
   "cell_type": "markdown",
   "metadata": {},
   "source": [
    "## Results"
   ]
  },
  {
   "cell_type": "markdown",
   "metadata": {},
   "source": [
    "**After training:** $\\xi$ averages and distributions for each community, real and predicted adjacency matrices"
   ]
  },
  {
   "cell_type": "code",
   "execution_count": 24,
   "metadata": {},
   "outputs": [
    {
     "data": {
      "image/png": "[encoded data removed]",
      "text/plain": [
       "<Figure size 864x288 with 2 Axes>"
      ]
     },
     "metadata": {},
     "output_type": "display_data"
    }
   ],
   "source": [
    "plot_ξ_distribution(g, q_model, adj, labels)"
   ]
  },
  {
   "cell_type": "markdown",
   "metadata": {},
   "source": [
    "Predicted adjacency matrix:"
   ]
  },
  {
   "cell_type": "code",
   "execution_count": 14,
   "metadata": {},
   "outputs": [],
   "source": [
    "fig, (ax1, ax2) = plt.subplots(1, 2, figsize=(9, 4))\n",
    "\n",
    "im1 = ax1.imshow(nx.adjacency_matrix(g).todense())\n",
    "ax1.set_title('Real adjacency matrix')\n",
    "plt.colorbar(im1, ax=ax1)\n",
    "\n",
    "x, _, feeds = next(batching.batches(vae, adj, features, target_func,\n",
    "                                    adj.shape[0], 1,\n",
    "                                    p=1, q=1, neighbour_samples=None))\n",
    "adj_pred = vae.predict_on_fed_batch(x, feeds=feeds)[1]\n",
    "im2 = ax2.imshow(scipy.special.expit(adj_pred[0].mean(axis=0)))\n",
    "im2.set_norm(im1.norm)\n",
    "ax2.set_title('Predicted adjacency matrix')\n",
    "plt.colorbar(im2, ax=ax2);"
   ]
  },
  {
   "cell_type": "code",
   "execution_count": null,
   "metadata": {},
   "outputs": [],
   "source": [
    "plt.imshow(np.random.binomial(1, scipy.special.expit(adj_pred[0].mean(axis=0))))"
   ]
  },
  {
   "cell_type": "code",
   "execution_count": null,
   "metadata": {},
   "outputs": [],
   "source": [
    "for layer in vae.layers:\n",
    "    if hasattr(layer, 'kernel'):\n",
    "        fig, (ax1, ax2) = plt.subplots(1, 2, figsize=(6, 4))#, sharey=True)\n",
    "        im1 = ax1.imshow(K.eval(layer.kernel).T)\n",
    "        ax1.set_title('{} kernel'.format(layer.name))\n",
    "        plt.colorbar(im1, ax=ax1)\n",
    "    if hasattr(layer, 'bias') and layer.bias is not None:\n",
    "        im2 = ax2.imshow(K.eval(K.expand_dims(layer.bias, -1)))\n",
    "        ax2.set_title('{} bias'.format(layer.name))\n",
    "        plt.colorbar(im2, ax=ax2)\n",
    "    else:\n",
    "        ax2.set_visible(False)"
   ]
  }
 ],
 "metadata": {
  "kernelspec": {
   "display_name": "Python 3",
   "language": "python",
   "name": "python3"
  },
  "language_info": {
   "codemirror_mode": {
    "name": "ipython",
    "version": 3
   },
   "file_extension": ".py",
   "mimetype": "text/x-python",
   "name": "python",
   "nbconvert_exporter": "python",
   "pygments_lexer": "ipython3",
   "version": "3.6.5"
  }
 },
 "nbformat": 4,
 "nbformat_minor": 2
}
