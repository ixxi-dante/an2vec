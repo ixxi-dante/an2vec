{
 "cells": [
  {
   "cell_type": "markdown",
   "metadata": {},
   "source": [
    "# Graph-convolutional auto-encoder: BlogCatalog"
   ]
  },
  {
   "cell_type": "markdown",
   "metadata": {
    "heading_collapsed": true
   },
   "source": [
    "## Imports and setup"
   ]
  },
  {
   "cell_type": "code",
   "execution_count": 1,
   "metadata": {},
   "outputs": [
    {
     "name": "stderr",
     "output_type": "stream",
     "text": [
      "Using TensorFlow backend.\n"
     ]
    }
   ],
   "source": [
    "import time\n",
    "import random\n",
    "import csv\n",
    "from collections import defaultdict\n",
    "\n",
    "import numpy as np\n",
    "import scipy as sp\n",
    "import scipy.stats\n",
    "import sklearn.preprocessing\n",
    "import matplotlib.pyplot as plt\n",
    "import seaborn as sb\n",
    "import networkx as nx\n",
    "\n",
    "import keras\n",
    "from keras import backend as K\n",
    "import tensorflow as tf\n",
    "from tensorflow.python import debug as tf_debug\n",
    "from keras.utils.vis_utils import model_to_dot\n",
    "from keras_tqdm import TQDMNotebookCallback as TQDMCallback\n",
    "\n",
    "from progressbar import ProgressBar\n",
    "from IPython.display import SVG, HTML, display\n",
    "\n",
    "from nw2vec import ae\n",
    "from nw2vec import utils\n",
    "from nw2vec import codecs\n",
    "from nw2vec import layers\n",
    "from nw2vec import viz\n",
    "from nw2vec import batching"
   ]
  },
  {
   "cell_type": "markdown",
   "metadata": {},
   "source": [
    "### Model drawing routines"
   ]
  },
  {
   "cell_type": "code",
   "execution_count": 2,
   "metadata": {},
   "outputs": [],
   "source": [
    "def plot_ξ_distribution(g, q_model, adj, features, batches_gen):\n",
    "    #g, l, k = glk\n",
    "    #palette = np.concatenate([np.array(sb.color_palette(n_colors=l)),\n",
    "    #                          .5 * np.ones((l, 1))],\n",
    "    #                         axis=1)\n",
    "    #communities = ([[i] for i in range(l)] * np.ones((l, k), dtype=np.int32)).reshape(-1)\n",
    "    fig, (ax1, ax2) = plt.subplots(1, 2, figsize=(12, 4))#, sharex=True, sharey=True)\n",
    "\n",
    "    x, _, feeds = next(batches_gen(q_model, features, adj, adj.shape[0], adj.shape[0], None))\n",
    "    q_pred = q_model.predict_on_fed_batch(x, feeds=feeds)\n",
    "\n",
    "    # KDE plots\n",
    "    #q_pred_ξ_sample = K.eval(codecs.Gaussian(q_pred).stochastic_value(100))\n",
    "    #for i in range(l):\n",
    "    #    x = q_pred_ξ_sample[i * k:(i + 1) * k, :, 0].flatten()\n",
    "    #    y = q_pred_ξ_sample[i * k:(i + 1) * k, :, 1].flatten()\n",
    "    #    sb.kdeplot(x, y, cmap=sb.light_palette(palette[i], as_cmap=True),\n",
    "    #               shade=True, shade_lowest=False, ax=ax1)\n",
    "    #ax1.set_title(r'$\\xi$ density for each community (flat nodes+sampling)')\n",
    "    \n",
    "    # μ plots\n",
    "    q_pred_μ = q_pred[:, :2].T\n",
    "    #ax2.scatter(q_pred_μ[0], q_pred_μ[1], s=250)#, c=palette[communities])\n",
    "    sb.kdeplot(q_pred_μ[0], q_pred_μ[1], ax=ax2)\n",
    "    #for i, (x, y) in enumerate(q_pred_μ.T):\n",
    "    #    ax2.text(x, y, str(i), ha='center', va='center', color='white')\n",
    "    ax2.set_title(r'$\\mu = \\left<\\xi\\right>$ for each node')\n",
    "    \n",
    "    # Box representing the μ plots in the KDE plots\n",
    "    #ax1.hlines(ax2.get_ylim(), *ax2.get_xlim(), colors='lightgrey')\n",
    "    #ax1.vlines(ax2.get_xlim(), *ax2.get_ylim(), colors='lightgrey')"
   ]
  },
  {
   "cell_type": "markdown",
   "metadata": {},
   "source": [
    "## Load data"
   ]
  },
  {
   "cell_type": "code",
   "execution_count": 3,
   "metadata": {},
   "outputs": [],
   "source": [
    "### Get the full list of nodes and groups ###\n",
    "\n",
    "# nodes\n",
    "nodes = []\n",
    "with open('data/BlogCatalog-dataset/data/nodes.csv') as csvfile:\n",
    "    reader = csv.reader(csvfile)\n",
    "    nodes = [int(row[0]) for row in reader]\n",
    "assert len(nodes) == len(set(nodes))\n",
    "nodes = set(nodes)\n",
    "\n",
    "# groups\n",
    "groups = []\n",
    "with open('data/BlogCatalog-dataset/data/groups.csv') as csvfile:\n",
    "    reader = csv.reader(csvfile)\n",
    "    groups = [int(row[0]) for row in reader]\n",
    "assert len(groups) == len(set(groups))\n",
    "groups = set(groups)\n",
    "\n",
    "\n",
    "### Generate graph from edges and node data ###\n",
    "\n",
    "# Read edges.csv and make a network out of it\n",
    "edges = defaultdict(list)\n",
    "with open('data/BlogCatalog-dataset/data/edges.csv') as csvfile:\n",
    "    reader = csv.reader(csvfile)\n",
    "    for row in reader:\n",
    "        edges[int(row[0])].append(int(row[1]))\n",
    "\n",
    "g = nx.from_dict_of_lists(edges, create_using=nx.Graph())\n",
    "\n",
    "# Read group-edges.csv and add that info to each node\n",
    "group_edges = defaultdict(list)\n",
    "with open('data/BlogCatalog-dataset/data/group-edges.csv') as csvfile:\n",
    "    reader = csv.reader(csvfile)\n",
    "    for row in reader:\n",
    "        group_edges[int(row[0])].append(int(row[1]))\n",
    "\n",
    "for node, data in g.nodes.items():\n",
    "    data['groups'] = group_edges[node]\n",
    "\n",
    "\n",
    "### Sanity checks ###\n",
    "assert set(g.nodes) == nodes\n",
    "assert set().union(*[groups for _, groups in g.nodes(data='groups')]) == groups"
   ]
  },
  {
   "cell_type": "markdown",
   "metadata": {},
   "source": [
    "## Set node labels"
   ]
  },
  {
   "cell_type": "code",
   "execution_count": 4,
   "metadata": {},
   "outputs": [],
   "source": [
    "labels = np.zeros((len(nodes), len(groups)))\n",
    "nodes_offset = min(nodes)\n",
    "groups_offset = min(groups)\n",
    "for n, data in g.nodes.items():\n",
    "    labels[n - nodes_offset, np.array(data['groups']) - groups_offset] = 1"
   ]
  },
  {
   "cell_type": "markdown",
   "metadata": {},
   "source": [
    "## Build the VAE"
   ]
  },
  {
   "cell_type": "code",
   "execution_count": 5,
   "metadata": {},
   "outputs": [],
   "source": [
    "# VAE Parameters\n",
    "n_nodes = len(nodes)\n",
    "adj = np.array(nx.adjacency_matrix(g).todense().astype(np.float32))\n",
    "\n",
    "n_ξ_samples = 5\n",
    "dim_data, dim_l1, dim_ξ = len(groups), 10, 2\n",
    "dims = (dim_data, dim_l1, dim_ξ)\n",
    "use_bias = False\n",
    "\n",
    "# Actual VAE\n",
    "q_model, q_codecs = ae.build_q(dims, use_bias=use_bias)\n",
    "p_model, p_codecs = ae.build_p(dims, use_bias=use_bias)\n",
    "vae, vae_codecs = ae.build_vae(\n",
    "    (q_model, q_codecs),\n",
    "    (p_model, (\n",
    "        'SigmoidBernoulliAdjacency',\n",
    "        'Gaussian'\n",
    "    )),\n",
    "    n_ξ_samples,\n",
    "    [\n",
    "        1.0,  # q loss\n",
    "        1.0,  # p adj loss\n",
    "        1.0,  # p v loss\n",
    "    ],\n",
    ")"
   ]
  },
  {
   "cell_type": "code",
   "execution_count": 6,
   "metadata": {},
   "outputs": [
    {
     "name": "stdout",
     "output_type": "stream",
     "text": [
      "Overall model\n"
     ]
    },
    {
     "data": {
      "image/svg+xml": [
       "<svg height=\"375pt\" viewBox=\"0.00 0.00 1622.00 375.00\" width=\"1622pt\" xmlns=\"http://www.w3.org/2000/svg\" xmlns:xlink=\"http://www.w3.org/1999/xlink\">\n",
       "<g class=\"graph\" id=\"graph0\" transform=\"scale(1 1) rotate(0) translate(4 371)\">\n",
       "<title>G</title>\n",
       "<polygon fill=\"#ffffff\" points=\"-4,4 -4,-371 1618,-371 1618,4 -4,4\" stroke=\"transparent\"/>\n",
       "<!-- 139926822042032 -->\n",
       "<g class=\"node\" id=\"node1\">\n",
       "<title>139926822042032</title>\n",
       "<polygon fill=\"none\" points=\"35.5,-275.5 35.5,-311.5 232.5,-311.5 232.5,-275.5 35.5,-275.5\" stroke=\"#000000\"/>\n",
       "<text fill=\"#000000\" font-family=\"Times,serif\" font-size=\"14.00\" text-anchor=\"middle\" x=\"134\" y=\"-289.8\">q_layer1_adj: InputLayer</text>\n",
       "</g>\n",
       "<!-- 139926822043096 -->\n",
       "<g class=\"node\" id=\"node6\">\n",
       "<title>139926822043096</title>\n",
       "<polygon fill=\"none\" points=\"392.5,-220.5 392.5,-256.5 502.5,-256.5 502.5,-220.5 392.5,-220.5\" stroke=\"#000000\"/>\n",
       "<text fill=\"#000000\" font-family=\"Times,serif\" font-size=\"14.00\" text-anchor=\"middle\" x=\"447.5\" y=\"-234.8\">q_layer1: GC</text>\n",
       "</g>\n",
       "<!-- 139926822042032&#45;&gt;139926822043096 -->\n",
       "<g class=\"edge\" id=\"edge1\">\n",
       "<title>139926822042032-&gt;139926822043096</title>\n",
       "<path d=\"M232.7631,-276.1731C281.4473,-267.6321 338.8189,-257.5669 382.0081,-249.9898\" fill=\"none\" stroke=\"#000000\"/>\n",
       "<polygon fill=\"#000000\" points=\"382.8654,-253.3929 392.1101,-248.2175 381.6557,-246.4982 382.8654,-253.3929\" stroke=\"#000000\"/>\n",
       "</g>\n",
       "<!-- 139926822041864 -->\n",
       "<g class=\"node\" id=\"node2\">\n",
       "<title>139926822041864</title>\n",
       "<polygon fill=\"none\" points=\"0,-220.5 0,-256.5 268,-256.5 268,-220.5 0,-220.5\" stroke=\"#000000\"/>\n",
       "<text fill=\"#000000\" font-family=\"Times,serif\" font-size=\"14.00\" text-anchor=\"middle\" x=\"134\" y=\"-234.8\">q_layer1_output_mask: InputLayer</text>\n",
       "</g>\n",
       "<!-- 139926822041864&#45;&gt;139926822043096 -->\n",
       "<g class=\"edge\" id=\"edge2\">\n",
       "<title>139926822041864-&gt;139926822043096</title>\n",
       "<path d=\"M268.3165,-238.5C307.6061,-238.5 348.8157,-238.5 381.7953,-238.5\" fill=\"none\" stroke=\"#000000\"/>\n",
       "<polygon fill=\"#000000\" points=\"382.2009,-242.0001 392.2009,-238.5 382.2008,-235.0001 382.2009,-242.0001\" stroke=\"#000000\"/>\n",
       "</g>\n",
       "<!-- 139926822041976 -->\n",
       "<g class=\"node\" id=\"node3\">\n",
       "<title>139926822041976</title>\n",
       "<polygon fill=\"none\" points=\"54,-165.5 54,-201.5 214,-201.5 214,-165.5 54,-165.5\" stroke=\"#000000\"/>\n",
       "<text fill=\"#000000\" font-family=\"Times,serif\" font-size=\"14.00\" text-anchor=\"middle\" x=\"134\" y=\"-179.8\">q_input: InputLayer</text>\n",
       "</g>\n",
       "<!-- 139926822041976&#45;&gt;139926822043096 -->\n",
       "<g class=\"edge\" id=\"edge3\">\n",
       "<title>139926822041976-&gt;139926822043096</title>\n",
       "<path d=\"M214.3269,-197.5924C266.3235,-206.7147 333.1743,-218.4429 381.9547,-227.0008\" fill=\"none\" stroke=\"#000000\"/>\n",
       "<polygon fill=\"#000000\" points=\"381.6234,-230.4961 392.0778,-228.7768 382.833,-223.6014 381.6234,-230.4961\" stroke=\"#000000\"/>\n",
       "</g>\n",
       "<!-- 139926822532376 -->\n",
       "<g class=\"node\" id=\"node4\">\n",
       "<title>139926822532376</title>\n",
       "<polygon fill=\"none\" points=\"344.5,-275.5 344.5,-311.5 550.5,-311.5 550.5,-275.5 344.5,-275.5\" stroke=\"#000000\"/>\n",
       "<text fill=\"#000000\" font-family=\"Times,serif\" font-size=\"14.00\" text-anchor=\"middle\" x=\"447.5\" y=\"-289.8\">q_mu_flat_adj: InputLayer</text>\n",
       "</g>\n",
       "<!-- 139926672636728 -->\n",
       "<g class=\"node\" id=\"node11\">\n",
       "<title>139926672636728</title>\n",
       "<polygon fill=\"none\" points=\"632,-247.5 632,-283.5 751,-283.5 751,-247.5 632,-247.5\" stroke=\"#000000\"/>\n",
       "<text fill=\"#000000\" font-family=\"Times,serif\" font-size=\"14.00\" text-anchor=\"middle\" x=\"691.5\" y=\"-261.8\">q_mu_flat: GC</text>\n",
       "</g>\n",
       "<!-- 139926822532376&#45;&gt;139926672636728 -->\n",
       "<g class=\"edge\" id=\"edge4\">\n",
       "<title>139926822532376-&gt;139926672636728</title>\n",
       "<path d=\"M550.6243,-281.6661C574.6487,-278.9092 599.6738,-276.0374 621.8509,-273.4925\" fill=\"none\" stroke=\"#000000\"/>\n",
       "<polygon fill=\"#000000\" points=\"622.2904,-276.9651 631.8261,-272.3478 621.4923,-270.0108 622.2904,-276.9651\" stroke=\"#000000\"/>\n",
       "</g>\n",
       "<!-- 139926822532488 -->\n",
       "<g class=\"node\" id=\"node5\">\n",
       "<title>139926822532488</title>\n",
       "<polygon fill=\"none\" points=\"309,-330.5 309,-366.5 586,-366.5 586,-330.5 309,-330.5\" stroke=\"#000000\"/>\n",
       "<text fill=\"#000000\" font-family=\"Times,serif\" font-size=\"14.00\" text-anchor=\"middle\" x=\"447.5\" y=\"-344.8\">q_mu_flat_output_mask: InputLayer</text>\n",
       "</g>\n",
       "<!-- 139926822532488&#45;&gt;139926672636728 -->\n",
       "<g class=\"edge\" id=\"edge5\">\n",
       "<title>139926822532488-&gt;139926672636728</title>\n",
       "<path d=\"M561.9836,-330.4399C571.9086,-327.8294 581.7032,-324.8638 591,-321.5 613.5972,-313.3237 637.1521,-300.4638 655.7733,-289.1285\" fill=\"none\" stroke=\"#000000\"/>\n",
       "<polygon fill=\"#000000\" points=\"657.8439,-291.9627 664.4925,-283.7136 654.1509,-286.0161 657.8439,-291.9627\" stroke=\"#000000\"/>\n",
       "</g>\n",
       "<!-- 139926822043096&#45;&gt;139926672636728 -->\n",
       "<g class=\"edge\" id=\"edge6\">\n",
       "<title>139926822043096-&gt;139926672636728</title>\n",
       "<path d=\"M502.5626,-244.593C537.916,-248.5051 584.1311,-253.619 622.0041,-257.8099\" fill=\"none\" stroke=\"#000000\"/>\n",
       "<polygon fill=\"#000000\" points=\"621.6195,-261.2886 631.9438,-258.9098 622.3894,-254.3311 621.6195,-261.2886\" stroke=\"#000000\"/>\n",
       "</g>\n",
       "<!-- 139926717486920 -->\n",
       "<g class=\"node\" id=\"node12\">\n",
       "<title>139926717486920</title>\n",
       "<polygon fill=\"none\" points=\"627,-165.5 627,-201.5 756,-201.5 756,-165.5 627,-165.5\" stroke=\"#000000\"/>\n",
       "<text fill=\"#000000\" font-family=\"Times,serif\" font-size=\"14.00\" text-anchor=\"middle\" x=\"691.5\" y=\"-179.8\">q_logD_flat: GC</text>\n",
       "</g>\n",
       "<!-- 139926822043096&#45;&gt;139926717486920 -->\n",
       "<g class=\"edge\" id=\"edge9\">\n",
       "<title>139926822043096-&gt;139926717486920</title>\n",
       "<path d=\"M502.5853,-229.2761C529.3795,-224.4996 561.9899,-218.2573 591,-211.5 600.5257,-209.2812 610.5045,-206.7526 620.3213,-204.1436\" fill=\"none\" stroke=\"#000000\"/>\n",
       "<polygon fill=\"#000000\" points=\"621.318,-207.5 630.0614,-201.5164 619.4949,-200.7415 621.318,-207.5\" stroke=\"#000000\"/>\n",
       "</g>\n",
       "<!-- 139926718162480 -->\n",
       "<g class=\"node\" id=\"node13\">\n",
       "<title>139926718162480</title>\n",
       "<polygon fill=\"none\" points=\"639,-83.5 639,-119.5 744,-119.5 744,-83.5 639,-83.5\" stroke=\"#000000\"/>\n",
       "<text fill=\"#000000\" font-family=\"Times,serif\" font-size=\"14.00\" text-anchor=\"middle\" x=\"691.5\" y=\"-97.8\">q_u_flat: GC</text>\n",
       "</g>\n",
       "<!-- 139926822043096&#45;&gt;139926718162480 -->\n",
       "<g class=\"edge\" id=\"edge12\">\n",
       "<title>139926822043096-&gt;139926718162480</title>\n",
       "<path d=\"M502.8,-238.1966C531.2037,-235.6646 565.1718,-228.7413 591,-211.5 615.2988,-195.2796 607.6888,-178.4228 627,-156.5 636.5344,-145.6762 648.2231,-135.0781 659.0187,-126.1196\" fill=\"none\" stroke=\"#000000\"/>\n",
       "<polygon fill=\"#000000\" points=\"661.4837,-128.627 667.0496,-119.612 657.0767,-123.1884 661.4837,-128.627\" stroke=\"#000000\"/>\n",
       "</g>\n",
       "<!-- 139926717486640 -->\n",
       "<g class=\"node\" id=\"node7\">\n",
       "<title>139926717486640</title>\n",
       "<polygon fill=\"none\" points=\"339.5,-110.5 339.5,-146.5 555.5,-146.5 555.5,-110.5 339.5,-110.5\" stroke=\"#000000\"/>\n",
       "<text fill=\"#000000\" font-family=\"Times,serif\" font-size=\"14.00\" text-anchor=\"middle\" x=\"447.5\" y=\"-124.8\">q_logD_flat_adj: InputLayer</text>\n",
       "</g>\n",
       "<!-- 139926717486640&#45;&gt;139926717486920 -->\n",
       "<g class=\"edge\" id=\"edge7\">\n",
       "<title>139926717486640-&gt;139926717486920</title>\n",
       "<path d=\"M544.9552,-146.5641C560.398,-149.7003 576.1629,-153.0638 591,-156.5 599.5041,-158.4695 608.378,-160.6573 617.1793,-162.9109\" fill=\"none\" stroke=\"#000000\"/>\n",
       "<polygon fill=\"#000000\" points=\"616.5033,-166.3513 627.0618,-165.4751 618.2614,-159.5757 616.5033,-166.3513\" stroke=\"#000000\"/>\n",
       "</g>\n",
       "<!-- 139926718746184 -->\n",
       "<g class=\"node\" id=\"node8\">\n",
       "<title>139926718746184</title>\n",
       "<polygon fill=\"none\" points=\"304,-165.5 304,-201.5 591,-201.5 591,-165.5 304,-165.5\" stroke=\"#000000\"/>\n",
       "<text fill=\"#000000\" font-family=\"Times,serif\" font-size=\"14.00\" text-anchor=\"middle\" x=\"447.5\" y=\"-179.8\">q_logD_flat_output_mask: InputLayer</text>\n",
       "</g>\n",
       "<!-- 139926718746184&#45;&gt;139926717486920 -->\n",
       "<g class=\"edge\" id=\"edge8\">\n",
       "<title>139926718746184-&gt;139926717486920</title>\n",
       "<path d=\"M591.1996,-183.5C599.9287,-183.5 608.5047,-183.5 616.741,-183.5\" fill=\"none\" stroke=\"#000000\"/>\n",
       "<polygon fill=\"#000000\" points=\"616.9779,-187.0001 626.9779,-183.5 616.9778,-180.0001 616.9779,-187.0001\" stroke=\"#000000\"/>\n",
       "</g>\n",
       "<!-- 139926718162032 -->\n",
       "<g class=\"node\" id=\"node9\">\n",
       "<title>139926718162032</title>\n",
       "<polygon fill=\"none\" points=\"351.5,-.5 351.5,-36.5 543.5,-36.5 543.5,-.5 351.5,-.5\" stroke=\"#000000\"/>\n",
       "<text fill=\"#000000\" font-family=\"Times,serif\" font-size=\"14.00\" text-anchor=\"middle\" x=\"447.5\" y=\"-14.8\">q_u_flat_adj: InputLayer</text>\n",
       "</g>\n",
       "<!-- 139926718162032&#45;&gt;139926718162480 -->\n",
       "<g class=\"edge\" id=\"edge10\">\n",
       "<title>139926718162032-&gt;139926718162480</title>\n",
       "<path d=\"M543.5981,-32.1339C559.6652,-35.6716 575.9821,-40.0661 591,-45.5 613.5972,-53.6763 637.1521,-66.5362 655.7733,-77.8715\" fill=\"none\" stroke=\"#000000\"/>\n",
       "<polygon fill=\"#000000\" points=\"654.1509,-80.9839 664.4925,-83.2864 657.8439,-75.0373 654.1509,-80.9839\" stroke=\"#000000\"/>\n",
       "</g>\n",
       "<!-- 139926718369072 -->\n",
       "<g class=\"node\" id=\"node10\">\n",
       "<title>139926718369072</title>\n",
       "<polygon fill=\"none\" points=\"316,-55.5 316,-91.5 579,-91.5 579,-55.5 316,-55.5\" stroke=\"#000000\"/>\n",
       "<text fill=\"#000000\" font-family=\"Times,serif\" font-size=\"14.00\" text-anchor=\"middle\" x=\"447.5\" y=\"-69.8\">q_u_flat_output_mask: InputLayer</text>\n",
       "</g>\n",
       "<!-- 139926718369072&#45;&gt;139926718162480 -->\n",
       "<g class=\"edge\" id=\"edge11\">\n",
       "<title>139926718369072-&gt;139926718162480</title>\n",
       "<path d=\"M579.1414,-88.6064C596.3325,-90.5791 613.2667,-92.5224 628.5671,-94.2782\" fill=\"none\" stroke=\"#000000\"/>\n",
       "<polygon fill=\"#000000\" points=\"628.548,-97.7989 638.8818,-95.4618 629.3461,-90.8445 628.548,-97.7989\" stroke=\"#000000\"/>\n",
       "</g>\n",
       "<!-- 139926717817240 -->\n",
       "<g class=\"node\" id=\"node14\">\n",
       "<title>139926717817240</title>\n",
       "<polygon fill=\"none\" points=\"792,-165.5 792,-201.5 1021,-201.5 1021,-165.5 792,-165.5\" stroke=\"#000000\"/>\n",
       "<text fill=\"#000000\" font-family=\"Times,serif\" font-size=\"14.00\" text-anchor=\"middle\" x=\"906.5\" y=\"-179.8\">q_mulogDu_flat: Concatenate</text>\n",
       "</g>\n",
       "<!-- 139926672636728&#45;&gt;139926717817240 -->\n",
       "<g class=\"edge\" id=\"edge13\">\n",
       "<title>139926672636728-&gt;139926717817240</title>\n",
       "<path d=\"M738.9488,-247.4032C771.616,-234.9441 815.1763,-218.3304 849.6932,-205.1658\" fill=\"none\" stroke=\"#000000\"/>\n",
       "<polygon fill=\"#000000\" points=\"851.0761,-208.3844 859.1724,-201.5505 848.5816,-201.8439 851.0761,-208.3844\" stroke=\"#000000\"/>\n",
       "</g>\n",
       "<!-- 139926717486920&#45;&gt;139926717817240 -->\n",
       "<g class=\"edge\" id=\"edge14\">\n",
       "<title>139926717486920-&gt;139926717817240</title>\n",
       "<path d=\"M756.0071,-183.5C764.275,-183.5 772.9492,-183.5 781.7826,-183.5\" fill=\"none\" stroke=\"#000000\"/>\n",
       "<polygon fill=\"#000000\" points=\"781.8104,-187.0001 791.8103,-183.5 781.8103,-180.0001 781.8104,-187.0001\" stroke=\"#000000\"/>\n",
       "</g>\n",
       "<!-- 139926718162480&#45;&gt;139926717817240 -->\n",
       "<g class=\"edge\" id=\"edge15\">\n",
       "<title>139926718162480-&gt;139926717817240</title>\n",
       "<path d=\"M738.9488,-119.5968C771.616,-132.0559 815.1763,-148.6696 849.6932,-161.8342\" fill=\"none\" stroke=\"#000000\"/>\n",
       "<polygon fill=\"#000000\" points=\"848.5816,-165.1561 859.1724,-165.4495 851.0761,-158.6156 848.5816,-165.1561\" stroke=\"#000000\"/>\n",
       "</g>\n",
       "<!-- 139926716856752 -->\n",
       "<g class=\"node\" id=\"node15\">\n",
       "<title>139926716856752</title>\n",
       "<polygon fill=\"none\" points=\"1057,-165.5 1057,-201.5 1448,-201.5 1448,-165.5 1057,-165.5\" stroke=\"#000000\"/>\n",
       "<text fill=\"#000000\" font-family=\"Times,serif\" font-size=\"14.00\" text-anchor=\"middle\" x=\"1252.5\" y=\"-179.8\">parametrised_stochastic_1: ParametrisedStochastic</text>\n",
       "</g>\n",
       "<!-- 139926717817240&#45;&gt;139926716856752 -->\n",
       "<g class=\"edge\" id=\"edge16\">\n",
       "<title>139926717817240-&gt;139926716856752</title>\n",
       "<path d=\"M1021.2324,-183.5C1029.5743,-183.5 1038.1208,-183.5 1046.7809,-183.5\" fill=\"none\" stroke=\"#000000\"/>\n",
       "<polygon fill=\"#000000\" points=\"1046.9938,-187.0001 1056.9938,-183.5 1046.9937,-180.0001 1046.9938,-187.0001\" stroke=\"#000000\"/>\n",
       "</g>\n",
       "<!-- 139926715082400 -->\n",
       "<g class=\"node\" id=\"node16\">\n",
       "<title>139926715082400</title>\n",
       "<polygon fill=\"none\" points=\"1484,-165.5 1484,-201.5 1614,-201.5 1614,-165.5 1484,-165.5\" stroke=\"#000000\"/>\n",
       "<text fill=\"#000000\" font-family=\"Times,serif\" font-size=\"14.00\" text-anchor=\"middle\" x=\"1549\" y=\"-179.8\">model_2: Model</text>\n",
       "</g>\n",
       "<!-- 139926716856752&#45;&gt;139926715082400 -->\n",
       "<g class=\"edge\" id=\"edge17\">\n",
       "<title>139926716856752-&gt;139926715082400</title>\n",
       "<path d=\"M1448.2049,-183.5C1457.0185,-183.5 1465.5819,-183.5 1473.7512,-183.5\" fill=\"none\" stroke=\"#000000\"/>\n",
       "<polygon fill=\"#000000\" points=\"1473.8774,-187.0001 1483.8774,-183.5 1473.8773,-180.0001 1473.8774,-187.0001\" stroke=\"#000000\"/>\n",
       "</g>\n",
       "</g>\n",
       "</svg>"
      ],
      "text/plain": [
       "<IPython.core.display.SVG object>"
      ]
     },
     "metadata": {},
     "output_type": "display_data"
    },
    {
     "name": "stdout",
     "output_type": "stream",
     "text": [
      "model_2\n"
     ]
    },
    {
     "data": {
      "image/svg+xml": [
       "<svg height=\"210pt\" viewBox=\"0.00 0.00 819.00 210.00\" width=\"819pt\" xmlns=\"http://www.w3.org/2000/svg\" xmlns:xlink=\"http://www.w3.org/1999/xlink\">\n",
       "<g class=\"graph\" id=\"graph0\" transform=\"scale(1 1) rotate(0) translate(4 206)\">\n",
       "<title>G</title>\n",
       "<polygon fill=\"#ffffff\" points=\"-4,4 -4,-206 815,-206 815,4 -4,4\" stroke=\"transparent\"/>\n",
       "<!-- 139926822042088 -->\n",
       "<g class=\"node\" id=\"node1\">\n",
       "<title>139926822042088</title>\n",
       "<polygon fill=\"none\" points=\"0,-82.5 0,-118.5 160,-118.5 160,-82.5 0,-82.5\" stroke=\"#000000\"/>\n",
       "<text fill=\"#000000\" font-family=\"Times,serif\" font-size=\"14.00\" text-anchor=\"middle\" x=\"80\" y=\"-96.8\">p_input: InputLayer</text>\n",
       "</g>\n",
       "<!-- 139926822041920 -->\n",
       "<g class=\"node\" id=\"node2\">\n",
       "<title>139926822041920</title>\n",
       "<polygon fill=\"none\" points=\"196,-82.5 196,-118.5 327,-118.5 327,-82.5 196,-82.5\" stroke=\"#000000\"/>\n",
       "<text fill=\"#000000\" font-family=\"Times,serif\" font-size=\"14.00\" text-anchor=\"middle\" x=\"261.5\" y=\"-96.8\">p_layer1: Dense</text>\n",
       "</g>\n",
       "<!-- 139926822042088&#45;&gt;139926822041920 -->\n",
       "<g class=\"edge\" id=\"edge1\">\n",
       "<title>139926822042088-&gt;139926822041920</title>\n",
       "<path d=\"M160.1369,-100.5C168.6435,-100.5 177.2763,-100.5 185.7307,-100.5\" fill=\"none\" stroke=\"#000000\"/>\n",
       "<polygon fill=\"#000000\" points=\"185.9343,-104.0001 195.9343,-100.5 185.9342,-97.0001 185.9343,-104.0001\" stroke=\"#000000\"/>\n",
       "</g>\n",
       "<!-- 139926716790712 -->\n",
       "<g class=\"node\" id=\"node3\">\n",
       "<title>139926716790712</title>\n",
       "<polygon fill=\"none\" points=\"368.5,-165.5 368.5,-201.5 524.5,-201.5 524.5,-165.5 368.5,-165.5\" stroke=\"#000000\"/>\n",
       "<text fill=\"#000000\" font-family=\"Times,serif\" font-size=\"14.00\" text-anchor=\"middle\" x=\"446.5\" y=\"-179.8\">p_v_mu_flat: Dense</text>\n",
       "</g>\n",
       "<!-- 139926822041920&#45;&gt;139926716790712 -->\n",
       "<g class=\"edge\" id=\"edge2\">\n",
       "<title>139926822041920-&gt;139926716790712</title>\n",
       "<path d=\"M290.9403,-118.7122C310.8048,-130.5033 337.8808,-145.6286 363,-156.5 367.317,-158.3684 371.8073,-160.1788 376.3662,-161.9181\" fill=\"none\" stroke=\"#000000\"/>\n",
       "<polygon fill=\"#000000\" points=\"375.1935,-165.216 385.787,-165.3841 377.6105,-158.6465 375.1935,-165.216\" stroke=\"#000000\"/>\n",
       "</g>\n",
       "<!-- 139926715673680 -->\n",
       "<g class=\"node\" id=\"node4\">\n",
       "<title>139926715673680</title>\n",
       "<polygon fill=\"none\" points=\"363,-110.5 363,-146.5 530,-146.5 530,-110.5 363,-110.5\" stroke=\"#000000\"/>\n",
       "<text fill=\"#000000\" font-family=\"Times,serif\" font-size=\"14.00\" text-anchor=\"middle\" x=\"446.5\" y=\"-124.8\">p_v_logD_flat: Dense</text>\n",
       "</g>\n",
       "<!-- 139926822041920&#45;&gt;139926715673680 -->\n",
       "<g class=\"edge\" id=\"edge3\">\n",
       "<title>139926822041920-&gt;139926715673680</title>\n",
       "<path d=\"M327.245,-110.4506C335.5307,-111.7047 344.1299,-113.0061 352.7436,-114.3098\" fill=\"none\" stroke=\"#000000\"/>\n",
       "<polygon fill=\"#000000\" points=\"352.4329,-117.8026 362.844,-115.8386 353.4804,-110.8814 352.4329,-117.8026\" stroke=\"#000000\"/>\n",
       "</g>\n",
       "<!-- 139926715395656 -->\n",
       "<g class=\"node\" id=\"node5\">\n",
       "<title>139926715395656</title>\n",
       "<polygon fill=\"none\" points=\"375,-55.5 375,-91.5 518,-91.5 518,-55.5 375,-55.5\" stroke=\"#000000\"/>\n",
       "<text fill=\"#000000\" font-family=\"Times,serif\" font-size=\"14.00\" text-anchor=\"middle\" x=\"446.5\" y=\"-69.8\">p_v_u_flat: Dense</text>\n",
       "</g>\n",
       "<!-- 139926822041920&#45;&gt;139926715395656 -->\n",
       "<g class=\"edge\" id=\"edge4\">\n",
       "<title>139926822041920-&gt;139926715395656</title>\n",
       "<path d=\"M327.245,-90.9048C339.3734,-89.1347 352.1733,-87.2666 364.7074,-85.4373\" fill=\"none\" stroke=\"#000000\"/>\n",
       "<polygon fill=\"#000000\" points=\"365.2949,-88.8887 374.6846,-83.9812 364.2839,-81.9621 365.2949,-88.8887\" stroke=\"#000000\"/>\n",
       "</g>\n",
       "<!-- 139926716686632 -->\n",
       "<g class=\"node\" id=\"node6\">\n",
       "<title>139926716686632</title>\n",
       "<polygon fill=\"none\" points=\"386.5,-.5 386.5,-36.5 506.5,-36.5 506.5,-.5 386.5,-.5\" stroke=\"#000000\"/>\n",
       "<text fill=\"#000000\" font-family=\"Times,serif\" font-size=\"14.00\" text-anchor=\"middle\" x=\"446.5\" y=\"-14.8\">p_adj: Bilinear</text>\n",
       "</g>\n",
       "<!-- 139926822041920&#45;&gt;139926716686632 -->\n",
       "<g class=\"edge\" id=\"edge5\">\n",
       "<title>139926822041920-&gt;139926716686632</title>\n",
       "<path d=\"M292.389,-82.3463C312.17,-71.1558 338.6135,-56.9903 363,-46.5 368.0915,-44.3098 373.4153,-42.1785 378.8036,-40.1332\" fill=\"none\" stroke=\"#000000\"/>\n",
       "<polygon fill=\"#000000\" points=\"380.3605,-43.2897 388.5358,-36.5506 377.9423,-36.7207 380.3605,-43.2897\" stroke=\"#000000\"/>\n",
       "</g>\n",
       "<!-- 139926715082008 -->\n",
       "<g class=\"node\" id=\"node7\">\n",
       "<title>139926715082008</title>\n",
       "<polygon fill=\"none\" points=\"566,-110.5 566,-146.5 811,-146.5 811,-110.5 566,-110.5\" stroke=\"#000000\"/>\n",
       "<text fill=\"#000000\" font-family=\"Times,serif\" font-size=\"14.00\" text-anchor=\"middle\" x=\"688.5\" y=\"-124.8\">p_v_mulogDu_flat: Concatenate</text>\n",
       "</g>\n",
       "<!-- 139926716790712&#45;&gt;139926715082008 -->\n",
       "<g class=\"edge\" id=\"edge7\">\n",
       "<title>139926716790712-&gt;139926715082008</title>\n",
       "<path d=\"M524.7363,-165.719C548.525,-160.3125 574.8445,-154.3308 599.2989,-148.773\" fill=\"none\" stroke=\"#000000\"/>\n",
       "<polygon fill=\"#000000\" points=\"600.3133,-152.1318 609.2889,-146.5025 598.7619,-145.3058 600.3133,-152.1318\" stroke=\"#000000\"/>\n",
       "</g>\n",
       "<!-- 139926715673680&#45;&gt;139926715082008 -->\n",
       "<g class=\"edge\" id=\"edge8\">\n",
       "<title>139926715673680-&gt;139926715082008</title>\n",
       "<path d=\"M530.1215,-128.5C538.4681,-128.5 547.0778,-128.5 555.769,-128.5\" fill=\"none\" stroke=\"#000000\"/>\n",
       "<polygon fill=\"#000000\" points=\"555.9983,-132.0001 565.9983,-128.5 555.9983,-125.0001 555.9983,-132.0001\" stroke=\"#000000\"/>\n",
       "</g>\n",
       "<!-- 139926715395656&#45;&gt;139926715082008 -->\n",
       "<g class=\"edge\" id=\"edge9\">\n",
       "<title>139926715395656-&gt;139926715082008</title>\n",
       "<path d=\"M518.1257,-89.7786C543.4609,-95.5366 572.2819,-102.0868 598.9201,-108.1409\" fill=\"none\" stroke=\"#000000\"/>\n",
       "<polygon fill=\"#000000\" points=\"598.4837,-111.6309 609.0108,-110.4343 600.0351,-104.805 598.4837,-111.6309\" stroke=\"#000000\"/>\n",
       "</g>\n",
       "</g>\n",
       "</svg>"
      ],
      "text/plain": [
       "<IPython.core.display.SVG object>"
      ]
     },
     "metadata": {},
     "output_type": "display_data"
    }
   ],
   "source": [
    "print('Overall model')\n",
    "display(SVG(model_to_dot(vae, rankdir='LR').create(prog='dot', format='svg')))\n",
    "\n",
    "for layer in vae.layers:\n",
    "    if not isinstance(layer, keras.Model):\n",
    "        continue\n",
    "    print(layer.name)\n",
    "    display(SVG(model_to_dot(layer, rankdir='LR').create(prog='dot', format='svg')))"
   ]
  },
  {
   "cell_type": "markdown",
   "metadata": {},
   "source": [
    "## Batches generator"
   ]
  },
  {
   "cell_type": "code",
   "execution_count": 7,
   "metadata": {},
   "outputs": [],
   "source": [
    "def batches(model, features, adj, batch_size, max_walk_length, neighbour_samples=None):\n",
    "    features = utils.scale_center(features)\n",
    "    \n",
    "    while True:\n",
    "        for needed_nodes, output_nodes, feeds in batching.epoch_batches(model, adj, batch_size, max_walk_length, neighbour_samples):\n",
    "            batch_adj = adj[output_nodes, :][:, output_nodes]\n",
    "\n",
    "            x = features[needed_nodes]\n",
    "            y = [\n",
    "                np.zeros(1), # ignored\n",
    "                utils.expand_dims_tile(utils.expand_dims_tile(batch_adj + np.eye(batch_adj.shape[0]), 0, n_ξ_samples), 0, 1),\n",
    "                utils.expand_dims_tile(features[output_nodes], 1, n_ξ_samples),\n",
    "            ]\n",
    "            \n",
    "            yield x, y, feeds"
   ]
  },
  {
   "cell_type": "markdown",
   "metadata": {},
   "source": [
    "## Before training\n",
    "\n",
    "$\\xi$ averages and distributions for each community, real and predicted adjacency matrices"
   ]
  },
  {
   "cell_type": "code",
   "execution_count": null,
   "metadata": {},
   "outputs": [],
   "source": [
    "plot_ξ_distribution(g, q_model, adj, labels, batches)"
   ]
  },
  {
   "cell_type": "code",
   "execution_count": null,
   "metadata": {},
   "outputs": [],
   "source": [
    "fig, (ax1, ax2) = plt.subplots(1, 2, figsize=(9, 4))\n",
    "\n",
    "im1 = ax1.imshow(nx.adjacency_matrix(g).todense())\n",
    "ax1.set_title('Real adjacency matrix')\n",
    "plt.colorbar(im1, ax=ax1)\n",
    "\n",
    "x, _, feeds = next(batches(vae, features, adj, adj.shape[0], adj.shape[0], None))\n",
    "adj_pred = vae.predict_on_fed_batch(x, feeds=feeds)[1]\n",
    "im2 = ax2.imshow(scipy.special.expit(adj_pred[0].mean(axis=0)))\n",
    "im2.set_norm(im1.norm)\n",
    "ax2.set_title('Predicted adjacency matrix')\n",
    "plt.colorbar(im2, ax=ax2);"
   ]
  },
  {
   "cell_type": "markdown",
   "metadata": {},
   "source": [
    "## Train"
   ]
  },
  {
   "cell_type": "code",
   "execution_count": 8,
   "metadata": {},
   "outputs": [
    {
     "name": "stdout",
     "output_type": "stream",
     "text": [
      "rm: cannot remove './logs': No such file or directory\n"
     ]
    }
   ],
   "source": [
    "rm -r ./logs"
   ]
  },
  {
   "cell_type": "code",
   "execution_count": 13,
   "metadata": {},
   "outputs": [],
   "source": [
    "time.sleep(5)"
   ]
  },
  {
   "cell_type": "code",
   "execution_count": null,
   "metadata": {},
   "outputs": [
    {
     "name": "stderr",
     "output_type": "stream",
     "text": [
      "/home/sl/.conda/envs/base36/lib/python3.6/site-packages/tensorflow/python/ops/gradients_impl.py:98: UserWarning: Converting sparse IndexedSlices to a dense Tensor of unknown shape. This may consume a large amount of memory.\n",
      "  \"Converting sparse IndexedSlices to a dense Tensor of unknown shape. \"\n"
     ]
    }
   ],
   "source": [
    "n_epochs = 5000\n",
    "batch_size = 500 #len(features)\n",
    "max_walk_length = 200\n",
    "\n",
    "history = vae.fit_generator_feed(batches(vae, labels, adj, batch_size, max_walk_length, neighbour_samples=None),\n",
    "                                 steps_per_epoch=int(np.ceil(len(labels) / batch_size)),\n",
    "                                 epochs=n_epochs,\n",
    "                                 check_array_lengths=False,\n",
    "                                 shuffle=False,\n",
    "                                 verbose=0,\n",
    "                                 callbacks=[\n",
    "                                     keras.callbacks.TensorBoard()\n",
    "                                 ])"
   ]
  },
  {
   "cell_type": "markdown",
   "metadata": {},
   "source": [
    "Usually, the cell above complains with \"UserWarning: Converting sparse IndexedSlices to a dense Tensor of unknown shape. This may consume a large amount of memory.\". See these for more details:\n",
    "* https://stackoverflow.com/questions/35892412/tensorflow-dense-gradient-explanation#35896823\n",
    "* https://stackoverflow.com/questions/39111373/tensorflow-chaining-tf-gather-produces-indexedslices-warning"
   ]
  },
  {
   "cell_type": "code",
   "execution_count": null,
   "metadata": {},
   "outputs": [],
   "source": [
    "fig, axes = plt.subplots(1, len(history.history), figsize=(len(history.history) * 5, 4))\n",
    "for i, (title, values) in enumerate(history.history.items()):\n",
    "    axes[i].plot(values)\n",
    "    axes[i].set_title(title)\n",
    "fig.tight_layout()"
   ]
  },
  {
   "cell_type": "markdown",
   "metadata": {},
   "source": [
    "## Results"
   ]
  },
  {
   "cell_type": "markdown",
   "metadata": {},
   "source": [
    "**After training:** $\\xi$ averages and distributions for each community, real and predicted adjacency matrices"
   ]
  },
  {
   "cell_type": "code",
   "execution_count": null,
   "metadata": {},
   "outputs": [],
   "source": [
    "plot_ξ_distribution((g, l, k), q_model, adj, features, batches)"
   ]
  },
  {
   "cell_type": "markdown",
   "metadata": {},
   "source": [
    "Predicted adjacency matrix:"
   ]
  },
  {
   "cell_type": "code",
   "execution_count": null,
   "metadata": {},
   "outputs": [],
   "source": [
    "fig, (ax1, ax2) = plt.subplots(1, 2, figsize=(9, 4))\n",
    "\n",
    "im1 = ax1.imshow(nx.adjacency_matrix(g).todense())\n",
    "ax1.set_title('Real adjacency matrix')\n",
    "plt.colorbar(im1, ax=ax1)\n",
    "\n",
    "x, _, feeds = next(batches(vae, features, adj, adj.shape[0], adj.shape[0], None))\n",
    "adj_pred = vae.predict_on_fed_batch(x, feeds=feeds)[1]\n",
    "im2 = ax2.imshow(scipy.special.expit(adj_pred[0].mean(axis=0)))\n",
    "im2.set_norm(im1.norm)\n",
    "ax2.set_title('Predicted adjacency matrix')\n",
    "plt.colorbar(im2, ax=ax2);"
   ]
  },
  {
   "cell_type": "code",
   "execution_count": null,
   "metadata": {},
   "outputs": [],
   "source": [
    "plt.imshow(np.random.binomial(1, scipy.special.expit(adj_pred[0].mean(axis=0))))"
   ]
  },
  {
   "cell_type": "code",
   "execution_count": null,
   "metadata": {},
   "outputs": [],
   "source": [
    "for layer in q_model.layers:\n",
    "    if hasattr(layer, 'kernel'):\n",
    "        fig, (ax1, ax2) = plt.subplots(1, 2, figsize=(6, 4))#, sharey=True)\n",
    "        im1 = ax1.imshow(K.eval(layer.kernel).T)\n",
    "        ax1.set_title('{} kernel'.format(layer.name))\n",
    "        plt.colorbar(im1, ax=ax1)\n",
    "    if hasattr(layer, 'bias') and layer.bias is not None:\n",
    "        im2 = ax2.imshow(K.eval(K.expand_dims(layer.bias, -1)))\n",
    "        ax2.set_title('{} bias'.format(layer.name))\n",
    "        plt.colorbar(im2, ax=ax2)"
   ]
  },
  {
   "cell_type": "code",
   "execution_count": null,
   "metadata": {},
   "outputs": [],
   "source": [
    "for layer in p_model.layers:\n",
    "    if hasattr(layer, 'kernel'):\n",
    "        fig, (ax1, ax2) = plt.subplots(1, 2, figsize=(6, 4))#, sharey=True)\n",
    "        im1 = ax1.imshow(K.eval(layer.kernel).T)\n",
    "        ax1.set_title('{} kernel'.format(layer.name))\n",
    "        plt.colorbar(im1, ax=ax1)\n",
    "    if hasattr(layer, 'bias') and layer.bias is not None:\n",
    "        im2 = ax2.imshow(K.eval(K.expand_dims(layer.bias, -1)))\n",
    "        ax2.set_title('{} bias'.format(layer.name))\n",
    "        plt.colorbar(im2, ax=ax2)"
   ]
  }
 ],
 "metadata": {
  "kernelspec": {
   "display_name": "Python 3",
   "language": "python",
   "name": "python3"
  },
  "language_info": {
   "codemirror_mode": {
    "name": "ipython",
    "version": 3
   },
   "file_extension": ".py",
   "mimetype": "text/x-python",
   "name": "python",
   "nbconvert_exporter": "python",
   "pygments_lexer": "ipython3",
   "version": "3.6.5"
  }
 },
 "nbformat": 4,
 "nbformat_minor": 2
}
