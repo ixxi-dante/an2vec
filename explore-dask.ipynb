{
 "cells": [
  {
   "cell_type": "code",
   "execution_count": 1,
   "metadata": {},
   "outputs": [
    {
     "data": {
      "text/html": [
       "<table style=\"border: 2px solid white;\">\n",
       "<tr>\n",
       "<td style=\"vertical-align: top; border: 0px solid white\">\n",
       "<h3>Client</h3>\n",
       "<ul>\n",
       "  <li><b>Scheduler: </b>tcp://localhost:8786\n",
       "  <li><b>Dashboard: </b><a href='http://localhost:8787' target='_blank'>http://localhost:8787</a>\n",
       "</ul>\n",
       "</td>\n",
       "<td style=\"vertical-align: top; border: 0px solid white\">\n",
       "<h3>Cluster</h3>\n",
       "<ul>\n",
       "  <li><b>Workers: </b>23</li>\n",
       "  <li><b>Cores: </b>936</li>\n",
       "  <li><b>Memory: </b>3144.83 GB</li>\n",
       "</ul>\n",
       "</td>\n",
       "</tr>\n",
       "</table>"
      ],
      "text/plain": [
       "<Client: scheduler='tcp://140.77.14.54:8786' processes=23 cores=936>"
      ]
     },
     "execution_count": 1,
     "metadata": {},
     "output_type": "execute_result"
    }
   ],
   "source": [
    "from distributed import Client, progress\n",
    "from distributed.client import futures_of\n",
    "import hdfs3\n",
    "import dask.dataframe\n",
    "\n",
    "c = Client('localhost:8786')\n",
    "c"
   ]
  },
  {
   "cell_type": "code",
   "execution_count": 2,
   "metadata": {},
   "outputs": [
    {
     "data": {
      "text/plain": [
       "['/sosweet-text/undir_weighted_mention_network_thresh_5/2016-02-pipe-user_timestamp_body-csv-pipe-filter_users']"
      ]
     },
     "execution_count": 2,
     "metadata": {},
     "output_type": "execute_result"
    }
   ],
   "source": [
    "hdfs = hdfs3.HDFileSystem('navet', port=8020)\n",
    "filenames = hdfs.glob('/sosweet-text/undir_weighted_mention_network_thresh_5/*')\n",
    "filenames"
   ]
  },
  {
   "cell_type": "code",
   "execution_count": 3,
   "metadata": {},
   "outputs": [],
   "source": [
    "df = dask.dataframe.read_csv('hdfs://navet:8020' + filenames[0],\n",
    "                             names=['user_id', 'timestamp', 'body'],\n",
    "                             parse_dates=['timestamp'])"
   ]
  },
  {
   "cell_type": "code",
   "execution_count": 4,
   "metadata": {},
   "outputs": [
    {
     "data": {
      "application/vnd.jupyter.widget-view+json": {
       "model_id": "0bf65daa9d63440aacb4eeeb57b59e26",
       "version_major": 2,
       "version_minor": 0
      },
      "text/plain": [
       "A Jupyter Widget"
      ]
     },
     "metadata": {},
     "output_type": "display_data"
    }
   ],
   "source": [
    "df = df.persist()\n",
    "progress(df)"
   ]
  },
  {
   "cell_type": "code",
   "execution_count": 5,
   "metadata": {},
   "outputs": [
    {
     "data": {
      "text/html": [
       "<div>\n",
       "<style scoped>\n",
       "    .dataframe tbody tr th:only-of-type {\n",
       "        vertical-align: middle;\n",
       "    }\n",
       "\n",
       "    .dataframe tbody tr th {\n",
       "        vertical-align: top;\n",
       "    }\n",
       "\n",
       "    .dataframe thead th {\n",
       "        text-align: right;\n",
       "    }\n",
       "</style>\n",
       "<table border=\"1\" class=\"dataframe\">\n",
       "  <thead>\n",
       "    <tr style=\"text-align: right;\">\n",
       "      <th></th>\n",
       "      <th>user_id</th>\n",
       "      <th>timestamp</th>\n",
       "      <th>body</th>\n",
       "    </tr>\n",
       "  </thead>\n",
       "  <tbody>\n",
       "    <tr>\n",
       "      <th>0</th>\n",
       "      <td>624590762</td>\n",
       "      <td>2016-02-02 09:28:43</td>\n",
       "      <td>Si j'ai 10 en histoire je sors grosse bouteill...</td>\n",
       "    </tr>\n",
       "    <tr>\n",
       "      <th>1</th>\n",
       "      <td>1257818401</td>\n",
       "      <td>2016-02-02 09:28:46</td>\n",
       "      <td>J'ai cette peur en tête h24... C'est terrible ...</td>\n",
       "    </tr>\n",
       "    <tr>\n",
       "      <th>2</th>\n",
       "      <td>820483044</td>\n",
       "      <td>2016-02-02 09:28:47</td>\n",
       "      <td>@Claroulala c'est vrai t'es rousse toi j'avais...</td>\n",
       "    </tr>\n",
       "    <tr>\n",
       "      <th>3</th>\n",
       "      <td>2522353878</td>\n",
       "      <td>2016-02-02 09:28:50</td>\n",
       "      <td>APPLES</td>\n",
       "    </tr>\n",
       "    <tr>\n",
       "      <th>4</th>\n",
       "      <td>1267867782</td>\n",
       "      <td>2016-02-02 09:28:54</td>\n",
       "      <td>@Nordengail Alors qu'un bon vieux \"TAGONARD!\"...</td>\n",
       "    </tr>\n",
       "  </tbody>\n",
       "</table>\n",
       "</div>"
      ],
      "text/plain": [
       "      user_id           timestamp  \\\n",
       "0   624590762 2016-02-02 09:28:43   \n",
       "1  1257818401 2016-02-02 09:28:46   \n",
       "2   820483044 2016-02-02 09:28:47   \n",
       "3  2522353878 2016-02-02 09:28:50   \n",
       "4  1267867782 2016-02-02 09:28:54   \n",
       "\n",
       "                                                body  \n",
       "0  Si j'ai 10 en histoire je sors grosse bouteill...  \n",
       "1  J'ai cette peur en tête h24... C'est terrible ...  \n",
       "2  @Claroulala c'est vrai t'es rousse toi j'avais...  \n",
       "3                                             APPLES  \n",
       "4   @Nordengail Alors qu'un bon vieux \"TAGONARD!\"...  "
      ]
     },
     "execution_count": 5,
     "metadata": {},
     "output_type": "execute_result"
    }
   ],
   "source": [
    "df.head()"
   ]
  },
  {
   "cell_type": "code",
   "execution_count": 16,
   "metadata": {},
   "outputs": [
    {
     "data": {
      "image/png": "[encoded data removed]",
      "text/plain": [
       "<IPython.core.display.Image object>"
      ]
     },
     "execution_count": 16,
     "metadata": {},
     "output_type": "execute_result"
    }
   ],
   "source": [
    "js.visualize()"
   ]
  },
  {
   "cell_type": "code",
   "execution_count": null,
   "metadata": {},
   "outputs": [],
   "source": []
  },
  {
   "cell_type": "code",
   "execution_count": 3,
   "metadata": {},
   "outputs": [],
   "source": [
    "#def load_sosweet_datafile(filename):\n",
    "#    actor_ids = []\n",
    "#    timestamps = []\n",
    "#    bodies = []\n",
    "#    with open(filename) as file:\n",
    "#        for line in file:\n",
    "#            try:\n",
    "#                data = ujson.loads(line)\n",
    "#            except:\n",
    "#                break\n",
    "#            actor_ids.append(int(data['actor']['id'][15:]))\n",
    "#            timestamps.append(datetime.strptime(data['postedTime'], '%Y-%m-%dT%H:%M:%S.%fZ'))\n",
    "#            bodies.append(data['body'])\n",
    "#    return pd.DataFrame({'actor_id': actor_ids, 'timestamp': timestamps, 'body': bodies})"
   ]
  },
  {
   "cell_type": "code",
   "execution_count": null,
   "metadata": {},
   "outputs": [],
   "source": []
  }
 ],
 "metadata": {
  "kernelspec": {
   "display_name": "Python 3",
   "language": "python",
   "name": "python3"
  },
  "language_info": {
   "codemirror_mode": {
    "name": "ipython",
    "version": 3
   },
   "file_extension": ".py",
   "mimetype": "text/x-python",
   "name": "python",
   "nbconvert_exporter": "python",
   "pygments_lexer": "ipython3",
   "version": "3.6.3"
  }
 },
 "nbformat": 4,
 "nbformat_minor": 2
}
