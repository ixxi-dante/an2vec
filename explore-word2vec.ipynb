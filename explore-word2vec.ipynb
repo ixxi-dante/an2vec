{
 "cells": [
  {
   "cell_type": "markdown",
   "metadata": {},
   "source": [
    "# Exploring word2vec"
   ]
  },
  {
   "cell_type": "code",
   "execution_count": 1,
   "metadata": {},
   "outputs": [],
   "source": [
    "from gensim.models import Word2Vec\n",
    "from nltk.corpus import gutenberg"
   ]
  },
  {
   "cell_type": "markdown",
   "metadata": {},
   "source": [
    "Test it on the bible first"
   ]
  },
  {
   "cell_type": "code",
   "execution_count": 2,
   "metadata": {},
   "outputs": [
    {
     "data": {
      "text/plain": [
       "[['[', 'The', 'King', 'James', 'Bible', ']'],\n",
       " ['The', 'Old', 'Testament', 'of', 'the', 'King', 'James', 'Bible'],\n",
       " ['The', 'First', 'Book', 'of', 'Moses', ':', 'Called', 'Genesis'],\n",
       " ['1',\n",
       "  ':',\n",
       "  '1',\n",
       "  'In',\n",
       "  'the',\n",
       "  'beginning',\n",
       "  'God',\n",
       "  'created',\n",
       "  'the',\n",
       "  'heaven',\n",
       "  'and',\n",
       "  'the',\n",
       "  'earth',\n",
       "  '.'],\n",
       " ['1',\n",
       "  ':',\n",
       "  '2',\n",
       "  'And',\n",
       "  'the',\n",
       "  'earth',\n",
       "  'was',\n",
       "  'without',\n",
       "  'form',\n",
       "  ',',\n",
       "  'and',\n",
       "  'void',\n",
       "  ';',\n",
       "  'and',\n",
       "  'darkness',\n",
       "  'was',\n",
       "  'upon',\n",
       "  'the',\n",
       "  'face',\n",
       "  'of',\n",
       "  'the',\n",
       "  'deep',\n",
       "  '.'],\n",
       " ['And',\n",
       "  'the',\n",
       "  'Spirit',\n",
       "  'of',\n",
       "  'God',\n",
       "  'moved',\n",
       "  'upon',\n",
       "  'the',\n",
       "  'face',\n",
       "  'of',\n",
       "  'the',\n",
       "  'waters',\n",
       "  '.'],\n",
       " ['1',\n",
       "  ':',\n",
       "  '3',\n",
       "  'And',\n",
       "  'God',\n",
       "  'said',\n",
       "  ',',\n",
       "  'Let',\n",
       "  'there',\n",
       "  'be',\n",
       "  'light',\n",
       "  ':',\n",
       "  'and',\n",
       "  'there',\n",
       "  'was',\n",
       "  'light',\n",
       "  '.'],\n",
       " ['1',\n",
       "  ':',\n",
       "  '4',\n",
       "  'And',\n",
       "  'God',\n",
       "  'saw',\n",
       "  'the',\n",
       "  'light',\n",
       "  ',',\n",
       "  'that',\n",
       "  'it',\n",
       "  'was',\n",
       "  'good',\n",
       "  ':',\n",
       "  'and',\n",
       "  'God',\n",
       "  'divided',\n",
       "  'the',\n",
       "  'light',\n",
       "  'from',\n",
       "  'the',\n",
       "  'darkness',\n",
       "  '.'],\n",
       " ['1',\n",
       "  ':',\n",
       "  '5',\n",
       "  'And',\n",
       "  'God',\n",
       "  'called',\n",
       "  'the',\n",
       "  'light',\n",
       "  'Day',\n",
       "  ',',\n",
       "  'and',\n",
       "  'the',\n",
       "  'darkness',\n",
       "  'he',\n",
       "  'called',\n",
       "  'Night',\n",
       "  '.'],\n",
       " ['And',\n",
       "  'the',\n",
       "  'evening',\n",
       "  'and',\n",
       "  'the',\n",
       "  'morning',\n",
       "  'were',\n",
       "  'the',\n",
       "  'first',\n",
       "  'day',\n",
       "  '.']]"
      ]
     },
     "execution_count": 2,
     "metadata": {},
     "output_type": "execute_result"
    }
   ],
   "source": [
    "gutenberg.sents('bible-kjv.txt')[:10]"
   ]
  },
  {
   "cell_type": "code",
   "execution_count": 3,
   "metadata": {},
   "outputs": [],
   "source": [
    "model = Word2Vec(gutenberg.sents('bible-kjv.txt'), size=100, window=5, min_count=5, workers=4)"
   ]
  },
  {
   "cell_type": "code",
   "execution_count": 4,
   "metadata": {},
   "outputs": [
    {
     "data": {
      "text/plain": [
       "[('queen', 0.6278363466262817),\n",
       " ('daughter', 0.6167049407958984),\n",
       " ('messengers', 0.5984827280044556),\n",
       " ('prophet', 0.5975310802459717),\n",
       " ('Esther', 0.5897767543792725),\n",
       " ('governor', 0.5791627168655396),\n",
       " ('Daniel', 0.5720174312591553),\n",
       " ('John', 0.5630799531936646),\n",
       " ('Paul', 0.5595989227294922),\n",
       " ('Jeremiah', 0.5551025867462158)]"
      ]
     },
     "execution_count": 4,
     "metadata": {},
     "output_type": "execute_result"
    }
   ],
   "source": [
    "model.wv.most_similar(positive=['king', 'woman'], negative=['man'])"
   ]
  },
  {
   "cell_type": "code",
   "execution_count": 5,
   "metadata": {},
   "outputs": [
    {
     "data": {
      "text/plain": [
       "[('Neriah', 0.7001906633377075),\n",
       " ('James', 0.6782208681106567),\n",
       " ('Ahaziah', 0.6768841743469238),\n",
       " ('Ebed', 0.6626655459403992),\n",
       " ('Amoz', 0.6515213251113892),\n",
       " ('Magdalene', 0.6504315137863159),\n",
       " ('Alphaeus', 0.6501900553703308),\n",
       " ('Jerubbaal', 0.6500219702720642),\n",
       " ('Caleb', 0.6490577459335327),\n",
       " ('Gemariah', 0.6485959887504578)]"
      ]
     },
     "execution_count": 5,
     "metadata": {},
     "output_type": "execute_result"
    }
   ],
   "source": [
    "model.wv.most_similar(positive=['Mary', 'man'], negative=['woman'])"
   ]
  },
  {
   "cell_type": "markdown",
   "metadata": {},
   "source": [
    "Alright, that was interesting. Simple, and works not too bad."
   ]
  },
  {
   "cell_type": "markdown",
   "metadata": {},
   "source": [
    "Now load the SoSweet word2vecs created by Jacobo"
   ]
  },
  {
   "cell_type": "code",
   "execution_count": 6,
   "metadata": {},
   "outputs": [],
   "source": [
    "model = Word2Vec.load('data/sosweet-w2v/dim_50/lowe_dim_sosweet2vec.w2v')"
   ]
  },
  {
   "cell_type": "code",
   "execution_count": 7,
   "metadata": {},
   "outputs": [
    {
     "data": {
      "text/plain": [
       "[('reine', 0.7663278579711914),\n",
       " ('majeste', 0.7296997308731079),\n",
       " ('princesse', 0.6763738393783569),\n",
       " ('petitefille', 0.6650221347808838),\n",
       " ('vi', 0.6613208055496216),\n",
       " ('mereâ\\x80¦', 0.652908205986023),\n",
       " ('fiancee', 0.6514036655426025),\n",
       " ('patronne', 0.6507663726806641),\n",
       " ('digniteâ\\x80\\x9d', 0.642798900604248),\n",
       " ('maitresse', 0.6418311595916748)]"
      ]
     },
     "execution_count": 7,
     "metadata": {},
     "output_type": "execute_result"
    }
   ],
   "source": [
    "model.wv.most_similar(positive=['roi', 'femme'], negative=['homme'])"
   ]
  },
  {
   "cell_type": "markdown",
   "metadata": {},
   "source": [
    "The simple operation also works here"
   ]
  }
 ],
 "metadata": {
  "kernelspec": {
   "display_name": "Python 3",
   "language": "python",
   "name": "python3"
  },
  "language_info": {
   "codemirror_mode": {
    "name": "ipython",
    "version": 3
   },
   "file_extension": ".py",
   "mimetype": "text/x-python",
   "name": "python",
   "nbconvert_exporter": "python",
   "pygments_lexer": "ipython3",
   "version": "3.6.3"
  }
 },
 "nbformat": 4,
 "nbformat_minor": 2
}
