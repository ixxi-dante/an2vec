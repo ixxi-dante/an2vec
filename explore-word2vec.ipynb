{
 "cells": [
  {
   "cell_type": "markdown",
   "metadata": {},
   "source": [
    "# Exploring word2vec"
   ]
  },
  {
   "cell_type": "code",
   "execution_count": 1,
   "metadata": {},
   "outputs": [],
   "source": [
    "from gensim.models import Word2Vec\n",
    "from nltk.corpus import gutenberg"
   ]
  },
  {
   "cell_type": "markdown",
   "metadata": {},
   "source": [
    "Test it on the bible first"
   ]
  },
  {
   "cell_type": "code",
   "execution_count": 2,
   "metadata": {},
   "outputs": [
    {
     "data": {
      "text/plain": [
       "[['[', 'The', 'King', 'James', 'Bible', ']'],\n",
       " ['The', 'Old', 'Testament', 'of', 'the', 'King', 'James', 'Bible'],\n",
       " ['The', 'First', 'Book', 'of', 'Moses', ':', 'Called', 'Genesis'],\n",
       " ['1',\n",
       "  ':',\n",
       "  '1',\n",
       "  'In',\n",
       "  'the',\n",
       "  'beginning',\n",
       "  'God',\n",
       "  'created',\n",
       "  'the',\n",
       "  'heaven',\n",
       "  'and',\n",
       "  'the',\n",
       "  'earth',\n",
       "  '.'],\n",
       " ['1',\n",
       "  ':',\n",
       "  '2',\n",
       "  'And',\n",
       "  'the',\n",
       "  'earth',\n",
       "  'was',\n",
       "  'without',\n",
       "  'form',\n",
       "  ',',\n",
       "  'and',\n",
       "  'void',\n",
       "  ';',\n",
       "  'and',\n",
       "  'darkness',\n",
       "  'was',\n",
       "  'upon',\n",
       "  'the',\n",
       "  'face',\n",
       "  'of',\n",
       "  'the',\n",
       "  'deep',\n",
       "  '.'],\n",
       " ['And',\n",
       "  'the',\n",
       "  'Spirit',\n",
       "  'of',\n",
       "  'God',\n",
       "  'moved',\n",
       "  'upon',\n",
       "  'the',\n",
       "  'face',\n",
       "  'of',\n",
       "  'the',\n",
       "  'waters',\n",
       "  '.'],\n",
       " ['1',\n",
       "  ':',\n",
       "  '3',\n",
       "  'And',\n",
       "  'God',\n",
       "  'said',\n",
       "  ',',\n",
       "  'Let',\n",
       "  'there',\n",
       "  'be',\n",
       "  'light',\n",
       "  ':',\n",
       "  'and',\n",
       "  'there',\n",
       "  'was',\n",
       "  'light',\n",
       "  '.'],\n",
       " ['1',\n",
       "  ':',\n",
       "  '4',\n",
       "  'And',\n",
       "  'God',\n",
       "  'saw',\n",
       "  'the',\n",
       "  'light',\n",
       "  ',',\n",
       "  'that',\n",
       "  'it',\n",
       "  'was',\n",
       "  'good',\n",
       "  ':',\n",
       "  'and',\n",
       "  'God',\n",
       "  'divided',\n",
       "  'the',\n",
       "  'light',\n",
       "  'from',\n",
       "  'the',\n",
       "  'darkness',\n",
       "  '.'],\n",
       " ['1',\n",
       "  ':',\n",
       "  '5',\n",
       "  'And',\n",
       "  'God',\n",
       "  'called',\n",
       "  'the',\n",
       "  'light',\n",
       "  'Day',\n",
       "  ',',\n",
       "  'and',\n",
       "  'the',\n",
       "  'darkness',\n",
       "  'he',\n",
       "  'called',\n",
       "  'Night',\n",
       "  '.'],\n",
       " ['And',\n",
       "  'the',\n",
       "  'evening',\n",
       "  'and',\n",
       "  'the',\n",
       "  'morning',\n",
       "  'were',\n",
       "  'the',\n",
       "  'first',\n",
       "  'day',\n",
       "  '.']]"
      ]
     },
     "execution_count": 2,
     "metadata": {},
     "output_type": "execute_result"
    }
   ],
   "source": [
    "gutenberg.sents('bible-kjv.txt')[:10]"
   ]
  },
  {
   "cell_type": "code",
   "execution_count": 3,
   "metadata": {},
   "outputs": [],
   "source": [
    "model = Word2Vec(gutenberg.sents('bible-kjv.txt'), size=100, window=5, min_count=5, workers=4)"
   ]
  },
  {
   "cell_type": "code",
   "execution_count": 4,
   "metadata": {},
   "outputs": [
    {
     "data": {
      "text/plain": [
       "[('queen', 0.6577045917510986),\n",
       " ('Esther', 0.5929559469223022),\n",
       " ('messengers', 0.5779942274093628),\n",
       " ('Daniel', 0.5625100135803223),\n",
       " ('Paul', 0.5617103576660156),\n",
       " ('governor', 0.5542446374893188),\n",
       " ('daughter', 0.5532283186912537),\n",
       " ('letters', 0.5447052717208862),\n",
       " ('prophet', 0.5282307863235474),\n",
       " ('messenger', 0.5206855535507202)]"
      ]
     },
     "execution_count": 4,
     "metadata": {},
     "output_type": "execute_result"
    }
   ],
   "source": [
    "model.wv.most_similar(positive=['king', 'woman'], negative=['man'])"
   ]
  },
  {
   "cell_type": "code",
   "execution_count": 5,
   "metadata": {},
   "outputs": [
    {
     "data": {
      "text/plain": [
       "[('Zebedee', 0.6821093559265137),\n",
       " ('Neriah', 0.651646614074707),\n",
       " ('Tamar', 0.6505178213119507),\n",
       " ('James', 0.6477090716362),\n",
       " ('steward', 0.6470364332199097),\n",
       " ('eldest', 0.6426118612289429),\n",
       " ('Goliath', 0.6393158435821533),\n",
       " ('Timothy', 0.6385890245437622),\n",
       " ('Abishai', 0.6362513899803162),\n",
       " ('Ahaziah', 0.633851170539856)]"
      ]
     },
     "execution_count": 5,
     "metadata": {},
     "output_type": "execute_result"
    }
   ],
   "source": [
    "model.wv.most_similar(positive=['Mary', 'man'], negative=['woman'])"
   ]
  },
  {
   "cell_type": "markdown",
   "metadata": {},
   "source": [
    "Alright, that was interesting. Simple, and works not too bad."
   ]
  },
  {
   "cell_type": "markdown",
   "metadata": {},
   "source": [
    "Now load the SoSweet word2vecs created by Jacobo"
   ]
  },
  {
   "cell_type": "code",
   "execution_count": 6,
   "metadata": {},
   "outputs": [],
   "source": [
    "model = Word2Vec.load('data/sosweet/data_files/w2v_files/dim_50/lowe_dim_sosweet2vec.w2v')"
   ]
  },
  {
   "cell_type": "code",
   "execution_count": 7,
   "metadata": {},
   "outputs": [
    {
     "data": {
      "text/plain": [
       "[('reine', 0.7663278579711914),\n",
       " ('majeste', 0.7296997308731079),\n",
       " ('princesse', 0.6763738393783569),\n",
       " ('petitefille', 0.6650221347808838),\n",
       " ('vi', 0.6613208055496216),\n",
       " ('mereâ\\x80¦', 0.652908205986023),\n",
       " ('fiancee', 0.6514036655426025),\n",
       " ('patronne', 0.6507663726806641),\n",
       " ('digniteâ\\x80\\x9d', 0.642798900604248),\n",
       " ('maitresse', 0.6418311595916748)]"
      ]
     },
     "execution_count": 7,
     "metadata": {},
     "output_type": "execute_result"
    }
   ],
   "source": [
    "model.wv.most_similar(positive=['roi', 'femme'], negative=['homme'])"
   ]
  },
  {
   "cell_type": "markdown",
   "metadata": {},
   "source": [
    "The simple operation also works here"
   ]
  }
 ],
 "metadata": {
  "kernelspec": {
   "display_name": "Python 3",
   "language": "python",
   "name": "python3"
  },
  "language_info": {
   "codemirror_mode": {
    "name": "ipython",
    "version": 3
   },
   "file_extension": ".py",
   "mimetype": "text/x-python",
   "name": "python",
   "nbconvert_exporter": "python",
   "pygments_lexer": "ipython3",
   "version": "3.6.3"
  }
 },
 "nbformat": 4,
 "nbformat_minor": 2
}
